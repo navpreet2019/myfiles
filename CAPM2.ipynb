{
 "cells": [
  {
   "cell_type": "code",
   "execution_count": 3,
   "id": "57156a03",
   "metadata": {},
   "outputs": [],
   "source": [
    "\n",
    "assets = ['WMT', 'FB', 'BP']\n",
    "pf_data = pd.read_csv('WMT_FB_BP_2014_2017.csv', index_col='Date')"
   ]
  },
  {
   "cell_type": "code",
   "execution_count": 4,
   "id": "c1bf0b56",
   "metadata": {},
   "outputs": [
    {
     "data": {
      "text/html": [
       "<div>\n",
       "<style scoped>\n",
       "    .dataframe tbody tr th:only-of-type {\n",
       "        vertical-align: middle;\n",
       "    }\n",
       "\n",
       "    .dataframe tbody tr th {\n",
       "        vertical-align: top;\n",
       "    }\n",
       "\n",
       "    .dataframe thead th {\n",
       "        text-align: right;\n",
       "    }\n",
       "</style>\n",
       "<table border=\"1\" class=\"dataframe\">\n",
       "  <thead>\n",
       "    <tr style=\"text-align: right;\">\n",
       "      <th></th>\n",
       "      <th>WMT</th>\n",
       "      <th>FB</th>\n",
       "      <th>BP</th>\n",
       "    </tr>\n",
       "    <tr>\n",
       "      <th>Date</th>\n",
       "      <th></th>\n",
       "      <th></th>\n",
       "      <th></th>\n",
       "    </tr>\n",
       "  </thead>\n",
       "  <tbody>\n",
       "    <tr>\n",
       "      <th>2013-12-31</th>\n",
       "      <td>70.753525</td>\n",
       "      <td>54.650002</td>\n",
       "      <td>37.758350</td>\n",
       "    </tr>\n",
       "    <tr>\n",
       "      <th>2014-01-02</th>\n",
       "      <td>70.951355</td>\n",
       "      <td>54.709999</td>\n",
       "      <td>37.268997</td>\n",
       "    </tr>\n",
       "    <tr>\n",
       "      <th>2014-01-03</th>\n",
       "      <td>70.717583</td>\n",
       "      <td>54.560001</td>\n",
       "      <td>37.183540</td>\n",
       "    </tr>\n",
       "    <tr>\n",
       "      <th>2014-01-06</th>\n",
       "      <td>70.321945</td>\n",
       "      <td>57.200001</td>\n",
       "      <td>37.284527</td>\n",
       "    </tr>\n",
       "    <tr>\n",
       "      <th>2014-01-07</th>\n",
       "      <td>70.537735</td>\n",
       "      <td>57.919998</td>\n",
       "      <td>37.711742</td>\n",
       "    </tr>\n",
       "  </tbody>\n",
       "</table>\n",
       "</div>"
      ],
      "text/plain": [
       "                  WMT         FB         BP\n",
       "Date                                       \n",
       "2013-12-31  70.753525  54.650002  37.758350\n",
       "2014-01-02  70.951355  54.709999  37.268997\n",
       "2014-01-03  70.717583  54.560001  37.183540\n",
       "2014-01-06  70.321945  57.200001  37.284527\n",
       "2014-01-07  70.537735  57.919998  37.711742"
      ]
     },
     "execution_count": 4,
     "metadata": {},
     "output_type": "execute_result"
    }
   ],
   "source": [
    "pf_data.head()"
   ]
  },
  {
   "cell_type": "code",
   "execution_count": 5,
   "id": "cd4a135f",
   "metadata": {},
   "outputs": [
    {
     "data": {
      "text/html": [
       "<div>\n",
       "<style scoped>\n",
       "    .dataframe tbody tr th:only-of-type {\n",
       "        vertical-align: middle;\n",
       "    }\n",
       "\n",
       "    .dataframe tbody tr th {\n",
       "        vertical-align: top;\n",
       "    }\n",
       "\n",
       "    .dataframe thead th {\n",
       "        text-align: right;\n",
       "    }\n",
       "</style>\n",
       "<table border=\"1\" class=\"dataframe\">\n",
       "  <thead>\n",
       "    <tr style=\"text-align: right;\">\n",
       "      <th></th>\n",
       "      <th>WMT</th>\n",
       "      <th>FB</th>\n",
       "      <th>BP</th>\n",
       "    </tr>\n",
       "    <tr>\n",
       "      <th>Date</th>\n",
       "      <th></th>\n",
       "      <th></th>\n",
       "      <th></th>\n",
       "    </tr>\n",
       "  </thead>\n",
       "  <tbody>\n",
       "    <tr>\n",
       "      <th>2017-12-06</th>\n",
       "      <td>96.769997</td>\n",
       "      <td>176.059998</td>\n",
       "      <td>39.580002</td>\n",
       "    </tr>\n",
       "    <tr>\n",
       "      <th>2017-12-07</th>\n",
       "      <td>96.779999</td>\n",
       "      <td>180.139999</td>\n",
       "      <td>39.310001</td>\n",
       "    </tr>\n",
       "    <tr>\n",
       "      <th>2017-12-08</th>\n",
       "      <td>96.550003</td>\n",
       "      <td>179.000000</td>\n",
       "      <td>39.639999</td>\n",
       "    </tr>\n",
       "    <tr>\n",
       "      <th>2017-12-11</th>\n",
       "      <td>96.930000</td>\n",
       "      <td>179.039993</td>\n",
       "      <td>39.930000</td>\n",
       "    </tr>\n",
       "    <tr>\n",
       "      <th>2017-12-12</th>\n",
       "      <td>96.699997</td>\n",
       "      <td>176.960007</td>\n",
       "      <td>40.660000</td>\n",
       "    </tr>\n",
       "  </tbody>\n",
       "</table>\n",
       "</div>"
      ],
      "text/plain": [
       "                  WMT          FB         BP\n",
       "Date                                        \n",
       "2017-12-06  96.769997  176.059998  39.580002\n",
       "2017-12-07  96.779999  180.139999  39.310001\n",
       "2017-12-08  96.550003  179.000000  39.639999\n",
       "2017-12-11  96.930000  179.039993  39.930000\n",
       "2017-12-12  96.699997  176.960007  40.660000"
      ]
     },
     "execution_count": 5,
     "metadata": {},
     "output_type": "execute_result"
    }
   ],
   "source": [
    "pf_data.tail()"
   ]
  },
  {
   "cell_type": "code",
   "execution_count": 6,
   "id": "a84d58c9",
   "metadata": {},
   "outputs": [
    {
     "data": {
      "text/plain": [
       "<AxesSubplot:xlabel='Date'>"
      ]
     },
     "execution_count": 6,
     "metadata": {},
     "output_type": "execute_result"
    },
    {
     "data": {
      "image/png": "[encoded data removed]",
      "text/plain": [
       "<Figure size 720x360 with 1 Axes>"
      ]
     },
     "metadata": {
      "needs_background": "light"
     },
     "output_type": "display_data"
    }
   ],
   "source": [
    "(pf_data / pf_data.iloc[0] * 100).plot(figsize=(10, 5))"
   ]
  },
  {
   "cell_type": "code",
   "execution_count": 8,
   "id": "85975cdc",
   "metadata": {},
   "outputs": [],
   "source": [
    "import numpy as np\n",
    "log_returns = np.log(pf_data / pf_data.shift(1))"
   ]
  },
  {
   "cell_type": "code",
   "execution_count": 9,
   "id": "fccdfd3b",
   "metadata": {},
   "outputs": [
    {
     "data": {
      "text/plain": [
       "WMT    0.078495\n",
       "FB     0.295220\n",
       "BP     0.018603\n",
       "dtype: float64"
      ]
     },
     "execution_count": 9,
     "metadata": {},
     "output_type": "execute_result"
    }
   ],
   "source": [
    "log_returns.mean() * 250"
   ]
  },
  {
   "cell_type": "code",
   "execution_count": 10,
   "id": "c7ff9c75",
   "metadata": {},
   "outputs": [
    {
     "data": {
      "text/html": [
       "<div>\n",
       "<style scoped>\n",
       "    .dataframe tbody tr th:only-of-type {\n",
       "        vertical-align: middle;\n",
       "    }\n",
       "\n",
       "    .dataframe tbody tr th {\n",
       "        vertical-align: top;\n",
       "    }\n",
       "\n",
       "    .dataframe thead th {\n",
       "        text-align: right;\n",
       "    }\n",
       "</style>\n",
       "<table border=\"1\" class=\"dataframe\">\n",
       "  <thead>\n",
       "    <tr style=\"text-align: right;\">\n",
       "      <th></th>\n",
       "      <th>WMT</th>\n",
       "      <th>FB</th>\n",
       "      <th>BP</th>\n",
       "    </tr>\n",
       "  </thead>\n",
       "  <tbody>\n",
       "    <tr>\n",
       "      <th>WMT</th>\n",
       "      <td>0.032659</td>\n",
       "      <td>0.007449</td>\n",
       "      <td>0.005651</td>\n",
       "    </tr>\n",
       "    <tr>\n",
       "      <th>FB</th>\n",
       "      <td>0.007449</td>\n",
       "      <td>0.074427</td>\n",
       "      <td>0.013889</td>\n",
       "    </tr>\n",
       "    <tr>\n",
       "      <th>BP</th>\n",
       "      <td>0.005651</td>\n",
       "      <td>0.013889</td>\n",
       "      <td>0.056863</td>\n",
       "    </tr>\n",
       "  </tbody>\n",
       "</table>\n",
       "</div>"
      ],
      "text/plain": [
       "          WMT        FB        BP\n",
       "WMT  0.032659  0.007449  0.005651\n",
       "FB   0.007449  0.074427  0.013889\n",
       "BP   0.005651  0.013889  0.056863"
      ]
     },
     "execution_count": 10,
     "metadata": {},
     "output_type": "execute_result"
    }
   ],
   "source": [
    "log_returns.cov() * 250"
   ]
  },
  {
   "cell_type": "code",
   "execution_count": 11,
   "id": "0ea5caa0",
   "metadata": {},
   "outputs": [
    {
     "data": {
      "text/html": [
       "<div>\n",
       "<style scoped>\n",
       "    .dataframe tbody tr th:only-of-type {\n",
       "        vertical-align: middle;\n",
       "    }\n",
       "\n",
       "    .dataframe tbody tr th {\n",
       "        vertical-align: top;\n",
       "    }\n",
       "\n",
       "    .dataframe thead th {\n",
       "        text-align: right;\n",
       "    }\n",
       "</style>\n",
       "<table border=\"1\" class=\"dataframe\">\n",
       "  <thead>\n",
       "    <tr style=\"text-align: right;\">\n",
       "      <th></th>\n",
       "      <th>WMT</th>\n",
       "      <th>FB</th>\n",
       "      <th>BP</th>\n",
       "    </tr>\n",
       "  </thead>\n",
       "  <tbody>\n",
       "    <tr>\n",
       "      <th>WMT</th>\n",
       "      <td>1.000000</td>\n",
       "      <td>0.151081</td>\n",
       "      <td>0.131138</td>\n",
       "    </tr>\n",
       "    <tr>\n",
       "      <th>FB</th>\n",
       "      <td>0.151081</td>\n",
       "      <td>1.000000</td>\n",
       "      <td>0.213505</td>\n",
       "    </tr>\n",
       "    <tr>\n",
       "      <th>BP</th>\n",
       "      <td>0.131138</td>\n",
       "      <td>0.213505</td>\n",
       "      <td>1.000000</td>\n",
       "    </tr>\n",
       "  </tbody>\n",
       "</table>\n",
       "</div>"
      ],
      "text/plain": [
       "          WMT        FB        BP\n",
       "WMT  1.000000  0.151081  0.131138\n",
       "FB   0.151081  1.000000  0.213505\n",
       "BP   0.131138  0.213505  1.000000"
      ]
     },
     "execution_count": 11,
     "metadata": {},
     "output_type": "execute_result"
    }
   ],
   "source": [
    "log_returns.corr()"
   ]
  },
  {
   "cell_type": "code",
   "execution_count": 12,
   "id": "a15f2499",
   "metadata": {},
   "outputs": [],
   "source": [
    "num_assets = len(assets)"
   ]
  },
  {
   "cell_type": "code",
   "execution_count": 13,
   "id": "8543ecbb",
   "metadata": {},
   "outputs": [
    {
     "data": {
      "text/plain": [
       "3"
      ]
     },
     "execution_count": 13,
     "metadata": {},
     "output_type": "execute_result"
    }
   ],
   "source": [
    "num_assets"
   ]
  },
  {
   "cell_type": "code",
   "execution_count": 14,
   "id": "84e8d023",
   "metadata": {},
   "outputs": [
    {
     "data": {
      "text/plain": [
       "array([0.58235833, 0.37161826])"
      ]
     },
     "execution_count": 14,
     "metadata": {},
     "output_type": "execute_result"
    }
   ],
   "source": [
    "arr = np.random.random(2)\n",
    "arr"
   ]
  },
  {
   "cell_type": "code",
   "execution_count": 15,
   "id": "a5fea6ae",
   "metadata": {},
   "outputs": [
    {
     "data": {
      "text/plain": [
       "0.9539765921711924"
      ]
     },
     "execution_count": 15,
     "metadata": {},
     "output_type": "execute_result"
    }
   ],
   "source": [
    "arr[0] + arr[1]"
   ]
  },
  {
   "cell_type": "code",
   "execution_count": 16,
   "id": "9564344f",
   "metadata": {},
   "outputs": [
    {
     "data": {
      "text/plain": [
       "array([0.25262738, 0.21414901, 0.53322361])"
      ]
     },
     "execution_count": 16,
     "metadata": {},
     "output_type": "execute_result"
    }
   ],
   "source": [
    "weights = np.random.random(num_assets)\n",
    "weights /= np.sum(weights)\n",
    "weights\n"
   ]
  },
  {
   "cell_type": "code",
   "execution_count": 17,
   "id": "674dd22b",
   "metadata": {},
   "outputs": [
    {
     "data": {
      "text/plain": [
       "1.0"
      ]
     },
     "execution_count": 17,
     "metadata": {},
     "output_type": "execute_result"
    }
   ],
   "source": [
    "weights[0] + weights[1] + weights[2]\n"
   ]
  },
  {
   "cell_type": "code",
   "execution_count": 19,
   "id": "25121413",
   "metadata": {},
   "outputs": [
    {
     "data": {
      "text/plain": [
       "0.09297037814094948"
      ]
     },
     "execution_count": 19,
     "metadata": {},
     "output_type": "execute_result"
    }
   ],
   "source": [
    "# Expected portfolio return\n",
    "np.sum(weights * log_returns.mean()) * 250"
   ]
  },
  {
   "cell_type": "code",
   "execution_count": 20,
   "id": "be8a8fa6",
   "metadata": {},
   "outputs": [
    {
     "data": {
      "text/plain": [
       "0.02716562248946571"
      ]
     },
     "execution_count": 20,
     "metadata": {},
     "output_type": "execute_result"
    }
   ],
   "source": [
    "# expected portfolio variance\n",
    "np.dot(weights.T, np.dot(log_returns.cov() * 250, weights))"
   ]
  },
  {
   "cell_type": "code",
   "execution_count": 21,
   "id": "810c5959",
   "metadata": {},
   "outputs": [
    {
     "data": {
      "text/plain": [
       "0.16481996993527728"
      ]
     },
     "execution_count": 21,
     "metadata": {},
     "output_type": "execute_result"
    }
   ],
   "source": [
    "#expected portfolio volatility\n",
    "np.sqrt(np.dot(weights.T,np.dot(log_returns.cov() * 250, weights)))"
   ]
  },
  {
   "cell_type": "code",
   "execution_count": 22,
   "id": "92984813",
   "metadata": {},
   "outputs": [
    {
     "data": {
      "text/plain": [
       "(array([0.20884887, 0.17844358, 0.1057458 , 0.08654765, 0.10992051,\n",
       "        0.04121948, 0.19225639, 0.14491249, 0.08333083, 0.0917468 ,\n",
       "        0.10939005, 0.15672142, 0.11539025, 0.19323736, 0.07339122,\n",
       "        0.17777291, 0.15608624, 0.124357  , 0.16514736, 0.15396231,\n",
       "        0.092804  , 0.18637892, 0.12306651, 0.1325015 , 0.14259288,\n",
       "        0.11181746, 0.14372464, 0.08945969, 0.13549352, 0.14167846,\n",
       "        0.12855839, 0.08123618, 0.1135001 , 0.12175151, 0.10985305,\n",
       "        0.14027541, 0.18240213, 0.15931642, 0.09569468, 0.08046123,\n",
       "        0.0939954 , 0.15876579, 0.12783753, 0.12294545, 0.13349055,\n",
       "        0.10244475, 0.0670248 , 0.17232368, 0.10380909, 0.13792662,\n",
       "        0.26148018, 0.15418268, 0.13940749, 0.17604004, 0.08717866,\n",
       "        0.14768567, 0.11397717, 0.07074054, 0.17022   , 0.1025112 ,\n",
       "        0.1657994 , 0.11216028, 0.0781826 , 0.1528748 , 0.14200176,\n",
       "        0.12973585, 0.19314634, 0.10062322, 0.13771171, 0.0728881 ,\n",
       "        0.15014946, 0.15779682, 0.07787315, 0.12947095, 0.07070785,\n",
       "        0.2162581 , 0.09478957, 0.13697535, 0.0928605 , 0.07984172,\n",
       "        0.14041626, 0.15387042, 0.10890428, 0.1511373 , 0.12034957,\n",
       "        0.06034745, 0.19124013, 0.08184426, 0.14060238, 0.13351901,\n",
       "        0.12888716, 0.14264829, 0.10020366, 0.12584999, 0.21040964,\n",
       "        0.11696797, 0.15551799, 0.26078919, 0.131702  , 0.08153658,\n",
       "        0.07001471, 0.20862453, 0.13597538, 0.11282542, 0.23067999,\n",
       "        0.14399114, 0.22727237, 0.10923326, 0.14187725, 0.14225347,\n",
       "        0.13716551, 0.11635996, 0.0768581 , 0.17038122, 0.10920241,\n",
       "        0.06747907, 0.10930471, 0.0791106 , 0.09401536, 0.2205672 ,\n",
       "        0.09616508, 0.11774898, 0.10236459, 0.07786264, 0.22746998,\n",
       "        0.10954085, 0.17464499, 0.17730684, 0.14351216, 0.07741543,\n",
       "        0.14055516, 0.12186168, 0.0969489 , 0.09616137, 0.16087372,\n",
       "        0.08603466, 0.16922802, 0.06620784, 0.18120048, 0.09731541,\n",
       "        0.06157419, 0.08477309, 0.13392375, 0.1313394 , 0.1570412 ,\n",
       "        0.12261585, 0.08847954, 0.20241574, 0.13717433, 0.08213194,\n",
       "        0.14815605, 0.24549058, 0.11627623, 0.11128522, 0.09287121,\n",
       "        0.18958602, 0.08395266, 0.13788723, 0.18937512, 0.19150921,\n",
       "        0.12865464, 0.22075656, 0.13949604, 0.18464542, 0.12184888,\n",
       "        0.08659678, 0.15684079, 0.12122927, 0.05498756, 0.15986649,\n",
       "        0.24902679, 0.16064495, 0.15564398, 0.09251314, 0.06157988,\n",
       "        0.212852  , 0.17872786, 0.16343405, 0.12114394, 0.19334239,\n",
       "        0.17389737, 0.19600142, 0.21941318, 0.08579877, 0.12685855,\n",
       "        0.12273889, 0.14956171, 0.11644317, 0.14424439, 0.23206123,\n",
       "        0.08260982, 0.1880214 , 0.14802447, 0.12311323, 0.0765017 ,\n",
       "        0.14906234, 0.13098838, 0.10560126, 0.16141156, 0.12582432,\n",
       "        0.1332006 , 0.06520036, 0.13455294, 0.13463565, 0.12015604,\n",
       "        0.13670838, 0.15664649, 0.15454505, 0.11086765, 0.03863611,\n",
       "        0.15341997, 0.10148884, 0.14955597, 0.15042553, 0.14892369,\n",
       "        0.11479743, 0.20971358, 0.18334081, 0.12216693, 0.07079119,\n",
       "        0.14521598, 0.1299665 , 0.07445896, 0.199642  , 0.11392792,\n",
       "        0.15553741, 0.06743207, 0.09590242, 0.16895602, 0.09800772,\n",
       "        0.10006667, 0.16398693, 0.11854353, 0.17246534, 0.1571825 ,\n",
       "        0.05759623, 0.1216687 , 0.14653005, 0.06158446, 0.11320258,\n",
       "        0.19862047, 0.12070034, 0.08332728, 0.05730623, 0.07323564,\n",
       "        0.05587082, 0.12326952, 0.12372684, 0.15973506, 0.0548637 ,\n",
       "        0.16106845, 0.14086241, 0.05450255, 0.0644618 , 0.14322621,\n",
       "        0.10874227, 0.15456375, 0.19958452, 0.15168826, 0.18666374,\n",
       "        0.07193227, 0.19978544, 0.18653096, 0.07683658, 0.1053635 ,\n",
       "        0.16851887, 0.1652538 , 0.15062225, 0.17041794, 0.07942128,\n",
       "        0.08544868, 0.25284972, 0.21202979, 0.17042107, 0.15518216,\n",
       "        0.09713815, 0.14115595, 0.10238193, 0.07639276, 0.17099282,\n",
       "        0.1141922 , 0.14156655, 0.16251058, 0.04956748, 0.17492185,\n",
       "        0.14652216, 0.14275677, 0.06895685, 0.06462215, 0.18258651,\n",
       "        0.08187033, 0.12340678, 0.16011745, 0.16732217, 0.13052892,\n",
       "        0.14830408, 0.2020813 , 0.10723308, 0.1461171 , 0.0679349 ,\n",
       "        0.03926292, 0.1061922 , 0.16092676, 0.12638044, 0.25529423,\n",
       "        0.17516794, 0.17325542, 0.1355804 , 0.16530659, 0.14464187,\n",
       "        0.11045357, 0.15764038, 0.06989283, 0.13840684, 0.11212556,\n",
       "        0.13463877, 0.14599156, 0.13849229, 0.115435  , 0.05607015,\n",
       "        0.05649876, 0.10192735, 0.08880127, 0.13057134, 0.10191257,\n",
       "        0.15200328, 0.11481916, 0.13408032, 0.14962371, 0.03758126,\n",
       "        0.1011574 , 0.12751283, 0.07259528, 0.0321018 , 0.1410962 ,\n",
       "        0.07115751, 0.13321818, 0.127384  , 0.09586293, 0.15415214,\n",
       "        0.13299368, 0.10480561, 0.06525511, 0.09690117, 0.09231585,\n",
       "        0.12810137, 0.13948687, 0.13437631, 0.24621221, 0.16423174,\n",
       "        0.08295789, 0.14326966, 0.08000388, 0.21328969, 0.1073747 ,\n",
       "        0.11751932, 0.14073951, 0.12727067, 0.137692  , 0.18264634,\n",
       "        0.13769168, 0.17811346, 0.06642072, 0.07634552, 0.07389918,\n",
       "        0.120694  , 0.19323089, 0.16862529, 0.11203566, 0.17100836,\n",
       "        0.09940311, 0.139629  , 0.13717997, 0.10673008, 0.10091288,\n",
       "        0.0934479 , 0.18664013, 0.10514324, 0.08336393, 0.10320599,\n",
       "        0.11267611, 0.13862038, 0.22384557, 0.18405106, 0.17811846,\n",
       "        0.14850963, 0.11154352, 0.23966171, 0.17287558, 0.18357171,\n",
       "        0.19479986, 0.13160431, 0.14490038, 0.14048698, 0.11204436,\n",
       "        0.14552509, 0.17389695, 0.21351352, 0.13526249, 0.14144211,\n",
       "        0.05758509, 0.0887736 , 0.20788957, 0.07484123, 0.1469461 ,\n",
       "        0.06529565, 0.0674973 , 0.14905   , 0.15785286, 0.09573097,\n",
       "        0.19245855, 0.14278256, 0.08220381, 0.11952018, 0.08337548,\n",
       "        0.148725  , 0.17108125, 0.06288171, 0.09380294, 0.14541012,\n",
       "        0.07006325, 0.11891276, 0.08563404, 0.06541636, 0.10666515,\n",
       "        0.1845852 , 0.17539386, 0.15550933, 0.15187201, 0.13563628,\n",
       "        0.03793337, 0.21543116, 0.150514  , 0.17301097, 0.1354055 ,\n",
       "        0.17006027, 0.14783529, 0.1269939 , 0.18550329, 0.18565721,\n",
       "        0.12880349, 0.14348923, 0.10943152, 0.0531677 , 0.16441458,\n",
       "        0.08055605, 0.10679263, 0.18380063, 0.18971361, 0.14938773,\n",
       "        0.08632081, 0.18844811, 0.13248454, 0.10024404, 0.06048876,\n",
       "        0.15455473, 0.10043647, 0.07323334, 0.26177067, 0.07911261,\n",
       "        0.13435332, 0.04770587, 0.08345918, 0.13602071, 0.12030004,\n",
       "        0.15805255, 0.08979604, 0.13741676, 0.15064268, 0.16189397,\n",
       "        0.13296031, 0.12026957, 0.08722934, 0.15090617, 0.12396499,\n",
       "        0.16682011, 0.12830898, 0.08018128, 0.07178051, 0.1213861 ,\n",
       "        0.19910913, 0.15591754, 0.15394257, 0.1482922 , 0.09473358,\n",
       "        0.15422668, 0.15384695, 0.19988697, 0.08883167, 0.15359328,\n",
       "        0.07947472, 0.09574577, 0.12375177, 0.18290011, 0.12896452,\n",
       "        0.13863942, 0.12959623, 0.06805583, 0.06211553, 0.09574119,\n",
       "        0.21195013, 0.09735431, 0.1495459 , 0.16494779, 0.11635871,\n",
       "        0.07027665, 0.2076142 , 0.13956728, 0.12857861, 0.08166568,\n",
       "        0.21517868, 0.240902  , 0.15009353, 0.10370605, 0.09084222,\n",
       "        0.14197147, 0.07332155, 0.06243501, 0.12921379, 0.12624185,\n",
       "        0.11592485, 0.12302577, 0.18177625, 0.16179252, 0.05108098,\n",
       "        0.15806831, 0.11485305, 0.16860807, 0.135736  , 0.07871728,\n",
       "        0.12124178, 0.0594028 , 0.15106258, 0.18652388, 0.18529467,\n",
       "        0.1428005 , 0.1992108 , 0.09664025, 0.14191113, 0.19219912,\n",
       "        0.07000086, 0.13301878, 0.10531661, 0.1575456 , 0.12193108,\n",
       "        0.12890331, 0.05971493, 0.13653806, 0.16436677, 0.1129047 ,\n",
       "        0.0530738 , 0.21108696, 0.1322486 , 0.10052779, 0.18578066,\n",
       "        0.19081253, 0.19958551, 0.07455939, 0.1218663 , 0.2134163 ,\n",
       "        0.09295542, 0.12820918, 0.07759712, 0.16381931, 0.07686969,\n",
       "        0.21113565, 0.12748269, 0.16571318, 0.239206  , 0.10478258,\n",
       "        0.17487866, 0.1029876 , 0.1782792 , 0.16999602, 0.13680953,\n",
       "        0.16057798, 0.24788224, 0.19395854, 0.12763378, 0.05574642,\n",
       "        0.13083802, 0.16892205, 0.06667092, 0.05951979, 0.06017631,\n",
       "        0.15029895, 0.08885847, 0.0578569 , 0.14793439, 0.14352359,\n",
       "        0.13938275, 0.05064719, 0.19304408, 0.18647323, 0.05301229,\n",
       "        0.14021067, 0.15601569, 0.06074811, 0.13222652, 0.12009571,\n",
       "        0.18383541, 0.14277205, 0.17062863, 0.21296127, 0.089042  ,\n",
       "        0.10406501, 0.12483532, 0.07664432, 0.12848679, 0.07590195,\n",
       "        0.14674024, 0.16640213, 0.12734526, 0.07951273, 0.12774052,\n",
       "        0.1330337 , 0.12171964, 0.08689992, 0.08108373, 0.05157582,\n",
       "        0.13773854, 0.13284212, 0.15426664, 0.07592753, 0.14039816,\n",
       "        0.13927693, 0.20346804, 0.15145461, 0.18507057, 0.19419001,\n",
       "        0.12899702, 0.17634492, 0.16411874, 0.05009223, 0.08795094,\n",
       "        0.06201061, 0.1232232 , 0.11428462, 0.12351347, 0.1291293 ,\n",
       "        0.1040853 , 0.1419323 , 0.1585507 , 0.14218101, 0.11426917,\n",
       "        0.11767499, 0.10503794, 0.08293745, 0.11079975, 0.15716534,\n",
       "        0.14114557, 0.07243013, 0.13827348, 0.05418567, 0.16550991,\n",
       "        0.12260364, 0.13158593, 0.10297859, 0.14514334, 0.1655457 ,\n",
       "        0.19537787, 0.2101045 , 0.10735679, 0.16125258, 0.06524152,\n",
       "        0.15489909, 0.12759745, 0.07029043, 0.1708788 , 0.13445674,\n",
       "        0.13327295, 0.14054894, 0.19333106, 0.07977689, 0.11566965,\n",
       "        0.13432465, 0.12192368, 0.16945058, 0.13813049, 0.19063209,\n",
       "        0.1254153 , 0.13261118, 0.13365258, 0.11131729, 0.16634976,\n",
       "        0.08250773, 0.21912894, 0.0604687 , 0.16795808, 0.11691715,\n",
       "        0.09115039, 0.09956073, 0.09164047, 0.14190221, 0.15689293,\n",
       "        0.13914424, 0.14541952, 0.07376397, 0.10650265, 0.13001603,\n",
       "        0.14107757, 0.13388556, 0.14041054, 0.11673626, 0.16194254,\n",
       "        0.1647604 , 0.11201972, 0.08123179, 0.15223828, 0.04893421,\n",
       "        0.05580259, 0.13636386, 0.10130718, 0.11319792, 0.10909404,\n",
       "        0.16642584, 0.11071707, 0.22304259, 0.06995868, 0.12794385,\n",
       "        0.10584292, 0.06286792, 0.07191121, 0.08569336, 0.19353929,\n",
       "        0.18721481, 0.12046865, 0.06031616, 0.14521083, 0.17352648,\n",
       "        0.184179  , 0.13550964, 0.13703194, 0.17576297, 0.13698881,\n",
       "        0.08552522, 0.12616643, 0.11608964, 0.14047858, 0.1095545 ,\n",
       "        0.09376607, 0.1572301 , 0.10461858, 0.07028934, 0.13993313,\n",
       "        0.12129957, 0.17258199, 0.12493031, 0.11526986, 0.15459008,\n",
       "        0.04450946, 0.17901747, 0.14703619, 0.19194853, 0.16454329,\n",
       "        0.13876181, 0.05499503, 0.15289037, 0.09508111, 0.15863887,\n",
       "        0.1089326 , 0.14723545, 0.09784947, 0.14859137, 0.18834943,\n",
       "        0.21429719, 0.12396003, 0.17931059, 0.16576198, 0.17318076,\n",
       "        0.13780115, 0.19518052, 0.08733599, 0.12736811, 0.10646322,\n",
       "        0.05503469, 0.12777251, 0.17275588, 0.10082395, 0.09055753,\n",
       "        0.21127853, 0.17410679, 0.10308848, 0.1169489 , 0.18996365,\n",
       "        0.10057124, 0.16047395, 0.07915704, 0.10826822, 0.23431283,\n",
       "        0.07667738, 0.12056127, 0.16698875, 0.1385199 , 0.05901523,\n",
       "        0.11033216, 0.12426665, 0.07909886, 0.20707064, 0.05430609,\n",
       "        0.16877761, 0.08562192, 0.12523062, 0.12658044, 0.08403463,\n",
       "        0.24863518, 0.16780766, 0.1359541 , 0.11372614, 0.03948116,\n",
       "        0.10451568, 0.10802714, 0.18193238, 0.1524268 , 0.18126379,\n",
       "        0.12515266, 0.09773843, 0.11858092, 0.1417962 , 0.12455976,\n",
       "        0.07284833, 0.10744535, 0.03813445, 0.14570795, 0.18014563,\n",
       "        0.14218876, 0.08178318, 0.15096982, 0.10576411, 0.12874982,\n",
       "        0.16044819, 0.1996294 , 0.16907696, 0.18258307, 0.13453716,\n",
       "        0.07863795, 0.1492229 , 0.07363196, 0.19866607, 0.17910851,\n",
       "        0.20994814, 0.05719756, 0.16129697, 0.16577968, 0.12055158,\n",
       "        0.13675614, 0.19271377, 0.02914842, 0.10345065, 0.10765053,\n",
       "        0.15940422, 0.11868027, 0.18316224, 0.12707531, 0.15735415,\n",
       "        0.06141759, 0.15799589, 0.10626287, 0.14096313, 0.15523806,\n",
       "        0.14873776, 0.13400626, 0.15317711, 0.18771158, 0.10903971,\n",
       "        0.04226712, 0.0934521 , 0.15679811, 0.17089522, 0.17125772,\n",
       "        0.16492551, 0.11778865, 0.11346637, 0.07671119, 0.13614559,\n",
       "        0.11924937, 0.14047016, 0.09435006, 0.08231637, 0.14125288,\n",
       "        0.15485231, 0.13342223, 0.10789799, 0.11082602, 0.12578946,\n",
       "        0.13643206, 0.13666998, 0.08420052, 0.12294425, 0.08088596,\n",
       "        0.21502047, 0.17340757, 0.1422482 , 0.17943368, 0.12992723,\n",
       "        0.18216628, 0.05273798, 0.08075829, 0.13402619, 0.15365356,\n",
       "        0.14278236, 0.10051551, 0.21275612, 0.13385868, 0.0812631 ,\n",
       "        0.11467916, 0.08860799, 0.13260427, 0.13036964, 0.13075559,\n",
       "        0.06789288, 0.09902025, 0.13527337, 0.15792012, 0.14335062,\n",
       "        0.12317707, 0.06379979, 0.09570663, 0.09183381, 0.10960935,\n",
       "        0.09772362, 0.07781337, 0.12600368, 0.12386173, 0.13217181,\n",
       "        0.19158154, 0.18079436, 0.21050997, 0.15713719, 0.15429291,\n",
       "        0.11764007, 0.07103635, 0.12367278, 0.10039784, 0.14458029,\n",
       "        0.138918  , 0.1301855 , 0.18902212, 0.12693448, 0.10515516,\n",
       "        0.209     , 0.09528093, 0.15140208, 0.124824  , 0.12687139,\n",
       "        0.10977064, 0.08209982, 0.05525336, 0.12453658, 0.1408065 ,\n",
       "        0.08279751, 0.08158992, 0.17180969, 0.20293406, 0.11867903,\n",
       "        0.10734002, 0.04978484, 0.06776184, 0.05772387, 0.14554022,\n",
       "        0.1001511 , 0.12315303, 0.12271961, 0.06529167, 0.10151041,\n",
       "        0.07435118, 0.13884096, 0.18294761, 0.14656438, 0.1496633 ,\n",
       "        0.16575872, 0.11492743, 0.16747251, 0.09466036, 0.14386333,\n",
       "        0.15637194, 0.17506396, 0.03930118, 0.08880561, 0.12752787,\n",
       "        0.11723045, 0.13410679, 0.14803771, 0.13675848, 0.14583137,\n",
       "        0.14171935, 0.10842011, 0.22089729, 0.13925312, 0.07590868,\n",
       "        0.10363279, 0.15974343, 0.07802236, 0.05798823, 0.12323135,\n",
       "        0.21616625, 0.21697056, 0.1640847 , 0.10870276, 0.18113401]),\n",
       " array([0.19396862, 0.17100763, 0.14585659, 0.14583505, 0.14583822,\n",
       "        0.17150788, 0.19518179, 0.1932844 , 0.14961353, 0.15157929,\n",
       "        0.18716036, 0.16567431, 0.14628276, 0.17910215, 0.16047268,\n",
       "        0.19399614, 0.15775033, 0.15168423, 0.16199274, 0.16974427,\n",
       "        0.1503292 , 0.20542242, 0.17837819, 0.16211287, 0.17191898,\n",
       "        0.17454799, 0.18862735, 0.18345103, 0.15433715, 0.15802294,\n",
       "        0.15307671, 0.14703882, 0.1935888 , 0.15574399, 0.17990397,\n",
       "        0.17402402, 0.1774264 , 0.1670964 , 0.15042988, 0.16922804,\n",
       "        0.14495752, 0.15948919, 0.18711178, 0.19734768, 0.16996423,\n",
       "        0.2004184 , 0.14957262, 0.16636542, 0.14874739, 0.15068324,\n",
       "        0.2399155 , 0.16071139, 0.16579056, 0.16764708, 0.18996307,\n",
       "        0.1549862 , 0.17152688, 0.14884656, 0.17892245, 0.17020026,\n",
       "        0.16354424, 0.15400938, 0.1485885 , 0.17186543, 0.16661405,\n",
       "        0.15732088, 0.17815141, 0.1624615 , 0.17754637, 0.14842267,\n",
       "        0.15513214, 0.16333224, 0.15906766, 0.14953274, 0.15930206,\n",
       "        0.19663475, 0.18604729, 0.15215989, 0.16756642, 0.15604565,\n",
       "        0.16314881, 0.19466623, 0.14862208, 0.1602934 , 0.14802253,\n",
       "        0.16321425, 0.20485575, 0.16025668, 0.15475929, 0.17433121,\n",
       "        0.18299208, 0.15596864, 0.19476739, 0.16033365, 0.19200636,\n",
       "        0.14634407, 0.15936363, 0.24064622, 0.17260958, 0.15686057,\n",
       "        0.1492186 , 0.20269411, 0.15175143, 0.16069356, 0.21404175,\n",
       "        0.16526581, 0.20441226, 0.17651327, 0.15589258, 0.15535861,\n",
       "        0.15656132, 0.14990992, 0.15834072, 0.17985794, 0.1513743 ,\n",
       "        0.17120051, 0.15780896, 0.19316128, 0.14748801, 0.20119149,\n",
       "        0.15950704, 0.17057272, 0.14973289, 0.14826729, 0.20462527,\n",
       "        0.14745001, 0.19060776, 0.16920679, 0.15544546, 0.1664797 ,\n",
       "        0.15325287, 0.14810482, 0.14475699, 0.14568404, 0.16135336,\n",
       "        0.15043091, 0.17407081, 0.15177222, 0.17099749, 0.16516204,\n",
       "        0.15336628, 0.1685118 , 0.14961129, 0.1554805 , 0.1821055 ,\n",
       "        0.16172017, 0.16222211, 0.20339231, 0.16467637, 0.14704944,\n",
       "        0.1688334 , 0.22256409, 0.14580064, 0.15384469, 0.17972389,\n",
       "        0.17596917, 0.15186999, 0.15083827, 0.17736222, 0.20159355,\n",
       "        0.1615969 , 0.21137942, 0.15252156, 0.17570975, 0.18133706,\n",
       "        0.1615443 , 0.19077649, 0.14663944, 0.15753658, 0.1617205 ,\n",
       "        0.22720714, 0.16046633, 0.17178062, 0.15126879, 0.152341  ,\n",
       "        0.20383225, 0.19303629, 0.16795929, 0.18574381, 0.1797407 ,\n",
       "        0.18032007, 0.17995313, 0.21476871, 0.14903863, 0.14789663,\n",
       "        0.14946097, 0.18101375, 0.14581887, 0.1581559 , 0.21434453,\n",
       "        0.15317731, 0.17520646, 0.16305798, 0.15453865, 0.14844338,\n",
       "        0.18355255, 0.15164078, 0.17500368, 0.16114274, 0.14822917,\n",
       "        0.15269304, 0.1502207 , 0.14976182, 0.15732896, 0.19272773,\n",
       "        0.1529038 , 0.19354594, 0.15770911, 0.16109808, 0.18140398,\n",
       "        0.15655009, 0.17324095, 0.16521889, 0.18755277, 0.16817036,\n",
       "        0.14660024, 0.20277424, 0.18790716, 0.14701436, 0.16567358,\n",
       "        0.15666856, 0.1639923 , 0.15834447, 0.18774735, 0.14586081,\n",
       "        0.17512119, 0.16405803, 0.15658371, 0.17713905, 0.15951479,\n",
       "        0.16743038, 0.18578935, 0.16750967, 0.1728956 , 0.16417568,\n",
       "        0.15439504, 0.15331781, 0.1830376 , 0.16081688, 0.17596886,\n",
       "        0.18171366, 0.15373408, 0.14903394, 0.17562349, 0.15796106,\n",
       "        0.1583661 , 0.16173249, 0.18093838, 0.16991174, 0.15667861,\n",
       "        0.16031122, 0.15280593, 0.15668452, 0.15285392, 0.18459819,\n",
       "        0.14503741, 0.17701017, 0.18426495, 0.15756266, 0.19713479,\n",
       "        0.15908695, 0.1868008 , 0.17386957, 0.1501842 , 0.17145653,\n",
       "        0.18150748, 0.1834891 , 0.15561992, 0.17062952, 0.17056313,\n",
       "        0.16405463, 0.23947059, 0.21000585, 0.19815375, 0.15717416,\n",
       "        0.14476884, 0.18022811, 0.17587598, 0.15098102, 0.16848038,\n",
       "        0.14687261, 0.16030779, 0.16053893, 0.18722413, 0.19488529,\n",
       "        0.18119236, 0.16754656, 0.15191851, 0.15625657, 0.18420554,\n",
       "        0.18605795, 0.16297023, 0.16042908, 0.16520336, 0.195435  ,\n",
       "        0.16105891, 0.18450075, 0.16370584, 0.16037503, 0.15707213,\n",
       "        0.21140738, 0.16685368, 0.16206327, 0.1679655 , 0.23580016,\n",
       "        0.16720471, 0.17158978, 0.1724602 , 0.16191952, 0.16472478,\n",
       "        0.14968479, 0.15853545, 0.15646028, 0.15753044, 0.14923921,\n",
       "        0.14969924, 0.15686158, 0.17090001, 0.17625191, 0.152948  ,\n",
       "        0.16840229, 0.17800663, 0.16101628, 0.15841093, 0.15057989,\n",
       "        0.15732868, 0.14811864, 0.15432603, 0.16226418, 0.19964583,\n",
       "        0.15700745, 0.16725398, 0.15183189, 0.19943985, 0.15500617,\n",
       "        0.14924029, 0.16786815, 0.15006648, 0.14805553, 0.19329215,\n",
       "        0.14995248, 0.16339138, 0.15106807, 0.15705865, 0.14953604,\n",
       "        0.14800136, 0.16992345, 0.1599836 , 0.22150414, 0.19300501,\n",
       "        0.14606166, 0.17870036, 0.15884435, 0.19402509, 0.14527105,\n",
       "        0.15686394, 0.16998266, 0.14910546, 0.15067004, 0.17259456,\n",
       "        0.17039632, 0.18997298, 0.16989673, 0.14812245, 0.1508049 ,\n",
       "        0.14940814, 0.18545471, 0.19400827, 0.19726495, 0.16597227,\n",
       "        0.1522885 , 0.17309706, 0.17533329, 0.15081956, 0.14957768,\n",
       "        0.14838608, 0.17479263, 0.14652887, 0.15858109, 0.17306189,\n",
       "        0.15280668, 0.17043234, 0.210329  , 0.17270927, 0.18446475,\n",
       "        0.16769734, 0.14805668, 0.21516323, 0.18294653, 0.17214818,\n",
       "        0.19476832, 0.15105723, 0.15326621, 0.1515167 , 0.15283806,\n",
       "        0.17697665, 0.17372628, 0.19929314, 0.16742221, 0.15212977,\n",
       "        0.16819379, 0.14651075, 0.20507777, 0.15002889, 0.15380648,\n",
       "        0.15178522, 0.15021574, 0.18989487, 0.19247763, 0.14562888,\n",
       "        0.19156629, 0.17515853, 0.14651211, 0.14642551, 0.20293053,\n",
       "        0.17653374, 0.18353035, 0.19120394, 0.15012354, 0.15675668,\n",
       "        0.14965798, 0.14618388, 0.14978553, 0.19415887, 0.15405107,\n",
       "        0.17351522, 0.17984737, 0.16077184, 0.16451528, 0.15405307,\n",
       "        0.18322182, 0.19624139, 0.17278958, 0.16597288, 0.16810087,\n",
       "        0.18930399, 0.15715445, 0.15174403, 0.17656523, 0.18489796,\n",
       "        0.14985568, 0.15973125, 0.15729606, 0.20235454, 0.16262758,\n",
       "        0.14644627, 0.14528349, 0.17267694, 0.17902232, 0.15754245,\n",
       "        0.15093376, 0.18235247, 0.16252655, 0.18603368, 0.19718915,\n",
       "        0.16194648, 0.15010344, 0.14861299, 0.24488258, 0.15184984,\n",
       "        0.15658837, 0.16288016, 0.14867707, 0.15236892, 0.1791353 ,\n",
       "        0.16422739, 0.14563617, 0.1523144 , 0.15535734, 0.18461279,\n",
       "        0.15089372, 0.15412613, 0.17853753, 0.18549576, 0.16129672,\n",
       "        0.16863009, 0.170745  , 0.14726573, 0.16175913, 0.15079001,\n",
       "        0.18218326, 0.15801619, 0.17153355, 0.15490548, 0.15213511,\n",
       "        0.15750951, 0.15658615, 0.1862595 , 0.16536592, 0.15647796,\n",
       "        0.15375288, 0.14632473, 0.15391778, 0.1717907 , 0.15550009,\n",
       "        0.1560372 , 0.15105153, 0.167701  , 0.151738  , 0.17047443,\n",
       "        0.21135667, 0.16821516, 0.15667342, 0.1635332 , 0.14836149,\n",
       "        0.16172836, 0.2025958 , 0.15470919, 0.18423066, 0.15140142,\n",
       "        0.19779977, 0.22755263, 0.16680596, 0.14513216, 0.18001489,\n",
       "        0.19170426, 0.14889149, 0.16828013, 0.16111558, 0.15463828,\n",
       "        0.15636577, 0.14801795, 0.19160622, 0.16949235, 0.16047422,\n",
       "        0.15878435, 0.14949415, 0.16461301, 0.15308768, 0.15048941,\n",
       "        0.15244656, 0.1636183 , 0.16540285, 0.17559646, 0.17343443,\n",
       "        0.17453321, 0.18226705, 0.14816945, 0.16919582, 0.18471724,\n",
       "        0.15211165, 0.15552632, 0.15069014, 0.16398137, 0.16022713,\n",
       "        0.17577027, 0.15478828, 0.16179286, 0.16209063, 0.14861108,\n",
       "        0.16396414, 0.19439402, 0.1496201 , 0.15493485, 0.17342271,\n",
       "        0.19072882, 0.20632202, 0.15105001, 0.15738429, 0.21028297,\n",
       "        0.15886741, 0.1594251 , 0.1579183 , 0.16530912, 0.14787223,\n",
       "        0.20538306, 0.16319622, 0.16379035, 0.21633305, 0.15675147,\n",
       "        0.18358726, 0.1487997 , 0.20254025, 0.1643368 , 0.15056752,\n",
       "        0.15998246, 0.23414616, 0.18253366, 0.15908364, 0.15859895,\n",
       "        0.16221593, 0.17299122, 0.15049945, 0.15204424, 0.17200771,\n",
       "        0.1875119 , 0.16041136, 0.16798496, 0.15562865, 0.15728342,\n",
       "        0.15213676, 0.18755258, 0.19001625, 0.20362138, 0.16445622,\n",
       "        0.15750824, 0.1577797 , 0.16819528, 0.15693549, 0.14866813,\n",
       "        0.17348232, 0.1633273 , 0.18971617, 0.20333413, 0.15961014,\n",
       "        0.14495223, 0.15599547, 0.17948875, 0.14952885, 0.14908691,\n",
       "        0.16393895, 0.19824638, 0.19747324, 0.14743786, 0.1818992 ,\n",
       "        0.16459306, 0.1561274 , 0.1454738 , 0.14642046, 0.17356883,\n",
       "        0.15467867, 0.14977826, 0.16090759, 0.15374019, 0.17141052,\n",
       "        0.15274443, 0.19197775, 0.19044551, 0.1928341 , 0.17875572,\n",
       "        0.14854275, 0.18961603, 0.17995252, 0.17184557, 0.151466  ,\n",
       "        0.15269352, 0.15357033, 0.18723815, 0.14785892, 0.15270882,\n",
       "        0.18857013, 0.15557795, 0.16277323, 0.16413384, 0.15811633,\n",
       "        0.15197346, 0.1503529 , 0.18171413, 0.16111094, 0.16181387,\n",
       "        0.19493704, 0.15688417, 0.15951692, 0.18426425, 0.16230125,\n",
       "        0.18057699, 0.18123163, 0.14954628, 0.15656834, 0.16211056,\n",
       "        0.17974275, 0.19100355, 0.1606753 , 0.16008834, 0.16991586,\n",
       "        0.16779877, 0.14862013, 0.14859081, 0.19372386, 0.15051527,\n",
       "        0.1885048 , 0.1666534 , 0.17992851, 0.17778482, 0.14664682,\n",
       "        0.18420452, 0.15106153, 0.18509233, 0.1871467 , 0.18368288,\n",
       "        0.17108584, 0.15556187, 0.15901485, 0.15192656, 0.18464445,\n",
       "        0.14788176, 0.20264234, 0.15140341, 0.1974675 , 0.14804153,\n",
       "        0.15018411, 0.15114037, 0.15342318, 0.15711698, 0.15891339,\n",
       "        0.16879321, 0.18333044, 0.15299147, 0.19015774, 0.15127819,\n",
       "        0.15211997, 0.14952628, 0.15585036, 0.16046758, 0.18617328,\n",
       "        0.16164838, 0.17579044, 0.17339192, 0.15727842, 0.1649085 ,\n",
       "        0.17876805, 0.16290266, 0.16639227, 0.17761452, 0.15153948,\n",
       "        0.1764158 , 0.1478643 , 0.22173777, 0.1584971 , 0.182436  ,\n",
       "        0.14496366, 0.1747801 , 0.15943443, 0.20077884, 0.18616368,\n",
       "        0.17433075, 0.16492441, 0.16205193, 0.15822772, 0.17930743,\n",
       "        0.18718147, 0.16544901, 0.15052273, 0.16755237, 0.15910316,\n",
       "        0.15398558, 0.17338844, 0.17168442, 0.15789907, 0.15148239,\n",
       "        0.14693509, 0.1815208 , 0.15014601, 0.17786248, 0.157745  ,\n",
       "        0.14859543, 0.16586488, 0.15986212, 0.14717183, 0.15737545,\n",
       "        0.19116212, 0.19212096, 0.16575448, 0.17798399, 0.1860592 ,\n",
       "        0.16294676, 0.15334112, 0.18802664, 0.152834  , 0.15974233,\n",
       "        0.15558128, 0.15819732, 0.14851861, 0.15663092, 0.17512999,\n",
       "        0.20544937, 0.16237066, 0.17136259, 0.16231994, 0.16701357,\n",
       "        0.16846348, 0.20808541, 0.16511416, 0.14906496, 0.14988108,\n",
       "        0.17036289, 0.15154418, 0.17205092, 0.18582292, 0.1646694 ,\n",
       "        0.20863763, 0.16860077, 0.15603483, 0.16035475, 0.2005024 ,\n",
       "        0.1495652 , 0.15986744, 0.19268332, 0.14514417, 0.22091163,\n",
       "        0.14821757, 0.14793413, 0.18143156, 0.15427838, 0.16044489,\n",
       "        0.17508758, 0.18730831, 0.15091937, 0.20926805, 0.15547976,\n",
       "        0.16465386, 0.18893108, 0.15432317, 0.1476466 , 0.20511558,\n",
       "        0.22494578, 0.16549437, 0.16479609, 0.14656368, 0.19093905,\n",
       "        0.19464274, 0.14837954, 0.18235278, 0.16158884, 0.19072892,\n",
       "        0.15768082, 0.15698074, 0.14824172, 0.15751503, 0.14894557,\n",
       "        0.15252494, 0.18862224, 0.19854846, 0.15348081, 0.17403138,\n",
       "        0.17656628, 0.17655333, 0.1811016 , 0.16460678, 0.15413429,\n",
       "        0.19446466, 0.1862332 , 0.16577129, 0.20536512, 0.15116931,\n",
       "        0.18096394, 0.15824774, 0.20396754, 0.1823153 , 0.19092663,\n",
       "        0.19005338, 0.17392251, 0.19372393, 0.16482956, 0.14645551,\n",
       "        0.15561578, 0.17840516, 0.20540583, 0.14846361, 0.17617644,\n",
       "        0.16272487, 0.15373908, 0.17201125, 0.16332101, 0.16678328,\n",
       "        0.15660929, 0.15876927, 0.16302004, 0.15997245, 0.19573919,\n",
       "        0.15512633, 0.16258443, 0.16666899, 0.19090884, 0.14748431,\n",
       "        0.18033963, 0.17108609, 0.19894361, 0.16484943, 0.16501474,\n",
       "        0.16235434, 0.14874318, 0.15374905, 0.15019739, 0.15365958,\n",
       "        0.15366299, 0.15704567, 0.17124198, 0.15602652, 0.15576665,\n",
       "        0.15884663, 0.17075819, 0.18747734, 0.15035821, 0.15648899,\n",
       "        0.17004791, 0.18939837, 0.17593859, 0.14886357, 0.15761968,\n",
       "        0.19638684, 0.16713439, 0.15278317, 0.17001432, 0.15879419,\n",
       "        0.18101009, 0.15599611, 0.1821801 , 0.15313261, 0.16206907,\n",
       "        0.15508288, 0.14945217, 0.19705491, 0.15840205, 0.1501659 ,\n",
       "        0.15367217, 0.15698652, 0.1527551 , 0.14902878, 0.14929857,\n",
       "        0.15131634, 0.18672203, 0.17175181, 0.16828161, 0.16090042,\n",
       "        0.14930425, 0.17725878, 0.164334  , 0.18548559, 0.1647161 ,\n",
       "        0.14689389, 0.14692151, 0.14758449, 0.15687927, 0.19289433,\n",
       "        0.18759978, 0.18910005, 0.21431365, 0.16315199, 0.16120785,\n",
       "        0.14937371, 0.16058019, 0.15626465, 0.15123408, 0.16990958,\n",
       "        0.15599118, 0.15677334, 0.17543203, 0.18596067, 0.15341957,\n",
       "        0.20932106, 0.15013055, 0.18815759, 0.15034267, 0.16681437,\n",
       "        0.15180936, 0.14776427, 0.21677908, 0.14773042, 0.15774189,\n",
       "        0.15610969, 0.1644693 , 0.19217925, 0.20637393, 0.1599268 ,\n",
       "        0.15580917, 0.16772269, 0.16291687, 0.16864256, 0.16301087,\n",
       "        0.16160099, 0.150542  , 0.15688484, 0.14990493, 0.14587943,\n",
       "        0.15879978, 0.1576719 , 0.17927954, 0.19176518, 0.16278185,\n",
       "        0.1891531 , 0.14659498, 0.1659434 , 0.17816379, 0.15492041,\n",
       "        0.17929154, 0.17258992, 0.21567506, 0.14636803, 0.15519511,\n",
       "        0.15974995, 0.15106198, 0.17138545, 0.16361133, 0.16147195,\n",
       "        0.15303651, 0.17709355, 0.19909857, 0.1535058 , 0.16909461,\n",
       "        0.16017712, 0.17612022, 0.15925318, 0.15250948, 0.14904643,\n",
       "        0.21645625, 0.20397697, 0.1616764 , 0.15200382, 0.19665263]))"
      ]
     },
     "execution_count": 22,
     "metadata": {},
     "output_type": "execute_result"
    }
   ],
   "source": [
    "pfolio_returns = []\n",
    "pfolio_volatilities = []\n",
    "\n",
    "for x in range (1000):\n",
    "    weights = np.random.random(num_assets)\n",
    "    weights /= np.sum(weights)\n",
    "    pfolio_returns.append(np.sum(weights * log_returns.mean()) * 250)\n",
    "    pfolio_volatilities.append(np.sqrt(np.dot(weights.T,np.dot(log_returns.cov() * 250, weights))))\n",
    "    \n",
    "pfolio_returns = np.array(pfolio_returns)\n",
    "pfolio_volatilities = np.array(pfolio_volatilities)\n",
    "\n",
    "pfolio_returns, pfolio_volatilities\n"
   ]
  },
  {
   "cell_type": "code",
   "execution_count": 23,
   "id": "6a542f10",
   "metadata": {},
   "outputs": [],
   "source": [
    "portfolios = pd.DataFrame({'Return': pfolio_returns, 'Volatility': pfolio_volatilities})"
   ]
  },
  {
   "cell_type": "code",
   "execution_count": 24,
   "id": "a0e199a6",
   "metadata": {},
   "outputs": [
    {
     "data": {
      "text/html": [
       "<div>\n",
       "<style scoped>\n",
       "    .dataframe tbody tr th:only-of-type {\n",
       "        vertical-align: middle;\n",
       "    }\n",
       "\n",
       "    .dataframe tbody tr th {\n",
       "        vertical-align: top;\n",
       "    }\n",
       "\n",
       "    .dataframe thead th {\n",
       "        text-align: right;\n",
       "    }\n",
       "</style>\n",
       "<table border=\"1\" class=\"dataframe\">\n",
       "  <thead>\n",
       "    <tr style=\"text-align: right;\">\n",
       "      <th></th>\n",
       "      <th>Return</th>\n",
       "      <th>Volatility</th>\n",
       "    </tr>\n",
       "  </thead>\n",
       "  <tbody>\n",
       "    <tr>\n",
       "      <th>0</th>\n",
       "      <td>0.208849</td>\n",
       "      <td>0.193969</td>\n",
       "    </tr>\n",
       "    <tr>\n",
       "      <th>1</th>\n",
       "      <td>0.178444</td>\n",
       "      <td>0.171008</td>\n",
       "    </tr>\n",
       "    <tr>\n",
       "      <th>2</th>\n",
       "      <td>0.105746</td>\n",
       "      <td>0.145857</td>\n",
       "    </tr>\n",
       "    <tr>\n",
       "      <th>3</th>\n",
       "      <td>0.086548</td>\n",
       "      <td>0.145835</td>\n",
       "    </tr>\n",
       "    <tr>\n",
       "      <th>4</th>\n",
       "      <td>0.109921</td>\n",
       "      <td>0.145838</td>\n",
       "    </tr>\n",
       "  </tbody>\n",
       "</table>\n",
       "</div>"
      ],
      "text/plain": [
       "     Return  Volatility\n",
       "0  0.208849    0.193969\n",
       "1  0.178444    0.171008\n",
       "2  0.105746    0.145857\n",
       "3  0.086548    0.145835\n",
       "4  0.109921    0.145838"
      ]
     },
     "execution_count": 24,
     "metadata": {},
     "output_type": "execute_result"
    }
   ],
   "source": [
    "portfolios.head()"
   ]
  },
  {
   "cell_type": "code",
   "execution_count": 25,
   "id": "037ac1b3",
   "metadata": {},
   "outputs": [
    {
     "data": {
      "text/html": [
       "<div>\n",
       "<style scoped>\n",
       "    .dataframe tbody tr th:only-of-type {\n",
       "        vertical-align: middle;\n",
       "    }\n",
       "\n",
       "    .dataframe tbody tr th {\n",
       "        vertical-align: top;\n",
       "    }\n",
       "\n",
       "    .dataframe thead th {\n",
       "        text-align: right;\n",
       "    }\n",
       "</style>\n",
       "<table border=\"1\" class=\"dataframe\">\n",
       "  <thead>\n",
       "    <tr style=\"text-align: right;\">\n",
       "      <th></th>\n",
       "      <th>Return</th>\n",
       "      <th>Volatility</th>\n",
       "    </tr>\n",
       "  </thead>\n",
       "  <tbody>\n",
       "    <tr>\n",
       "      <th>995</th>\n",
       "      <td>0.216166</td>\n",
       "      <td>0.216456</td>\n",
       "    </tr>\n",
       "    <tr>\n",
       "      <th>996</th>\n",
       "      <td>0.216971</td>\n",
       "      <td>0.203977</td>\n",
       "    </tr>\n",
       "    <tr>\n",
       "      <th>997</th>\n",
       "      <td>0.164085</td>\n",
       "      <td>0.161676</td>\n",
       "    </tr>\n",
       "    <tr>\n",
       "      <th>998</th>\n",
       "      <td>0.108703</td>\n",
       "      <td>0.152004</td>\n",
       "    </tr>\n",
       "    <tr>\n",
       "      <th>999</th>\n",
       "      <td>0.181134</td>\n",
       "      <td>0.196653</td>\n",
       "    </tr>\n",
       "  </tbody>\n",
       "</table>\n",
       "</div>"
      ],
      "text/plain": [
       "       Return  Volatility\n",
       "995  0.216166    0.216456\n",
       "996  0.216971    0.203977\n",
       "997  0.164085    0.161676\n",
       "998  0.108703    0.152004\n",
       "999  0.181134    0.196653"
      ]
     },
     "execution_count": 25,
     "metadata": {},
     "output_type": "execute_result"
    }
   ],
   "source": [
    "portfolios.tail()"
   ]
  },
  {
   "cell_type": "code",
   "execution_count": 26,
   "id": "b67eacc3",
   "metadata": {},
   "outputs": [
    {
     "data": {
      "text/plain": [
       "Text(0, 0.5, 'Expected Return')"
      ]
     },
     "execution_count": 26,
     "metadata": {},
     "output_type": "execute_result"
    },
    {
     "data": {
      "image/png": "[encoded data removed]",
      "text/plain": [
       "<Figure size 720x432 with 1 Axes>"
      ]
     },
     "metadata": {
      "needs_background": "light"
     },
     "output_type": "display_data"
    }
   ],
   "source": [
    "portfolios.plot(x='Volatility', y='Return', kind='scatter', figsize=(10, 6));\n",
    "plt.xlabel('Expected Volatility')\n",
    "plt.ylabel('Expected Return')"
   ]
  },
  {
   "cell_type": "code",
   "execution_count": 27,
   "id": "551c4500",
   "metadata": {},
   "outputs": [],
   "source": [
    "\n",
    "\n",
    "# CAPM / calculating beta of stock\n",
    "\n",
    "import numpy as np\n",
    "import pandas as pd\n",
    "\n",
    "data = pd.read_csv('CAPM_data.csv', index_col = 'Date')"
   ]
  },
  {
   "cell_type": "code",
   "execution_count": 28,
   "id": "9d5de875",
   "metadata": {},
   "outputs": [
    {
     "data": {
      "text/html": [
       "<div>\n",
       "<style scoped>\n",
       "    .dataframe tbody tr th:only-of-type {\n",
       "        vertical-align: middle;\n",
       "    }\n",
       "\n",
       "    .dataframe tbody tr th {\n",
       "        vertical-align: top;\n",
       "    }\n",
       "\n",
       "    .dataframe thead th {\n",
       "        text-align: right;\n",
       "    }\n",
       "</style>\n",
       "<table border=\"1\" class=\"dataframe\">\n",
       "  <thead>\n",
       "    <tr style=\"text-align: right;\">\n",
       "      <th></th>\n",
       "      <th>PG</th>\n",
       "      <th>^GSPC</th>\n",
       "    </tr>\n",
       "    <tr>\n",
       "      <th>Date</th>\n",
       "      <th></th>\n",
       "      <th></th>\n",
       "    </tr>\n",
       "  </thead>\n",
       "  <tbody>\n",
       "    <tr>\n",
       "      <th>2012-01-03</th>\n",
       "      <td>NaN</td>\n",
       "      <td>NaN</td>\n",
       "    </tr>\n",
       "    <tr>\n",
       "      <th>2012-01-04</th>\n",
       "      <td>-0.000449</td>\n",
       "      <td>0.000188</td>\n",
       "    </tr>\n",
       "    <tr>\n",
       "      <th>2012-01-05</th>\n",
       "      <td>-0.004201</td>\n",
       "      <td>0.002939</td>\n",
       "    </tr>\n",
       "    <tr>\n",
       "      <th>2012-01-06</th>\n",
       "      <td>-0.002408</td>\n",
       "      <td>-0.002540</td>\n",
       "    </tr>\n",
       "    <tr>\n",
       "      <th>2012-01-09</th>\n",
       "      <td>0.004211</td>\n",
       "      <td>0.002259</td>\n",
       "    </tr>\n",
       "    <tr>\n",
       "      <th>...</th>\n",
       "      <td>...</td>\n",
       "      <td>...</td>\n",
       "    </tr>\n",
       "    <tr>\n",
       "      <th>2016-12-23</th>\n",
       "      <td>0.005784</td>\n",
       "      <td>0.001251</td>\n",
       "    </tr>\n",
       "    <tr>\n",
       "      <th>2016-12-27</th>\n",
       "      <td>-0.004246</td>\n",
       "      <td>0.002246</td>\n",
       "    </tr>\n",
       "    <tr>\n",
       "      <th>2016-12-28</th>\n",
       "      <td>-0.006284</td>\n",
       "      <td>-0.008392</td>\n",
       "    </tr>\n",
       "    <tr>\n",
       "      <th>2016-12-29</th>\n",
       "      <td>0.003325</td>\n",
       "      <td>-0.000293</td>\n",
       "    </tr>\n",
       "    <tr>\n",
       "      <th>2016-12-30</th>\n",
       "      <td>-0.003206</td>\n",
       "      <td>-0.004648</td>\n",
       "    </tr>\n",
       "  </tbody>\n",
       "</table>\n",
       "<p>1258 rows × 2 columns</p>\n",
       "</div>"
      ],
      "text/plain": [
       "                  PG     ^GSPC\n",
       "Date                          \n",
       "2012-01-03       NaN       NaN\n",
       "2012-01-04 -0.000449  0.000188\n",
       "2012-01-05 -0.004201  0.002939\n",
       "2012-01-06 -0.002408 -0.002540\n",
       "2012-01-09  0.004211  0.002259\n",
       "...              ...       ...\n",
       "2016-12-23  0.005784  0.001251\n",
       "2016-12-27 -0.004246  0.002246\n",
       "2016-12-28 -0.006284 -0.008392\n",
       "2016-12-29  0.003325 -0.000293\n",
       "2016-12-30 -0.003206 -0.004648\n",
       "\n",
       "[1258 rows x 2 columns]"
      ]
     },
     "execution_count": 28,
     "metadata": {},
     "output_type": "execute_result"
    }
   ],
   "source": [
    "sec_returns = np.log( data / data.shift(1) )\n",
    "sec_returns"
   ]
  },
  {
   "cell_type": "code",
   "execution_count": 29,
   "id": "a8849482",
   "metadata": {},
   "outputs": [
    {
     "data": {
      "text/html": [
       "<div>\n",
       "<style scoped>\n",
       "    .dataframe tbody tr th:only-of-type {\n",
       "        vertical-align: middle;\n",
       "    }\n",
       "\n",
       "    .dataframe tbody tr th {\n",
       "        vertical-align: top;\n",
       "    }\n",
       "\n",
       "    .dataframe thead th {\n",
       "        text-align: right;\n",
       "    }\n",
       "</style>\n",
       "<table border=\"1\" class=\"dataframe\">\n",
       "  <thead>\n",
       "    <tr style=\"text-align: right;\">\n",
       "      <th></th>\n",
       "      <th>PG</th>\n",
       "      <th>^GSPC</th>\n",
       "    </tr>\n",
       "  </thead>\n",
       "  <tbody>\n",
       "    <tr>\n",
       "      <th>PG</th>\n",
       "      <td>0.020843</td>\n",
       "      <td>0.010025</td>\n",
       "    </tr>\n",
       "    <tr>\n",
       "      <th>^GSPC</th>\n",
       "      <td>0.010025</td>\n",
       "      <td>0.016361</td>\n",
       "    </tr>\n",
       "  </tbody>\n",
       "</table>\n",
       "</div>"
      ],
      "text/plain": [
       "             PG     ^GSPC\n",
       "PG     0.020843  0.010025\n",
       "^GSPC  0.010025  0.016361"
      ]
     },
     "execution_count": 29,
     "metadata": {},
     "output_type": "execute_result"
    }
   ],
   "source": [
    "cov = sec_returns.cov() * 250\n",
    "cov"
   ]
  },
  {
   "cell_type": "code",
   "execution_count": 30,
   "id": "4debf34f",
   "metadata": {},
   "outputs": [
    {
     "data": {
      "text/plain": [
       "0.010025480950656807"
      ]
     },
     "execution_count": 30,
     "metadata": {},
     "output_type": "execute_result"
    }
   ],
   "source": [
    "cov_with_market = cov.iloc[0,1]\n",
    "cov_with_market"
   ]
  },
  {
   "cell_type": "code",
   "execution_count": 31,
   "id": "a3244504",
   "metadata": {},
   "outputs": [
    {
     "data": {
      "text/plain": [
       "0.016360592699269046"
      ]
     },
     "execution_count": 31,
     "metadata": {},
     "output_type": "execute_result"
    }
   ],
   "source": [
    "market_var = sec_returns['^GSPC'].var() * 250\n",
    "market_var"
   ]
  },
  {
   "cell_type": "code",
   "execution_count": 32,
   "id": "f2c1a8e7",
   "metadata": {},
   "outputs": [
    {
     "data": {
      "text/plain": [
       "0.6127822588667415"
      ]
     },
     "execution_count": 32,
     "metadata": {},
     "output_type": "execute_result"
    }
   ],
   "source": [
    "# Beta\n",
    "\n",
    "PG_beta = cov_with_market / market_var\n",
    "PG_beta"
   ]
  },
  {
   "cell_type": "code",
   "execution_count": 33,
   "id": "c474d4a3",
   "metadata": {},
   "outputs": [
    {
     "data": {
      "text/plain": [
       "0.05563911294333708"
      ]
     },
     "execution_count": 33,
     "metadata": {},
     "output_type": "execute_result"
    }
   ],
   "source": [
    "# Calculate expected return of P&G (CAPM)\n",
    "# r_pg = r_f + pg_beta * (r_m - r_f)\n",
    "\n",
    "PG_er = 0.025 + PG_beta * 0.05\n",
    "PG_er"
   ]
  },
  {
   "cell_type": "code",
   "execution_count": 34,
   "id": "210a6e5a",
   "metadata": {},
   "outputs": [
    {
     "data": {
      "text/plain": [
       "0.21222619272784862"
      ]
     },
     "execution_count": 34,
     "metadata": {},
     "output_type": "execute_result"
    }
   ],
   "source": [
    "#Obtaining Sharpe Ratio\n",
    "Sharpe = (PG_er - 0.025)/ (sec_returns['PG'].std()* 250**0.5)\n",
    "Sharpe"
   ]
  },
  {
   "cell_type": "code",
   "execution_count": null,
   "id": "4e0f4672",
   "metadata": {},
   "outputs": [],
   "source": []
  }
 ],
 "metadata": {
  "kernelspec": {
   "display_name": "Python 3 (ipykernel)",
   "language": "python",
   "name": "python3"
  },
  "language_info": {
   "codemirror_mode": {
    "name": "ipython",
    "version": 3
   },
   "file_extension": ".py",
   "mimetype": "text/x-python",
   "name": "python",
   "nbconvert_exporter": "python",
   "pygments_lexer": "ipython3",
   "version": "3.9.7"
  }
 },
 "nbformat": 4,
 "nbformat_minor": 5
}
