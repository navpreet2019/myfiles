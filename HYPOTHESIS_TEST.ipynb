{
 "cells": [
  {
   "cell_type": "code",
   "execution_count": 1,
   "id": "198c4959",
   "metadata": {},
   "outputs": [],
   "source": [
    "\n",
    "import pandas as pd\n",
    "import numpy as np\n",
    "import math"
   ]
  },
  {
   "cell_type": "code",
   "execution_count": 3,
   "id": "b57be3cd",
   "metadata": {},
   "outputs": [
    {
     "data": {
      "text/html": [
       "<div>\n",
       "<style scoped>\n",
       "    .dataframe tbody tr th:only-of-type {\n",
       "        vertical-align: middle;\n",
       "    }\n",
       "\n",
       "    .dataframe tbody tr th {\n",
       "        vertical-align: top;\n",
       "    }\n",
       "\n",
       "    .dataframe thead th {\n",
       "        text-align: right;\n",
       "    }\n",
       "</style>\n",
       "<table border=\"1\" class=\"dataframe\">\n",
       "  <thead>\n",
       "    <tr style=\"text-align: right;\">\n",
       "      <th></th>\n",
       "      <th>Heights</th>\n",
       "      <th>Gender</th>\n",
       "    </tr>\n",
       "  </thead>\n",
       "  <tbody>\n",
       "    <tr>\n",
       "      <th>0</th>\n",
       "      <td>160.377337</td>\n",
       "      <td>Male</td>\n",
       "    </tr>\n",
       "    <tr>\n",
       "      <th>1</th>\n",
       "      <td>177.637818</td>\n",
       "      <td>Male</td>\n",
       "    </tr>\n",
       "    <tr>\n",
       "      <th>2</th>\n",
       "      <td>166.258270</td>\n",
       "      <td>Male</td>\n",
       "    </tr>\n",
       "    <tr>\n",
       "      <th>3</th>\n",
       "      <td>182.467287</td>\n",
       "      <td>Male</td>\n",
       "    </tr>\n",
       "    <tr>\n",
       "      <th>4</th>\n",
       "      <td>182.368534</td>\n",
       "      <td>Male</td>\n",
       "    </tr>\n",
       "    <tr>\n",
       "      <th>...</th>\n",
       "      <td>...</td>\n",
       "      <td>...</td>\n",
       "    </tr>\n",
       "    <tr>\n",
       "      <th>995</th>\n",
       "      <td>170.081594</td>\n",
       "      <td>Female</td>\n",
       "    </tr>\n",
       "    <tr>\n",
       "      <th>996</th>\n",
       "      <td>159.978178</td>\n",
       "      <td>Female</td>\n",
       "    </tr>\n",
       "    <tr>\n",
       "      <th>997</th>\n",
       "      <td>150.668404</td>\n",
       "      <td>Female</td>\n",
       "    </tr>\n",
       "    <tr>\n",
       "      <th>998</th>\n",
       "      <td>163.985544</td>\n",
       "      <td>Female</td>\n",
       "    </tr>\n",
       "    <tr>\n",
       "      <th>999</th>\n",
       "      <td>160.411138</td>\n",
       "      <td>Female</td>\n",
       "    </tr>\n",
       "  </tbody>\n",
       "</table>\n",
       "<p>1000 rows × 2 columns</p>\n",
       "</div>"
      ],
      "text/plain": [
       "        Heights  Gender\n",
       "0    160.377337    Male\n",
       "1    177.637818    Male\n",
       "2    166.258270    Male\n",
       "3    182.467287    Male\n",
       "4    182.368534    Male\n",
       "..          ...     ...\n",
       "995  170.081594  Female\n",
       "996  159.978178  Female\n",
       "997  150.668404  Female\n",
       "998  163.985544  Female\n",
       "999  160.411138  Female\n",
       "\n",
       "[1000 rows x 2 columns]"
      ]
     },
     "execution_count": 3,
     "metadata": {},
     "output_type": "execute_result"
    }
   ],
   "source": [
    "#1. In business there are so many decisions has to be made everyday.Instead of making them by hunch,doing experiments \n",
    "#and creating hypothesis is more data centric approach of taking decisions in business.\n",
    "#2.It is a mechanism for taking decisions in inferential statistics.It helps on proving or desprove the claims \n",
    "#which are being tested.\n",
    "#3. HP also helps to create structure of the problem statement.\n",
    "#4. The process provide conclusive evidence to take decisions based on given output from this method.\n",
    "# STATISTICAL HYPOTHESIS: when a researcher already has an idea about the outcome,even before doing the experiment.\n",
    "#The statistical hypothesis provides standard structural framework to work on the problem and make data centric decision\n",
    "#H0= null hypothesis states NULL condition exist, meaning the statement has been said is happening , nothing new happening , \n",
    "#old beliefs are true.\n",
    "\n",
    "#H1= The Alternative hypothesis states, the new theory is true, or something new is happening , old beleiefs are not true.\n",
    "\n",
    "data= pd.read_csv(\"SetofHeights.txt\")\n",
    "data.to_csv('SetofHeights.csv')\n",
    "data"
   ]
  },
  {
   "cell_type": "code",
   "execution_count": 4,
   "id": "768e1552",
   "metadata": {},
   "outputs": [
    {
     "data": {
      "text/plain": [
       "168.30635473929416"
      ]
     },
     "execution_count": 4,
     "metadata": {},
     "output_type": "execute_result"
    }
   ],
   "source": [
    "# Steps of Hypothesis Testing:\n",
    "#1. Create the hypothesis(Null And Hypothesis)\n",
    "#2. Choose appropriate statistical test\n",
    "#3. Set alpha or type 1 error for the experiment\n",
    "#4 Get data and samples\n",
    "#5Analyze\n",
    "#6 State the decision\n",
    "data['Heights'].mean()"
   ]
  },
  {
   "cell_type": "code",
   "execution_count": 5,
   "id": "a8176aa4",
   "metadata": {},
   "outputs": [],
   "source": [
    "# consider Z score\n",
    "# H0=170\n",
    "# H1!=170\n",
    "#1 create the hypothesis (Null and Alternate)\n",
    "#2 appropriate statistical test\n",
    "#3 let set alpha as .05 (type1 error) , supposed to set before the exp\n",
    "#4 get data\n",
    "#5 analyze\n",
    "#THIS IS A 2 SIDED TEST\n",
    "# value of Z at .05 making it 0.25 ,for 2 sided we know from ztable+-1.96\n",
    "# getting sample data here\n",
    "sampData=data['Heights'][np.argsort(np.random.random(1000))[:70]]"
   ]
  },
  {
   "cell_type": "code",
   "execution_count": 6,
   "id": "93394ad8",
   "metadata": {},
   "outputs": [],
   "source": [
    "meanSampData=sampData.mean()\n",
    "hypMean=170\n",
    "N=70\n",
    "# standPop means std of population\n",
    "standPop=np.std(data['Heights'])"
   ]
  },
  {
   "cell_type": "code",
   "execution_count": 7,
   "id": "a6e0f023",
   "metadata": {},
   "outputs": [
    {
     "data": {
      "text/plain": [
       "-1.029685547078972"
      ]
     },
     "execution_count": 7,
     "metadata": {},
     "output_type": "execute_result"
    }
   ],
   "source": [
    "# z=x(bar)-mu/std/sqrt n\n",
    "(meanSampData-hypMean)/(standPop/math.sqrt(N))"
   ]
  },
  {
   "cell_type": "code",
   "execution_count": null,
   "id": "3446d81a",
   "metadata": {},
   "outputs": [],
   "source": [
    "# as calculated -0.79 > -1.96,we do not reject the null hypothesis(smaller p value H1 not innocent,larger H0 innocent)\n",
    "# observed value =-0.79\n",
    "# critical value=-1.96"
   ]
  },
  {
   "cell_type": "code",
   "execution_count": null,
   "id": "665a2348",
   "metadata": {},
   "outputs": [],
   "source": [
    "# z value is 0.79= .68\n",
    "#P-value(observed significance level)\n",
    "#Another way to reach a statistical conclusion in hypothesis testing problems is by using p-value\n",
    "# pvalue would be 1-.68"
   ]
  },
  {
   "cell_type": "code",
   "execution_count": 15,
   "id": "15f80d4c",
   "metadata": {},
   "outputs": [
    {
     "data": {
      "text/plain": [
       "0.31999999999999995"
      ]
     },
     "execution_count": 15,
     "metadata": {},
     "output_type": "execute_result"
    }
   ],
   "source": [
    "1-.68"
   ]
  },
  {
   "cell_type": "code",
   "execution_count": null,
   "id": "52e4db00",
   "metadata": {},
   "outputs": [],
   "source": [
    "# now p value > .05,we fail to reject the null hypothesis"
   ]
  },
  {
   "cell_type": "code",
   "execution_count": 16,
   "id": "c9a28355",
   "metadata": {},
   "outputs": [],
   "source": [
    "#Third method ( when parameters are not known that is t test)\n",
    "# t test for mean estimation of population\n",
    "#The scipy. stats module specializes in random variables and probability distributions.\n",
    "import scipy.stats as st\n"
   ]
  },
  {
   "cell_type": "code",
   "execution_count": 17,
   "id": "abab19d9",
   "metadata": {},
   "outputs": [
    {
     "data": {
      "text/plain": [
       "Ttest_1sampResult(statistic=-0.1774300953276446, pvalue=0.8596904033932871)"
      ]
     },
     "execution_count": 17,
     "metadata": {},
     "output_type": "execute_result"
    }
   ],
   "source": [
    "st.ttest_1samp(sampData,170)"
   ]
  },
  {
   "cell_type": "code",
   "execution_count": 18,
   "id": "ec7995de",
   "metadata": {},
   "outputs": [
    {
     "data": {
      "text/plain": [
       "True"
      ]
     },
     "execution_count": 18,
     "metadata": {},
     "output_type": "execute_result"
    }
   ],
   "source": [
    "0.85>.05 # we do not reject the null hypothesis"
   ]
  },
  {
   "cell_type": "code",
   "execution_count": 14,
   "id": "ecfdbfe9",
   "metadata": {},
   "outputs": [
    {
     "data": {
      "text/html": [
       "<div>\n",
       "<style scoped>\n",
       "    .dataframe tbody tr th:only-of-type {\n",
       "        vertical-align: middle;\n",
       "    }\n",
       "\n",
       "    .dataframe tbody tr th {\n",
       "        vertical-align: top;\n",
       "    }\n",
       "\n",
       "    .dataframe thead th {\n",
       "        text-align: right;\n",
       "    }\n",
       "</style>\n",
       "<table border=\"1\" class=\"dataframe\">\n",
       "  <thead>\n",
       "    <tr style=\"text-align: right;\">\n",
       "      <th></th>\n",
       "      <th>fixed acidity</th>\n",
       "      <th>volatile acidity</th>\n",
       "      <th>citric acid</th>\n",
       "      <th>residual sugar</th>\n",
       "      <th>chlorides</th>\n",
       "      <th>free sulfur dioxide</th>\n",
       "      <th>total sulfur dioxide</th>\n",
       "      <th>density</th>\n",
       "      <th>pH</th>\n",
       "      <th>sulphates</th>\n",
       "      <th>alcohol</th>\n",
       "      <th>quality</th>\n",
       "    </tr>\n",
       "  </thead>\n",
       "  <tbody>\n",
       "    <tr>\n",
       "      <th>0</th>\n",
       "      <td>7.4</td>\n",
       "      <td>0.700</td>\n",
       "      <td>0.00</td>\n",
       "      <td>1.9</td>\n",
       "      <td>0.076</td>\n",
       "      <td>11.0</td>\n",
       "      <td>34.0</td>\n",
       "      <td>0.99780</td>\n",
       "      <td>3.51</td>\n",
       "      <td>0.56</td>\n",
       "      <td>9.4</td>\n",
       "      <td>5</td>\n",
       "    </tr>\n",
       "    <tr>\n",
       "      <th>1</th>\n",
       "      <td>7.8</td>\n",
       "      <td>0.880</td>\n",
       "      <td>0.00</td>\n",
       "      <td>2.6</td>\n",
       "      <td>0.098</td>\n",
       "      <td>25.0</td>\n",
       "      <td>67.0</td>\n",
       "      <td>0.99680</td>\n",
       "      <td>3.20</td>\n",
       "      <td>0.68</td>\n",
       "      <td>9.8</td>\n",
       "      <td>5</td>\n",
       "    </tr>\n",
       "    <tr>\n",
       "      <th>2</th>\n",
       "      <td>7.8</td>\n",
       "      <td>0.760</td>\n",
       "      <td>0.04</td>\n",
       "      <td>2.3</td>\n",
       "      <td>0.092</td>\n",
       "      <td>15.0</td>\n",
       "      <td>54.0</td>\n",
       "      <td>0.99700</td>\n",
       "      <td>3.26</td>\n",
       "      <td>0.65</td>\n",
       "      <td>9.8</td>\n",
       "      <td>5</td>\n",
       "    </tr>\n",
       "    <tr>\n",
       "      <th>3</th>\n",
       "      <td>11.2</td>\n",
       "      <td>0.280</td>\n",
       "      <td>0.56</td>\n",
       "      <td>1.9</td>\n",
       "      <td>0.075</td>\n",
       "      <td>17.0</td>\n",
       "      <td>60.0</td>\n",
       "      <td>0.99800</td>\n",
       "      <td>3.16</td>\n",
       "      <td>0.58</td>\n",
       "      <td>9.8</td>\n",
       "      <td>6</td>\n",
       "    </tr>\n",
       "    <tr>\n",
       "      <th>4</th>\n",
       "      <td>7.4</td>\n",
       "      <td>0.700</td>\n",
       "      <td>0.00</td>\n",
       "      <td>1.9</td>\n",
       "      <td>0.076</td>\n",
       "      <td>11.0</td>\n",
       "      <td>34.0</td>\n",
       "      <td>0.99780</td>\n",
       "      <td>3.51</td>\n",
       "      <td>0.56</td>\n",
       "      <td>9.4</td>\n",
       "      <td>5</td>\n",
       "    </tr>\n",
       "    <tr>\n",
       "      <th>...</th>\n",
       "      <td>...</td>\n",
       "      <td>...</td>\n",
       "      <td>...</td>\n",
       "      <td>...</td>\n",
       "      <td>...</td>\n",
       "      <td>...</td>\n",
       "      <td>...</td>\n",
       "      <td>...</td>\n",
       "      <td>...</td>\n",
       "      <td>...</td>\n",
       "      <td>...</td>\n",
       "      <td>...</td>\n",
       "    </tr>\n",
       "    <tr>\n",
       "      <th>1594</th>\n",
       "      <td>6.2</td>\n",
       "      <td>0.600</td>\n",
       "      <td>0.08</td>\n",
       "      <td>2.0</td>\n",
       "      <td>0.090</td>\n",
       "      <td>32.0</td>\n",
       "      <td>44.0</td>\n",
       "      <td>0.99490</td>\n",
       "      <td>3.45</td>\n",
       "      <td>0.58</td>\n",
       "      <td>10.5</td>\n",
       "      <td>5</td>\n",
       "    </tr>\n",
       "    <tr>\n",
       "      <th>1595</th>\n",
       "      <td>5.9</td>\n",
       "      <td>0.550</td>\n",
       "      <td>0.10</td>\n",
       "      <td>2.2</td>\n",
       "      <td>0.062</td>\n",
       "      <td>39.0</td>\n",
       "      <td>51.0</td>\n",
       "      <td>0.99512</td>\n",
       "      <td>3.52</td>\n",
       "      <td>0.76</td>\n",
       "      <td>11.2</td>\n",
       "      <td>6</td>\n",
       "    </tr>\n",
       "    <tr>\n",
       "      <th>1596</th>\n",
       "      <td>6.3</td>\n",
       "      <td>0.510</td>\n",
       "      <td>0.13</td>\n",
       "      <td>2.3</td>\n",
       "      <td>0.076</td>\n",
       "      <td>29.0</td>\n",
       "      <td>40.0</td>\n",
       "      <td>0.99574</td>\n",
       "      <td>3.42</td>\n",
       "      <td>0.75</td>\n",
       "      <td>11.0</td>\n",
       "      <td>6</td>\n",
       "    </tr>\n",
       "    <tr>\n",
       "      <th>1597</th>\n",
       "      <td>5.9</td>\n",
       "      <td>0.645</td>\n",
       "      <td>0.12</td>\n",
       "      <td>2.0</td>\n",
       "      <td>0.075</td>\n",
       "      <td>32.0</td>\n",
       "      <td>44.0</td>\n",
       "      <td>0.99547</td>\n",
       "      <td>3.57</td>\n",
       "      <td>0.71</td>\n",
       "      <td>10.2</td>\n",
       "      <td>5</td>\n",
       "    </tr>\n",
       "    <tr>\n",
       "      <th>1598</th>\n",
       "      <td>6.0</td>\n",
       "      <td>0.310</td>\n",
       "      <td>0.47</td>\n",
       "      <td>3.6</td>\n",
       "      <td>0.067</td>\n",
       "      <td>18.0</td>\n",
       "      <td>42.0</td>\n",
       "      <td>0.99549</td>\n",
       "      <td>3.39</td>\n",
       "      <td>0.66</td>\n",
       "      <td>11.0</td>\n",
       "      <td>6</td>\n",
       "    </tr>\n",
       "  </tbody>\n",
       "</table>\n",
       "<p>1599 rows × 12 columns</p>\n",
       "</div>"
      ],
      "text/plain": [
       "      fixed acidity  volatile acidity  citric acid  residual sugar  chlorides  \\\n",
       "0               7.4             0.700         0.00             1.9      0.076   \n",
       "1               7.8             0.880         0.00             2.6      0.098   \n",
       "2               7.8             0.760         0.04             2.3      0.092   \n",
       "3              11.2             0.280         0.56             1.9      0.075   \n",
       "4               7.4             0.700         0.00             1.9      0.076   \n",
       "...             ...               ...          ...             ...        ...   \n",
       "1594            6.2             0.600         0.08             2.0      0.090   \n",
       "1595            5.9             0.550         0.10             2.2      0.062   \n",
       "1596            6.3             0.510         0.13             2.3      0.076   \n",
       "1597            5.9             0.645         0.12             2.0      0.075   \n",
       "1598            6.0             0.310         0.47             3.6      0.067   \n",
       "\n",
       "      free sulfur dioxide  total sulfur dioxide  density    pH  sulphates  \\\n",
       "0                    11.0                  34.0  0.99780  3.51       0.56   \n",
       "1                    25.0                  67.0  0.99680  3.20       0.68   \n",
       "2                    15.0                  54.0  0.99700  3.26       0.65   \n",
       "3                    17.0                  60.0  0.99800  3.16       0.58   \n",
       "4                    11.0                  34.0  0.99780  3.51       0.56   \n",
       "...                   ...                   ...      ...   ...        ...   \n",
       "1594                 32.0                  44.0  0.99490  3.45       0.58   \n",
       "1595                 39.0                  51.0  0.99512  3.52       0.76   \n",
       "1596                 29.0                  40.0  0.99574  3.42       0.75   \n",
       "1597                 32.0                  44.0  0.99547  3.57       0.71   \n",
       "1598                 18.0                  42.0  0.99549  3.39       0.66   \n",
       "\n",
       "      alcohol  quality  \n",
       "0         9.4        5  \n",
       "1         9.8        5  \n",
       "2         9.8        5  \n",
       "3         9.8        6  \n",
       "4         9.4        5  \n",
       "...       ...      ...  \n",
       "1594     10.5        5  \n",
       "1595     11.2        6  \n",
       "1596     11.0        6  \n",
       "1597     10.2        5  \n",
       "1598     11.0        6  \n",
       "\n",
       "[1599 rows x 12 columns]"
      ]
     },
     "execution_count": 14,
     "metadata": {},
     "output_type": "execute_result"
    }
   ],
   "source": [
    "\n",
    "# PURPOSE ....> ASSUMPTIONS......>HOW TO ......> INTERPRET\n",
    "# second example\n",
    "# Normality test using Shapiro-Wilk test(IF DATA IS NORMALLY DISTRIBUTED)\n",
    "import pandas as pd\n",
    "WineData=pd.read_csv('winequality-red.csv')\n",
    "WineData"
   ]
  },
  {
   "cell_type": "code",
   "execution_count": 15,
   "id": "7485bb16",
   "metadata": {},
   "outputs": [
    {
     "data": {
      "text/html": [
       "<div>\n",
       "<style scoped>\n",
       "    .dataframe tbody tr th:only-of-type {\n",
       "        vertical-align: middle;\n",
       "    }\n",
       "\n",
       "    .dataframe tbody tr th {\n",
       "        vertical-align: top;\n",
       "    }\n",
       "\n",
       "    .dataframe thead th {\n",
       "        text-align: right;\n",
       "    }\n",
       "</style>\n",
       "<table border=\"1\" class=\"dataframe\">\n",
       "  <thead>\n",
       "    <tr style=\"text-align: right;\">\n",
       "      <th></th>\n",
       "      <th>fixed acidity</th>\n",
       "      <th>volatile acidity</th>\n",
       "      <th>citric acid</th>\n",
       "      <th>residual sugar</th>\n",
       "      <th>chlorides</th>\n",
       "      <th>free sulfur dioxide</th>\n",
       "      <th>total sulfur dioxide</th>\n",
       "      <th>density</th>\n",
       "      <th>pH</th>\n",
       "      <th>sulphates</th>\n",
       "      <th>alcohol</th>\n",
       "      <th>quality</th>\n",
       "    </tr>\n",
       "  </thead>\n",
       "  <tbody>\n",
       "    <tr>\n",
       "      <th>0</th>\n",
       "      <td>7.4</td>\n",
       "      <td>0.70</td>\n",
       "      <td>0.00</td>\n",
       "      <td>1.9</td>\n",
       "      <td>0.076</td>\n",
       "      <td>11.0</td>\n",
       "      <td>34.0</td>\n",
       "      <td>0.9978</td>\n",
       "      <td>3.51</td>\n",
       "      <td>0.56</td>\n",
       "      <td>9.4</td>\n",
       "      <td>5</td>\n",
       "    </tr>\n",
       "    <tr>\n",
       "      <th>1</th>\n",
       "      <td>7.8</td>\n",
       "      <td>0.88</td>\n",
       "      <td>0.00</td>\n",
       "      <td>2.6</td>\n",
       "      <td>0.098</td>\n",
       "      <td>25.0</td>\n",
       "      <td>67.0</td>\n",
       "      <td>0.9968</td>\n",
       "      <td>3.20</td>\n",
       "      <td>0.68</td>\n",
       "      <td>9.8</td>\n",
       "      <td>5</td>\n",
       "    </tr>\n",
       "    <tr>\n",
       "      <th>2</th>\n",
       "      <td>7.8</td>\n",
       "      <td>0.76</td>\n",
       "      <td>0.04</td>\n",
       "      <td>2.3</td>\n",
       "      <td>0.092</td>\n",
       "      <td>15.0</td>\n",
       "      <td>54.0</td>\n",
       "      <td>0.9970</td>\n",
       "      <td>3.26</td>\n",
       "      <td>0.65</td>\n",
       "      <td>9.8</td>\n",
       "      <td>5</td>\n",
       "    </tr>\n",
       "    <tr>\n",
       "      <th>3</th>\n",
       "      <td>11.2</td>\n",
       "      <td>0.28</td>\n",
       "      <td>0.56</td>\n",
       "      <td>1.9</td>\n",
       "      <td>0.075</td>\n",
       "      <td>17.0</td>\n",
       "      <td>60.0</td>\n",
       "      <td>0.9980</td>\n",
       "      <td>3.16</td>\n",
       "      <td>0.58</td>\n",
       "      <td>9.8</td>\n",
       "      <td>6</td>\n",
       "    </tr>\n",
       "    <tr>\n",
       "      <th>4</th>\n",
       "      <td>7.4</td>\n",
       "      <td>0.70</td>\n",
       "      <td>0.00</td>\n",
       "      <td>1.9</td>\n",
       "      <td>0.076</td>\n",
       "      <td>11.0</td>\n",
       "      <td>34.0</td>\n",
       "      <td>0.9978</td>\n",
       "      <td>3.51</td>\n",
       "      <td>0.56</td>\n",
       "      <td>9.4</td>\n",
       "      <td>5</td>\n",
       "    </tr>\n",
       "  </tbody>\n",
       "</table>\n",
       "</div>"
      ],
      "text/plain": [
       "   fixed acidity  volatile acidity  citric acid  residual sugar  chlorides  \\\n",
       "0            7.4              0.70         0.00             1.9      0.076   \n",
       "1            7.8              0.88         0.00             2.6      0.098   \n",
       "2            7.8              0.76         0.04             2.3      0.092   \n",
       "3           11.2              0.28         0.56             1.9      0.075   \n",
       "4            7.4              0.70         0.00             1.9      0.076   \n",
       "\n",
       "   free sulfur dioxide  total sulfur dioxide  density    pH  sulphates  \\\n",
       "0                 11.0                  34.0   0.9978  3.51       0.56   \n",
       "1                 25.0                  67.0   0.9968  3.20       0.68   \n",
       "2                 15.0                  54.0   0.9970  3.26       0.65   \n",
       "3                 17.0                  60.0   0.9980  3.16       0.58   \n",
       "4                 11.0                  34.0   0.9978  3.51       0.56   \n",
       "\n",
       "   alcohol  quality  \n",
       "0      9.4        5  \n",
       "1      9.8        5  \n",
       "2      9.8        5  \n",
       "3      9.8        6  \n",
       "4      9.4        5  "
      ]
     },
     "execution_count": 15,
     "metadata": {},
     "output_type": "execute_result"
    }
   ],
   "source": [
    "WineData.head()"
   ]
  },
  {
   "cell_type": "code",
   "execution_count": 16,
   "id": "0f6e016c",
   "metadata": {},
   "outputs": [
    {
     "data": {
      "image/png": "[encoded data removed]",
      "text/plain": [
       "<Figure size 1008x432 with 1 Axes>"
      ]
     },
     "metadata": {
      "needs_background": "light"
     },
     "output_type": "display_data"
    }
   ],
   "source": [
    "# checking histogram , %matplotlib inline for the output of plotting commands is displayed inline within frontends \n",
    "#from histogram ,we conclude that data is not normally distributed , it is left skewed and it is not symmetric around\n",
    "#the mean\n",
    "import matplotlib\n",
    "from matplotlib import pyplot\n",
    "%matplotlib inline\n",
    "pyplot.figure(figsize=(14,6))\n",
    "pyplot.hist(WineData['volatile acidity'])\n",
    "pyplot.show()"
   ]
  },
  {
   "cell_type": "code",
   "execution_count": null,
   "id": "33f924ec",
   "metadata": {},
   "outputs": [],
   "source": [
    "# analyse  above histogram whether it is normally distributed or not\n",
    "# it is not normally distributed because it is left skewed\n",
    "# normally distributed is symmetric around the mean"
   ]
  },
  {
   "cell_type": "code",
   "execution_count": 17,
   "id": "7f0a258c",
   "metadata": {},
   "outputs": [
    {
     "name": "stdout",
     "output_type": "stream",
     "text": [
      "stat-0.97,p-0.000000000000000268680677283857\n",
      "Not a normal distribution\n"
     ]
    }
   ],
   "source": [
    "from scipy.stats import shapiro\n",
    "DataToTest=WineData['volatile acidity']\n",
    "#statistics and p value from shapiro\n",
    "stat,p=shapiro(DataToTest)\n",
    "print('stat-%.2f,p-%.30f' % (stat,p))\n",
    "if p > 0.05:\n",
    "    print('Normal Distribution')\n",
    "else:\n",
    "    print('Not a normal distribution')"
   ]
  },
  {
   "cell_type": "code",
   "execution_count": 18,
   "id": "bdec1e86",
   "metadata": {},
   "outputs": [],
   "source": [
    "# lets generate normally distributed data from Python\n",
    "#will be normally distributed as it comes from randn function\n",
    "from numpy.random import randn\n",
    "DataToTest=randn(100)\n"
   ]
  },
  {
   "cell_type": "code",
   "execution_count": 19,
   "id": "d869f7ae",
   "metadata": {},
   "outputs": [
    {
     "data": {
      "text/plain": [
       "array([ 3.23707845e-01,  9.28107842e-01, -6.37680498e-01,  3.73167548e-01,\n",
       "       -7.11872511e-01, -3.40769868e-01, -1.24453599e-01,  4.68598155e-01,\n",
       "        1.09123680e+00,  1.32486670e-01,  1.01764957e+00,  9.06983796e-05,\n",
       "        7.94228832e-01, -1.00798942e-01,  3.82613861e-01,  5.99268150e-01,\n",
       "       -2.17815592e-01,  7.76553613e-02,  6.28628096e-01, -4.99743712e-02,\n",
       "        1.03052883e+00,  1.38806797e-01,  6.41972213e-01, -5.12773042e-01,\n",
       "       -8.20600318e-01, -5.85672715e-01,  1.32623773e-02,  9.45723188e-03,\n",
       "       -1.39327355e+00,  1.32162669e+00, -6.70094708e-02,  2.28838669e-01,\n",
       "        8.66980837e-01,  9.23317488e-01, -1.81977289e-01,  1.30683002e+00,\n",
       "       -9.50926844e-01, -4.53952468e-01, -9.97526196e-01,  3.21589431e-01,\n",
       "        4.39021735e-01, -1.86691029e+00,  3.20597673e-01,  1.33243500e-01,\n",
       "        1.44971600e+00,  1.31867971e+00,  1.89428918e-01,  4.61830990e-02,\n",
       "        1.21494242e-01, -7.61364077e-01,  5.22228161e-02, -1.31484087e+00,\n",
       "       -3.76450920e-01, -1.23478882e+00,  6.22147740e-01, -2.35928138e-01,\n",
       "        6.82812783e-01,  1.87034605e+00,  4.33066098e-01,  7.23918475e-01,\n",
       "       -2.20120779e-01,  8.41840730e-01,  2.42631615e-01, -2.77642868e-01,\n",
       "        5.20799113e-01, -5.59753177e-01,  8.02655350e-01,  2.92009139e-01,\n",
       "        8.49294846e-01, -9.97820444e-01, -5.18773948e-01,  1.04138124e+00,\n",
       "        4.32351105e-01, -5.80565307e-01,  6.82011151e-01,  2.41190508e+00,\n",
       "       -4.42801948e-01,  7.10987833e-01,  7.45590780e-01,  1.07381693e+00,\n",
       "       -1.73579333e+00, -6.68464887e-01,  3.39468664e-01,  1.12165699e-01,\n",
       "        2.14737683e-01, -2.07179626e-01,  4.60364962e-01,  3.52651734e-01,\n",
       "        6.42390971e-01,  5.42483028e-01,  1.51828485e-01, -7.63733948e-01,\n",
       "        4.80481547e-01, -1.45470633e+00, -1.28987450e+00,  2.63215760e-01,\n",
       "        1.38462401e+00, -1.50278993e+00,  4.97328763e-01, -5.57964429e-01])"
      ]
     },
     "execution_count": 19,
     "metadata": {},
     "output_type": "execute_result"
    }
   ],
   "source": [
    "DataToTest"
   ]
  },
  {
   "cell_type": "code",
   "execution_count": 20,
   "id": "5b204eba",
   "metadata": {},
   "outputs": [
    {
     "name": "stdout",
     "output_type": "stream",
     "text": [
      "stat-0.99,p-0.516394793987274169921875000000\n",
      "Normal Distribution\n"
     ]
    }
   ],
   "source": [
    "#p value is high\n",
    "stat,p=shapiro(DataToTest)\n",
    "print('stat-%.2f,p-%.30f' % (stat,p))\n",
    "if p > 0.05:\n",
    "    print('Normal Distribution')\n",
    "else:\n",
    "    print('Not a normal distribution')"
   ]
  },
  {
   "cell_type": "code",
   "execution_count": 21,
   "id": "3e01e683",
   "metadata": {},
   "outputs": [
    {
     "name": "stdout",
     "output_type": "stream",
     "text": [
      "stat-143.4193435598,p-0.0000000000\n",
      "Not a normal distribution\n"
     ]
    }
   ],
   "source": [
    "# Normality test using K**2 Normality test,test if data is normally distributes or not\n",
    "# Assumption: Observation is identically distributed(means all the elements have equal probability to occur)\n",
    "#importing normaltest for k**2 normality test\n",
    "from scipy.stats import normaltest\n",
    "data=WineData['volatile acidity']\n",
    "stat,p=normaltest(data)\n",
    "print('stat-%.10f,p-%.10f' % (stat,p))\n",
    "if p > 0.05:\n",
    "    print('Normal Distribution')\n",
    "else:\n",
    "    print('Not a normal distribution')"
   ]
  },
  {
   "cell_type": "code",
   "execution_count": 22,
   "id": "509b2b16",
   "metadata": {},
   "outputs": [
    {
     "data": {
      "image/png": "[encoded data removed]",
      "text/plain": [
       "<Figure size 432x288 with 1 Axes>"
      ]
     },
     "metadata": {
      "needs_background": "light"
     },
     "output_type": "display_data"
    }
   ],
   "source": [
    "# Correlation Test-pearson and Spearman's Rank Correlation\n",
    "# no clear pattern ,so they are not correlated\n",
    "#Assumption: Identical and Normal Distribution\n",
    "import matplotlib\n",
    "from matplotlib import pyplot\n",
    "FirstSample=WineData[1:30]['volatile acidity']\n",
    "SecondSample=WineData[1:30]['pH']\n",
    "pyplot.plot(FirstSample,SecondSample)\n",
    "pyplot.show()"
   ]
  },
  {
   "cell_type": "code",
   "execution_count": 24,
   "id": "f26d1d25",
   "metadata": {},
   "outputs": [
    {
     "name": "stdout",
     "output_type": "stream",
     "text": [
      "stat-0.199,p-0.30136\n",
      "Independent Samples\n"
     ]
    }
   ],
   "source": [
    "# Spearman Rank Correlation\n",
    "from scipy.stats import spearmanr\n",
    "stat,p=spearmanr(FirstSample,SecondSample)\n",
    "print('stat-%.3f,p-%.5f' % (stat,p))\n",
    "if p > 0.05:\n",
    "    print('Independent Samples')\n",
    "else:\n",
    "    print('Dependent Samples')"
   ]
  },
  {
   "cell_type": "code",
   "execution_count": 25,
   "id": "3ab636dc",
   "metadata": {},
   "outputs": [
    {
     "name": "stdout",
     "output_type": "stream",
     "text": [
      "stat-0.176,p-0.36047\n",
      "Independent Samples\n"
     ]
    }
   ],
   "source": [
    "# pearson correlation\n",
    "from scipy.stats import pearsonr\n",
    "stat,p=pearsonr(FirstSample,SecondSample)\n",
    "print('stat-%.3f,p-%.5f' % (stat,p))\n",
    "if p > 0.05:\n",
    "    print('Independent Samples')\n",
    "else:\n",
    "    print('Dependent Samples')"
   ]
  },
  {
   "cell_type": "code",
   "execution_count": 26,
   "id": "98979927",
   "metadata": {},
   "outputs": [
    {
     "data": {
      "image/png": "[encoded data removed]",
      "text/plain": [
       "<Figure size 432x288 with 1 Axes>"
      ]
     },
     "metadata": {
      "needs_background": "light"
     },
     "output_type": "display_data"
    }
   ],
   "source": [
    "import matplotlib\n",
    "from matplotlib import pyplot\n",
    "FirstSample=WineData[1:30]['total sulfur dioxide']\n",
    "SecondSample=WineData[1:30]['free sulfur dioxide']\n",
    "pyplot.plot(FirstSample,SecondSample)\n",
    "pyplot.show()"
   ]
  },
  {
   "cell_type": "code",
   "execution_count": 44,
   "id": "1aa72e95",
   "metadata": {},
   "outputs": [
    {
     "data": {
      "text/plain": [
       "Ttest_1sampResult(statistic=1.7053136360191492, pvalue=0.14885362711300268)"
      ]
     },
     "execution_count": 44,
     "metadata": {},
     "output_type": "execute_result"
    }
   ],
   "source": [
    "\n",
    "#Q Six students were chosen at random from a class and given a math test\n",
    "#The teacher wants the class to be able to score 70 on the test\n",
    "#The six students get scores 62,92,75,68,83 and 95.\n",
    "#can the teacher be 95% confident that the mean score for class\n",
    "# would be 70\n",
    "# assuming H0=70 and H1 ! =70, p value is 0.05\n",
    "# more p value so do not reject H0\n",
    "from scipy import stats as st\n",
    "scores=[62,92,75,68,83,95]\n",
    "st.ttest_1samp(scores,70)"
   ]
  },
  {
   "cell_type": "code",
   "execution_count": 27,
   "id": "9f47f1a0",
   "metadata": {},
   "outputs": [],
   "source": [
    "\n",
    "# another example\n",
    "# Definition of parametric test-main assumption-data is normally distributed\n",
    "# score of me and aman\n",
    "my_score=[23,21,31,20,19,35,26,22,21,19]\n",
    "aman_score=[46,42,62,40,38,70,52,44,42,38]\n"
   ]
  },
  {
   "cell_type": "code",
   "execution_count": 28,
   "id": "0c40e116",
   "metadata": {},
   "outputs": [
    {
     "name": "stdout",
     "output_type": "stream",
     "text": [
      "23.7\n",
      "47.4\n"
     ]
    }
   ],
   "source": [
    "# my no. < aman no.\n",
    "import numpy as np\n",
    "print(np.mean(my_score))\n",
    "print(np.mean(aman_score))"
   ]
  },
  {
   "cell_type": "code",
   "execution_count": 29,
   "id": "13fbfb51",
   "metadata": {},
   "outputs": [
    {
     "data": {
      "text/plain": [
       "Ttest_1sampResult(statistic=13.88788431654638, pvalue=2.1983272300073563e-07)"
      ]
     },
     "execution_count": 29,
     "metadata": {},
     "output_type": "execute_result"
    }
   ],
   "source": [
    "# one sample test(means only my mean score), H0=0,p value is very less so assumption wrong\n",
    "# i am testing whether my mean score is  0 , but no it is very less, so H0 is wrong\n",
    "#e**-07\n",
    "import scipy\n",
    "scipy.stats.ttest_1samp(my_score,0)"
   ]
  },
  {
   "cell_type": "code",
   "execution_count": null,
   "id": "0c75d262",
   "metadata": {},
   "outputs": [],
   "source": [
    "# everytime change value(instead of 0 put 15 then 20)"
   ]
  },
  {
   "cell_type": "code",
   "execution_count": 30,
   "id": "d62078e8",
   "metadata": {},
   "outputs": [
    {
     "data": {
      "text/plain": [
       "Ttest_indResult(statistic=-6.210850679090182, pvalue=7.3390410384768156e-06)"
      ]
     },
     "execution_count": 30,
     "metadata": {},
     "output_type": "execute_result"
    }
   ],
   "source": [
    "#independent  2 sample t test means samples are taken from independent sources\n",
    "#assuming both means are equal,again reject H0\n",
    "scipy.stats.ttest_ind(my_score,aman_score)"
   ]
  },
  {
   "cell_type": "code",
   "execution_count": 52,
   "id": "03e3f938",
   "metadata": {},
   "outputs": [
    {
     "data": {
      "text/plain": [
       "Ttest_relResult(statistic=-13.88788431654638, pvalue=2.1983272300073563e-07)"
      ]
     },
     "execution_count": 52,
     "metadata": {},
     "output_type": "execute_result"
    }
   ],
   "source": [
    "#T test- 1.  one test    2.    independent test   3.   paired test\n",
    "# paired sample t test because both the test for me only\n",
    "#rel means related , again reject H0 because it is small\n",
    "my_score_second_tour=[46,42,62,40,38,70,52,44,42,38]\n",
    "scipy.stats.ttest_rel(my_score,my_score_second_tour)"
   ]
  },
  {
   "cell_type": "code",
   "execution_count": 31,
   "id": "37716453",
   "metadata": {},
   "outputs": [
    {
     "name": "stdout",
     "output_type": "stream",
     "text": [
      "[40, 44, 60, 50, 48, 55, 46, 44, 54]\n",
      "[23, 21, 31, 20, 19, 35, 26, 22, 21, 19]\n",
      "[46, 42, 62, 40, 38, 70, 52, 44, 42, 38]\n"
     ]
    }
   ],
   "source": [
    "# parametric test 2 -ANOVA test- whether the means of two or more independent  samples\n",
    "#are significantly different\n",
    "# assumption-normal distribution,same variance, identical distribution\n",
    "average_score=[40,44,60,50,48,55,46,44,54]\n",
    "print(average_score)\n",
    "print(my_score)\n",
    "print(aman_score)"
   ]
  },
  {
   "cell_type": "code",
   "execution_count": 33,
   "id": "a2d5b169",
   "metadata": {},
   "outputs": [
    {
     "name": "stdout",
     "output_type": "stream",
     "text": [
      "stat-0.176,p-0.000\n",
      "different distribution of score\n"
     ]
    }
   ],
   "source": [
    "#output-different distribution means means are not near, reject H0\n",
    "tstat,p=scipy.stats.f_oneway(my_score,average_score,aman_score)\n",
    "print('stat-%.3f,p-%.3f' % (stat,p))\n",
    "if p > 0.05:\n",
    "    print('same distribution of score')\n",
    "else:\n",
    "    print('different distribution of score')"
   ]
  },
  {
   "cell_type": "code",
   "execution_count": 35,
   "id": "17e88611",
   "metadata": {},
   "outputs": [
    {
     "name": "stdout",
     "output_type": "stream",
     "text": [
      "stat-0.176,p-0.690\n",
      "same distribution of score\n"
     ]
    }
   ],
   "source": [
    "# non parametric test- Mann Whitney U test-test whether the distribution of\n",
    "# two or more independent samples are equal or not\n",
    "#Assumptions: identical distribution, observation can be ranked\n",
    "class_1_score=[91,90,81,80,76]\n",
    "class_2_score=[88,86,85,84,83]\n",
    "tstat,p=scipy.stats.mannwhitneyu(class_1_score,class_2_score)\n",
    "print('stat-%.3f,p-%.3f' % (stat,p))\n",
    "if p > 0.05:\n",
    "    print('same distribution of score')\n",
    "else:\n",
    "    print('different distribution of score')"
   ]
  },
  {
   "cell_type": "code",
   "execution_count": null,
   "id": "6b0ff81c",
   "metadata": {},
   "outputs": [],
   "source": [
    "# Similarly we have Wilcoxon Signed-Rank test/Kruskal-Wallis H test"
   ]
  },
  {
   "cell_type": "code",
   "execution_count": 36,
   "id": "d0c34061",
   "metadata": {},
   "outputs": [],
   "source": [
    "#test of stationarity- very important for time series analysis\n",
    "# Augmented Dickey Fuller test- null hypothesis-series is not stationary\n",
    "# definition of stationary time series-constant mean and variance\n",
    "from statsmodels.tsa.stattools import adfuller\n",
    "stock_price_data=[121,131,142,138,139,142,156,168,165]\n",
    "stat,p,lags,obs,crit,t=adfuller(stock_price_data)"
   ]
  },
  {
   "cell_type": "code",
   "execution_count": 37,
   "id": "096a1f19",
   "metadata": {},
   "outputs": [
    {
     "name": "stdout",
     "output_type": "stream",
     "text": [
      "stat--0.949,p-0.772\n",
      "Series is not Stationary\n"
     ]
    }
   ],
   "source": [
    "print('stat-%.3f,p-%.3f' % (stat,p))\n",
    "if p > 0.05:\n",
    "    print('Series is not Stationary')\n",
    "else:\n",
    "    print('Series is Stationary')"
   ]
  },
  {
   "cell_type": "code",
   "execution_count": 63,
   "id": "1aeff3ab",
   "metadata": {},
   "outputs": [],
   "source": [
    "# now make the data stationary\n",
    "# by making 121,131,142 (3 times),want to make it stationary\n",
    "from statsmodels.tsa.stattools import adfuller\n",
    "stock_price_data=[121,131,142,121,131,142,121,131,142]\n",
    "stat,p,lags,obs,crit,t=adfuller(stock_price_data)"
   ]
  },
  {
   "cell_type": "code",
   "execution_count": 64,
   "id": "53ab4182",
   "metadata": {},
   "outputs": [
    {
     "name": "stdout",
     "output_type": "stream",
     "text": [
      "stat--1718391051654.083,p-0.000\n",
      "Series is Stationary\n"
     ]
    }
   ],
   "source": [
    "print('stat-%.3f,p-%.3f' % (stat,p))\n",
    "if p > 0.05:\n",
    "    print('Series is not Stationary')\n",
    "else:\n",
    "    print('Series is Stationary')"
   ]
  },
  {
   "cell_type": "code",
   "execution_count": 38,
   "id": "b5a3ff04",
   "metadata": {},
   "outputs": [
    {
     "data": {
      "text/plain": [
       "32"
      ]
     },
     "execution_count": 38,
     "metadata": {},
     "output_type": "execute_result"
    }
   ],
   "source": [
    "\n",
    "ages=[10,20,35,50,28,40,55,18,16,55,30,25,43,18,30,28,14,24,16,17,32,35,26,27,65,18,43,23,21,20,19,70]\n",
    "len(ages)"
   ]
  },
  {
   "cell_type": "code",
   "execution_count": 39,
   "id": "e4c742e6",
   "metadata": {},
   "outputs": [
    {
     "name": "stdout",
     "output_type": "stream",
     "text": [
      "30.34375\n"
     ]
    }
   ],
   "source": [
    "import numpy as np\n",
    "ages_mean=np.mean(ages)\n",
    "print(ages_mean)"
   ]
  },
  {
   "cell_type": "code",
   "execution_count": 40,
   "id": "644101cb",
   "metadata": {},
   "outputs": [],
   "source": [
    "# lets take sample from ages randomly of 10 values\n",
    "sample_size=10\n",
    "age_sample=np.random.choice(ages,sample_size)"
   ]
  },
  {
   "cell_type": "code",
   "execution_count": 41,
   "id": "166088ab",
   "metadata": {},
   "outputs": [
    {
     "data": {
      "text/plain": [
       "array([55, 50, 35, 43, 16, 43, 21, 21, 32, 23])"
      ]
     },
     "execution_count": 41,
     "metadata": {},
     "output_type": "execute_result"
    }
   ],
   "source": [
    "age_sample"
   ]
  },
  {
   "cell_type": "code",
   "execution_count": 42,
   "id": "c87749db",
   "metadata": {},
   "outputs": [],
   "source": [
    "# one is sample data and other is population data\n",
    "#H0= there is no diff in mean\n",
    "# H1=there is diff in mean\n",
    "#if p<.05 reject H0,means there is diff in mean\n",
    "# 30 is the expected mean value in null hypothesis"
   ]
  },
  {
   "cell_type": "code",
   "execution_count": 43,
   "id": "eb65b1dd",
   "metadata": {},
   "outputs": [
    {
     "name": "stdout",
     "output_type": "stream",
     "text": [
      "0.38569529596891594\n"
     ]
    }
   ],
   "source": [
    "from scipy.stats import ttest_1samp\n",
    "ttest,p_value=ttest_1samp(age_sample,30)\n",
    "print(p_value)"
   ]
  },
  {
   "cell_type": "code",
   "execution_count": 45,
   "id": "a95aa3aa",
   "metadata": {},
   "outputs": [
    {
     "name": "stdout",
     "output_type": "stream",
     "text": [
      "we are accepting null hypothesis\n"
     ]
    }
   ],
   "source": [
    "if p_value < 0.05:\n",
    "    print(\"we are rejecting null hypothesis\")\n",
    "else: \n",
    "    print(\"we are accepting null hypothesis\")"
   ]
  },
  {
   "cell_type": "code",
   "execution_count": 46,
   "id": "a7a0a162",
   "metadata": {},
   "outputs": [],
   "source": [
    "# some more examples:\n",
    "# consider the age of students in college and in Class A\n",
    "#using poisson distribution-total strngth =1500,loc=18 means minimum left most value,mu=35 the mean\n",
    "# classA sample is taken from school\n",
    "import numpy as np\n",
    "import pandas as pd\n",
    "import scipy.stats as stats\n",
    "import math\n",
    "np.random.seed(6)\n",
    "school_ages=stats.poisson.rvs(loc=18,mu=35,size=1500)\n",
    "classA_ages=stats.poisson.rvs(loc=18,mu=30,size=60)"
   ]
  },
  {
   "cell_type": "code",
   "execution_count": 47,
   "id": "0042f6ed",
   "metadata": {},
   "outputs": [
    {
     "data": {
      "text/plain": [
       "46.9"
      ]
     },
     "execution_count": 47,
     "metadata": {},
     "output_type": "execute_result"
    }
   ],
   "source": [
    "classA_ages.mean()"
   ]
  },
  {
   "cell_type": "code",
   "execution_count": 48,
   "id": "d948c285",
   "metadata": {},
   "outputs": [
    {
     "data": {
      "text/plain": [
       "53.303333333333335"
      ]
     },
     "execution_count": 48,
     "metadata": {},
     "output_type": "execute_result"
    }
   ],
   "source": [
    "school_ages.mean()"
   ]
  },
  {
   "cell_type": "code",
   "execution_count": 49,
   "id": "6df246fe",
   "metadata": {},
   "outputs": [
    {
     "name": "stdout",
     "output_type": "stream",
     "text": [
      "1.139027071016194e-13\n"
     ]
    }
   ],
   "source": [
    "# checking diff in their mean, pvalue is very very less e**-13\n",
    "_,p_value=stats.ttest_1samp(a=classA_ages,popmean=school_ages.mean())\n",
    "print(p_value)"
   ]
  },
  {
   "cell_type": "code",
   "execution_count": 50,
   "id": "e9235ae3",
   "metadata": {},
   "outputs": [
    {
     "name": "stdout",
     "output_type": "stream",
     "text": [
      "we are rejecting null hypothesis\n"
     ]
    }
   ],
   "source": [
    "#H0= no diff in age\n",
    "#H1= diff in age\n",
    "#rejecting null means there is diff in age\n",
    "if p_value<0.05:\n",
    "    print(\"we are rejecting null hypothesis\")\n",
    "else:\n",
    "    print(\"we are accepting null hypothesis\")"
   ]
  },
  {
   "cell_type": "code",
   "execution_count": 52,
   "id": "64d2d933",
   "metadata": {},
   "outputs": [
    {
     "data": {
      "text/plain": [
       "50.63333333333333"
      ]
     },
     "execution_count": 52,
     "metadata": {},
     "output_type": "execute_result"
    }
   ],
   "source": [
    "# NOW TWO SAMPLE Ttest\n",
    "#The independent Samples t Test or 2 sample t-test compares the mean of two independent groups .\n",
    "np.random.seed(12)\n",
    "classB_ages=stats.poisson.rvs(loc=18,mu=33,size=60)\n",
    "classB_ages.mean()"
   ]
  },
  {
   "cell_type": "code",
   "execution_count": 54,
   "id": "ffebd69a",
   "metadata": {},
   "outputs": [
    {
     "name": "stdout",
     "output_type": "stream",
     "text": [
      "0.00039942095100859375\n"
     ]
    }
   ],
   "source": [
    "_,p_value=stats.ttest_ind(a=classA_ages,b=classB_ages,equal_var=False)\n",
    "print(p_value)"
   ]
  },
  {
   "cell_type": "code",
   "execution_count": 55,
   "id": "62184c3b",
   "metadata": {},
   "outputs": [
    {
     "name": "stdout",
     "output_type": "stream",
     "text": [
      "we are rejecting null hypothesis\n"
     ]
    }
   ],
   "source": [
    "if p_value<0.05:\n",
    "    print(\"we are rejecting null hypothesis\")\n",
    "else:\n",
    "    print(\"we are accepting null hypothesis\")"
   ]
  },
  {
   "cell_type": "code",
   "execution_count": 57,
   "id": "e9ac348e",
   "metadata": {},
   "outputs": [],
   "source": [
    "# Paired T-test with Python\n",
    "#when you want to check how different samples from the same group ,go for paired T test\n",
    "#appending more to weight1 by taking size=15 because weight1 =15 values\n",
    "# as after some years weight of children will increase so appending values to it\n",
    "weight1=[25,30,28,35,28,34,26,29,30,26,28,32,31,30,45]\n",
    "weight2=weight1+stats.norm.rvs(scale=5,loc=1.25,size=15)"
   ]
  },
  {
   "cell_type": "code",
   "execution_count": 58,
   "id": "77695017",
   "metadata": {},
   "outputs": [
    {
     "name": "stdout",
     "output_type": "stream",
     "text": [
      "[25, 30, 28, 35, 28, 34, 26, 29, 30, 26, 28, 32, 31, 30, 45]\n",
      "[18.6845637  27.43234756 30.49601605 28.30095696 24.35237039 35.86380814\n",
      " 35.69646047 31.13874933 31.4100301  36.91607782 23.93952644 29.58685451\n",
      " 36.46370697 36.63369994 48.53845269]\n"
     ]
    }
   ],
   "source": [
    "print(weight1)\n",
    "print(weight2)"
   ]
  },
  {
   "cell_type": "code",
   "execution_count": 59,
   "id": "fff8e486",
   "metadata": {},
   "outputs": [],
   "source": [
    "# H0= no statistical diff\n",
    "# H1= statistical diff\n",
    "\n",
    "weight_df=pd.DataFrame({\"weight_10\":np.array(weight1),\n",
    "                        \"weight_20\":np.array(weight2),\n",
    "                        \"weight_change\":np.array(weight2)-np.array(weight1)})"
   ]
  },
  {
   "cell_type": "code",
   "execution_count": 60,
   "id": "0ba5df7d",
   "metadata": {},
   "outputs": [
    {
     "data": {
      "text/html": [
       "<div>\n",
       "<style scoped>\n",
       "    .dataframe tbody tr th:only-of-type {\n",
       "        vertical-align: middle;\n",
       "    }\n",
       "\n",
       "    .dataframe tbody tr th {\n",
       "        vertical-align: top;\n",
       "    }\n",
       "\n",
       "    .dataframe thead th {\n",
       "        text-align: right;\n",
       "    }\n",
       "</style>\n",
       "<table border=\"1\" class=\"dataframe\">\n",
       "  <thead>\n",
       "    <tr style=\"text-align: right;\">\n",
       "      <th></th>\n",
       "      <th>weight_10</th>\n",
       "      <th>weight_20</th>\n",
       "      <th>weight_change</th>\n",
       "    </tr>\n",
       "  </thead>\n",
       "  <tbody>\n",
       "    <tr>\n",
       "      <th>0</th>\n",
       "      <td>25</td>\n",
       "      <td>18.684564</td>\n",
       "      <td>-6.315436</td>\n",
       "    </tr>\n",
       "    <tr>\n",
       "      <th>1</th>\n",
       "      <td>30</td>\n",
       "      <td>27.432348</td>\n",
       "      <td>-2.567652</td>\n",
       "    </tr>\n",
       "    <tr>\n",
       "      <th>2</th>\n",
       "      <td>28</td>\n",
       "      <td>30.496016</td>\n",
       "      <td>2.496016</td>\n",
       "    </tr>\n",
       "    <tr>\n",
       "      <th>3</th>\n",
       "      <td>35</td>\n",
       "      <td>28.300957</td>\n",
       "      <td>-6.699043</td>\n",
       "    </tr>\n",
       "    <tr>\n",
       "      <th>4</th>\n",
       "      <td>28</td>\n",
       "      <td>24.352370</td>\n",
       "      <td>-3.647630</td>\n",
       "    </tr>\n",
       "    <tr>\n",
       "      <th>5</th>\n",
       "      <td>34</td>\n",
       "      <td>35.863808</td>\n",
       "      <td>1.863808</td>\n",
       "    </tr>\n",
       "    <tr>\n",
       "      <th>6</th>\n",
       "      <td>26</td>\n",
       "      <td>35.696460</td>\n",
       "      <td>9.696460</td>\n",
       "    </tr>\n",
       "    <tr>\n",
       "      <th>7</th>\n",
       "      <td>29</td>\n",
       "      <td>31.138749</td>\n",
       "      <td>2.138749</td>\n",
       "    </tr>\n",
       "    <tr>\n",
       "      <th>8</th>\n",
       "      <td>30</td>\n",
       "      <td>31.410030</td>\n",
       "      <td>1.410030</td>\n",
       "    </tr>\n",
       "    <tr>\n",
       "      <th>9</th>\n",
       "      <td>26</td>\n",
       "      <td>36.916078</td>\n",
       "      <td>10.916078</td>\n",
       "    </tr>\n",
       "    <tr>\n",
       "      <th>10</th>\n",
       "      <td>28</td>\n",
       "      <td>23.939526</td>\n",
       "      <td>-4.060474</td>\n",
       "    </tr>\n",
       "    <tr>\n",
       "      <th>11</th>\n",
       "      <td>32</td>\n",
       "      <td>29.586855</td>\n",
       "      <td>-2.413145</td>\n",
       "    </tr>\n",
       "    <tr>\n",
       "      <th>12</th>\n",
       "      <td>31</td>\n",
       "      <td>36.463707</td>\n",
       "      <td>5.463707</td>\n",
       "    </tr>\n",
       "    <tr>\n",
       "      <th>13</th>\n",
       "      <td>30</td>\n",
       "      <td>36.633700</td>\n",
       "      <td>6.633700</td>\n",
       "    </tr>\n",
       "    <tr>\n",
       "      <th>14</th>\n",
       "      <td>45</td>\n",
       "      <td>48.538453</td>\n",
       "      <td>3.538453</td>\n",
       "    </tr>\n",
       "  </tbody>\n",
       "</table>\n",
       "</div>"
      ],
      "text/plain": [
       "    weight_10  weight_20  weight_change\n",
       "0          25  18.684564      -6.315436\n",
       "1          30  27.432348      -2.567652\n",
       "2          28  30.496016       2.496016\n",
       "3          35  28.300957      -6.699043\n",
       "4          28  24.352370      -3.647630\n",
       "5          34  35.863808       1.863808\n",
       "6          26  35.696460       9.696460\n",
       "7          29  31.138749       2.138749\n",
       "8          30  31.410030       1.410030\n",
       "9          26  36.916078      10.916078\n",
       "10         28  23.939526      -4.060474\n",
       "11         32  29.586855      -2.413145\n",
       "12         31  36.463707       5.463707\n",
       "13         30  36.633700       6.633700\n",
       "14         45  48.538453       3.538453"
      ]
     },
     "execution_count": 60,
     "metadata": {},
     "output_type": "execute_result"
    }
   ],
   "source": [
    "weight_df"
   ]
  },
  {
   "cell_type": "code",
   "execution_count": 62,
   "id": "7fa5d545",
   "metadata": {},
   "outputs": [
    {
     "name": "stdout",
     "output_type": "stream",
     "text": [
      "0.39907052675466614\n"
     ]
    }
   ],
   "source": [
    "_,p_value=stats.ttest_rel(a=weight1,b=weight2)\n",
    "print(p_value)"
   ]
  },
  {
   "cell_type": "code",
   "execution_count": 63,
   "id": "25a0a6cf",
   "metadata": {},
   "outputs": [
    {
     "name": "stdout",
     "output_type": "stream",
     "text": [
      "we are accepting null hypothesis\n"
     ]
    }
   ],
   "source": [
    "if p_value<0.05:\n",
    "    print(\"we are rejecting null hypothesis\")\n",
    "else:\n",
    "    print(\"we are accepting null hypothesis\")"
   ]
  },
  {
   "cell_type": "code",
   "execution_count": 64,
   "id": "05feac76",
   "metadata": {},
   "outputs": [
    {
     "data": {
      "text/html": [
       "<div>\n",
       "<style scoped>\n",
       "    .dataframe tbody tr th:only-of-type {\n",
       "        vertical-align: middle;\n",
       "    }\n",
       "\n",
       "    .dataframe tbody tr th {\n",
       "        vertical-align: top;\n",
       "    }\n",
       "\n",
       "    .dataframe thead th {\n",
       "        text-align: right;\n",
       "    }\n",
       "</style>\n",
       "<table border=\"1\" class=\"dataframe\">\n",
       "  <thead>\n",
       "    <tr style=\"text-align: right;\">\n",
       "      <th></th>\n",
       "      <th>sepal_length</th>\n",
       "      <th>sepal_width</th>\n",
       "      <th>petal_length</th>\n",
       "      <th>petal_width</th>\n",
       "      <th>species</th>\n",
       "    </tr>\n",
       "  </thead>\n",
       "  <tbody>\n",
       "    <tr>\n",
       "      <th>0</th>\n",
       "      <td>5.1</td>\n",
       "      <td>3.5</td>\n",
       "      <td>1.4</td>\n",
       "      <td>0.2</td>\n",
       "      <td>setosa</td>\n",
       "    </tr>\n",
       "    <tr>\n",
       "      <th>1</th>\n",
       "      <td>4.9</td>\n",
       "      <td>3.0</td>\n",
       "      <td>1.4</td>\n",
       "      <td>0.2</td>\n",
       "      <td>setosa</td>\n",
       "    </tr>\n",
       "    <tr>\n",
       "      <th>2</th>\n",
       "      <td>4.7</td>\n",
       "      <td>3.2</td>\n",
       "      <td>1.3</td>\n",
       "      <td>0.2</td>\n",
       "      <td>setosa</td>\n",
       "    </tr>\n",
       "    <tr>\n",
       "      <th>3</th>\n",
       "      <td>4.6</td>\n",
       "      <td>3.1</td>\n",
       "      <td>1.5</td>\n",
       "      <td>0.2</td>\n",
       "      <td>setosa</td>\n",
       "    </tr>\n",
       "    <tr>\n",
       "      <th>4</th>\n",
       "      <td>5.0</td>\n",
       "      <td>3.6</td>\n",
       "      <td>1.4</td>\n",
       "      <td>0.2</td>\n",
       "      <td>setosa</td>\n",
       "    </tr>\n",
       "    <tr>\n",
       "      <th>...</th>\n",
       "      <td>...</td>\n",
       "      <td>...</td>\n",
       "      <td>...</td>\n",
       "      <td>...</td>\n",
       "      <td>...</td>\n",
       "    </tr>\n",
       "    <tr>\n",
       "      <th>145</th>\n",
       "      <td>6.7</td>\n",
       "      <td>3.0</td>\n",
       "      <td>5.2</td>\n",
       "      <td>2.3</td>\n",
       "      <td>virginica</td>\n",
       "    </tr>\n",
       "    <tr>\n",
       "      <th>146</th>\n",
       "      <td>6.3</td>\n",
       "      <td>2.5</td>\n",
       "      <td>5.0</td>\n",
       "      <td>1.9</td>\n",
       "      <td>virginica</td>\n",
       "    </tr>\n",
       "    <tr>\n",
       "      <th>147</th>\n",
       "      <td>6.5</td>\n",
       "      <td>3.0</td>\n",
       "      <td>5.2</td>\n",
       "      <td>2.0</td>\n",
       "      <td>virginica</td>\n",
       "    </tr>\n",
       "    <tr>\n",
       "      <th>148</th>\n",
       "      <td>6.2</td>\n",
       "      <td>3.4</td>\n",
       "      <td>5.4</td>\n",
       "      <td>2.3</td>\n",
       "      <td>virginica</td>\n",
       "    </tr>\n",
       "    <tr>\n",
       "      <th>149</th>\n",
       "      <td>5.9</td>\n",
       "      <td>3.0</td>\n",
       "      <td>5.1</td>\n",
       "      <td>1.8</td>\n",
       "      <td>virginica</td>\n",
       "    </tr>\n",
       "  </tbody>\n",
       "</table>\n",
       "<p>150 rows × 5 columns</p>\n",
       "</div>"
      ],
      "text/plain": [
       "     sepal_length  sepal_width  petal_length  petal_width    species\n",
       "0             5.1          3.5           1.4          0.2     setosa\n",
       "1             4.9          3.0           1.4          0.2     setosa\n",
       "2             4.7          3.2           1.3          0.2     setosa\n",
       "3             4.6          3.1           1.5          0.2     setosa\n",
       "4             5.0          3.6           1.4          0.2     setosa\n",
       "..            ...          ...           ...          ...        ...\n",
       "145           6.7          3.0           5.2          2.3  virginica\n",
       "146           6.3          2.5           5.0          1.9  virginica\n",
       "147           6.5          3.0           5.2          2.0  virginica\n",
       "148           6.2          3.4           5.4          2.3  virginica\n",
       "149           5.9          3.0           5.1          1.8  virginica\n",
       "\n",
       "[150 rows x 5 columns]"
      ]
     },
     "execution_count": 64,
     "metadata": {},
     "output_type": "execute_result"
    }
   ],
   "source": [
    "# CORRELATION\n",
    "import seaborn as sns\n",
    "df=sns.load_dataset('iris')\n",
    "df"
   ]
  },
  {
   "cell_type": "code",
   "execution_count": 65,
   "id": "be4f0916",
   "metadata": {},
   "outputs": [
    {
     "data": {
      "text/plain": [
       "(150, 5)"
      ]
     },
     "execution_count": 65,
     "metadata": {},
     "output_type": "execute_result"
    }
   ],
   "source": [
    "df.shape"
   ]
  },
  {
   "cell_type": "code",
   "execution_count": 66,
   "id": "3d32eb48",
   "metadata": {},
   "outputs": [
    {
     "data": {
      "text/html": [
       "<div>\n",
       "<style scoped>\n",
       "    .dataframe tbody tr th:only-of-type {\n",
       "        vertical-align: middle;\n",
       "    }\n",
       "\n",
       "    .dataframe tbody tr th {\n",
       "        vertical-align: top;\n",
       "    }\n",
       "\n",
       "    .dataframe thead th {\n",
       "        text-align: right;\n",
       "    }\n",
       "</style>\n",
       "<table border=\"1\" class=\"dataframe\">\n",
       "  <thead>\n",
       "    <tr style=\"text-align: right;\">\n",
       "      <th></th>\n",
       "      <th>sepal_length</th>\n",
       "      <th>sepal_width</th>\n",
       "      <th>petal_length</th>\n",
       "      <th>petal_width</th>\n",
       "    </tr>\n",
       "  </thead>\n",
       "  <tbody>\n",
       "    <tr>\n",
       "      <th>sepal_length</th>\n",
       "      <td>1.000000</td>\n",
       "      <td>-0.117570</td>\n",
       "      <td>0.871754</td>\n",
       "      <td>0.817941</td>\n",
       "    </tr>\n",
       "    <tr>\n",
       "      <th>sepal_width</th>\n",
       "      <td>-0.117570</td>\n",
       "      <td>1.000000</td>\n",
       "      <td>-0.428440</td>\n",
       "      <td>-0.366126</td>\n",
       "    </tr>\n",
       "    <tr>\n",
       "      <th>petal_length</th>\n",
       "      <td>0.871754</td>\n",
       "      <td>-0.428440</td>\n",
       "      <td>1.000000</td>\n",
       "      <td>0.962865</td>\n",
       "    </tr>\n",
       "    <tr>\n",
       "      <th>petal_width</th>\n",
       "      <td>0.817941</td>\n",
       "      <td>-0.366126</td>\n",
       "      <td>0.962865</td>\n",
       "      <td>1.000000</td>\n",
       "    </tr>\n",
       "  </tbody>\n",
       "</table>\n",
       "</div>"
      ],
      "text/plain": [
       "              sepal_length  sepal_width  petal_length  petal_width\n",
       "sepal_length      1.000000    -0.117570      0.871754     0.817941\n",
       "sepal_width      -0.117570     1.000000     -0.428440    -0.366126\n",
       "petal_length      0.871754    -0.428440      1.000000     0.962865\n",
       "petal_width       0.817941    -0.366126      0.962865     1.000000"
      ]
     },
     "execution_count": 66,
     "metadata": {},
     "output_type": "execute_result"
    }
   ],
   "source": [
    "# value=0 not correlated, if it equals to neg val means inversely correlated,if it is near to 1  means highly correlated\n",
    "# corrr b/w 0 to 1\n",
    "#used in feature selection\n",
    "df.corr()"
   ]
  },
  {
   "cell_type": "code",
   "execution_count": 67,
   "id": "abccd936",
   "metadata": {},
   "outputs": [
    {
     "data": {
      "text/plain": [
       "<seaborn.axisgrid.PairGrid at 0x1b5fec881c0>"
      ]
     },
     "execution_count": 67,
     "metadata": {},
     "output_type": "execute_result"
    },
    {
     "data": {
      "image/png": "[encoded data removed]",
      "text/plain": [
       "<Figure size 720x720 with 20 Axes>"
      ]
     },
     "metadata": {
      "needs_background": "light"
     },
     "output_type": "display_data"
    }
   ],
   "source": [
    "sns.pairplot(df)"
   ]
  },
  {
   "cell_type": "code",
   "execution_count": 68,
   "id": "ed724845",
   "metadata": {},
   "outputs": [],
   "source": [
    "\n",
    "import scipy.stats as stats\n",
    "import seaborn as sns\n",
    "import pandas as pd\n",
    "import numpy as np\n",
    "dataset=sns.load_dataset('tips')"
   ]
  },
  {
   "cell_type": "code",
   "execution_count": 69,
   "id": "c044613e",
   "metadata": {},
   "outputs": [
    {
     "data": {
      "text/html": [
       "<div>\n",
       "<style scoped>\n",
       "    .dataframe tbody tr th:only-of-type {\n",
       "        vertical-align: middle;\n",
       "    }\n",
       "\n",
       "    .dataframe tbody tr th {\n",
       "        vertical-align: top;\n",
       "    }\n",
       "\n",
       "    .dataframe thead th {\n",
       "        text-align: right;\n",
       "    }\n",
       "</style>\n",
       "<table border=\"1\" class=\"dataframe\">\n",
       "  <thead>\n",
       "    <tr style=\"text-align: right;\">\n",
       "      <th></th>\n",
       "      <th>total_bill</th>\n",
       "      <th>tip</th>\n",
       "      <th>sex</th>\n",
       "      <th>smoker</th>\n",
       "      <th>day</th>\n",
       "      <th>time</th>\n",
       "      <th>size</th>\n",
       "    </tr>\n",
       "  </thead>\n",
       "  <tbody>\n",
       "    <tr>\n",
       "      <th>0</th>\n",
       "      <td>16.99</td>\n",
       "      <td>1.01</td>\n",
       "      <td>Female</td>\n",
       "      <td>No</td>\n",
       "      <td>Sun</td>\n",
       "      <td>Dinner</td>\n",
       "      <td>2</td>\n",
       "    </tr>\n",
       "    <tr>\n",
       "      <th>1</th>\n",
       "      <td>10.34</td>\n",
       "      <td>1.66</td>\n",
       "      <td>Male</td>\n",
       "      <td>No</td>\n",
       "      <td>Sun</td>\n",
       "      <td>Dinner</td>\n",
       "      <td>3</td>\n",
       "    </tr>\n",
       "    <tr>\n",
       "      <th>2</th>\n",
       "      <td>21.01</td>\n",
       "      <td>3.50</td>\n",
       "      <td>Male</td>\n",
       "      <td>No</td>\n",
       "      <td>Sun</td>\n",
       "      <td>Dinner</td>\n",
       "      <td>3</td>\n",
       "    </tr>\n",
       "    <tr>\n",
       "      <th>3</th>\n",
       "      <td>23.68</td>\n",
       "      <td>3.31</td>\n",
       "      <td>Male</td>\n",
       "      <td>No</td>\n",
       "      <td>Sun</td>\n",
       "      <td>Dinner</td>\n",
       "      <td>2</td>\n",
       "    </tr>\n",
       "    <tr>\n",
       "      <th>4</th>\n",
       "      <td>24.59</td>\n",
       "      <td>3.61</td>\n",
       "      <td>Female</td>\n",
       "      <td>No</td>\n",
       "      <td>Sun</td>\n",
       "      <td>Dinner</td>\n",
       "      <td>4</td>\n",
       "    </tr>\n",
       "  </tbody>\n",
       "</table>\n",
       "</div>"
      ],
      "text/plain": [
       "   total_bill   tip     sex smoker  day    time  size\n",
       "0       16.99  1.01  Female     No  Sun  Dinner     2\n",
       "1       10.34  1.66    Male     No  Sun  Dinner     3\n",
       "2       21.01  3.50    Male     No  Sun  Dinner     3\n",
       "3       23.68  3.31    Male     No  Sun  Dinner     2\n",
       "4       24.59  3.61  Female     No  Sun  Dinner     4"
      ]
     },
     "execution_count": 69,
     "metadata": {},
     "output_type": "execute_result"
    }
   ],
   "source": [
    "dataset.head()"
   ]
  },
  {
   "cell_type": "code",
   "execution_count": 70,
   "id": "781247fa",
   "metadata": {},
   "outputs": [
    {
     "name": "stdout",
     "output_type": "stream",
     "text": [
      "smoker  Yes  No\n",
      "sex            \n",
      "Male     60  97\n",
      "Female   33  54\n"
     ]
    }
   ],
   "source": [
    "# chi square test is applied when you have two categorical variables from single population,it is used to determine\n",
    "#whether there is significant association b/w the two variables\n",
    "# to find the association between sex and smoker using chisquare\n",
    "dataset_table=pd.crosstab(dataset['sex'],dataset['smoker'])\n",
    "print(dataset_table)"
   ]
  },
  {
   "cell_type": "code",
   "execution_count": 72,
   "id": "f508ee51",
   "metadata": {},
   "outputs": [
    {
     "data": {
      "text/plain": [
       "array([[60, 97],\n",
       "       [33, 54]], dtype=int64)"
      ]
     },
     "execution_count": 72,
     "metadata": {},
     "output_type": "execute_result"
    }
   ],
   "source": [
    "dataset_table.values"
   ]
  },
  {
   "cell_type": "code",
   "execution_count": 74,
   "id": "b1c7bbe6",
   "metadata": {},
   "outputs": [
    {
     "name": "stdout",
     "output_type": "stream",
     "text": [
      "[[60 97]\n",
      " [33 54]]\n"
     ]
    }
   ],
   "source": [
    "# naming it as Observed values\n",
    "Observed_Values=dataset_table.values\n",
    "print(Observed_Values)"
   ]
  },
  {
   "cell_type": "code",
   "execution_count": 76,
   "id": "04dfe554",
   "metadata": {},
   "outputs": [
    {
     "data": {
      "text/plain": [
       "(0.0,\n",
       " 1.0,\n",
       " 1,\n",
       " array([[59.84016393, 97.15983607],\n",
       "        [33.15983607, 53.84016393]]))"
      ]
     },
     "execution_count": 76,
     "metadata": {},
     "output_type": "execute_result"
    }
   ],
   "source": [
    "#'chi2_contingency' function compute  the chi square statistic and p value for the hypothesis test of independence of\n",
    "#the observed frequencies in the contigency table\n",
    "#[[60 97]\n",
    "# [33 54]] are observed values\n",
    "#array([[59.84016393, 97.15983607],\n",
    "        #[33.15983607, 53.84016393]]))   are expected values\n",
    "val=stats.chi2_contingency(dataset_table)\n",
    "val"
   ]
  },
  {
   "cell_type": "code",
   "execution_count": 77,
   "id": "0061fd20",
   "metadata": {},
   "outputs": [],
   "source": [
    "Expected_Values=val[3]"
   ]
  },
  {
   "cell_type": "code",
   "execution_count": 79,
   "id": "751102ce",
   "metadata": {},
   "outputs": [
    {
     "name": "stdout",
     "output_type": "stream",
     "text": [
      "1\n"
     ]
    }
   ],
   "source": [
    "#ddof= degree of freedom\n",
    "#set alpha=0.05 ,learning rate or can say 95% of variance we should capture\n",
    "no_of_rows=len(dataset_table.iloc[0:2,0])\n",
    "no_of_columns=len(dataset_table.iloc[0,0:2])\n",
    "ddof=(no_of_rows-1)*(no_of_columns-1)\n",
    "print(ddof)\n",
    "alpha=0.05"
   ]
  },
  {
   "cell_type": "code",
   "execution_count": 81,
   "id": "61d2f237",
   "metadata": {},
   "outputs": [],
   "source": [
    "# chi sq formula: x sq= summation(o-e)**2/e     o obse, e  expected\n",
    "# zipping because obs and exp are 2x2 mat\n",
    "from scipy.stats import chi2\n",
    "chi_square=sum([(o-e)**2./e for o,e in zip(Observed_Values,Expected_Values)])\n",
    "chi_square_statistic=chi_square[0]+chi_square[1]"
   ]
  },
  {
   "cell_type": "code",
   "execution_count": 82,
   "id": "33c9178d",
   "metadata": {},
   "outputs": [
    {
     "name": "stdout",
     "output_type": "stream",
     "text": [
      "chi-square statistic:- 0.001934818536627623\n"
     ]
    }
   ],
   "source": [
    "print(\"chi-square statistic:-\",chi_square_statistic)"
   ]
  },
  {
   "cell_type": "code",
   "execution_count": 83,
   "id": "792e079b",
   "metadata": {},
   "outputs": [
    {
     "name": "stdout",
     "output_type": "stream",
     "text": [
      "3.841458820694124\n"
     ]
    }
   ],
   "source": [
    "# ppf is percent point function which is inverse of cdf (cummulative density function)\n",
    "# p value is alpha so q value is (1-alpha) ,df=degree of freedom)\n",
    "critical_value=chi2.ppf(q=1-alpha,df=ddof)\n",
    "print(critical_value)"
   ]
  },
  {
   "cell_type": "code",
   "execution_count": 84,
   "id": "8236f3c8",
   "metadata": {
    "scrolled": true
   },
   "outputs": [
    {
     "name": "stdout",
     "output_type": "stream",
     "text": [
      "0.964915107315732\n",
      "0.05\n",
      "1\n"
     ]
    }
   ],
   "source": [
    "# then calculate p value\n",
    "p_value=1-chi2.cdf(x=chi_square_statistic,df=ddof)\n",
    "print(p_value)\n",
    "print(alpha)\n",
    "print(ddof)\n"
   ]
  },
  {
   "cell_type": "code",
   "execution_count": 85,
   "id": "fd553f82",
   "metadata": {},
   "outputs": [
    {
     "name": "stdout",
     "output_type": "stream",
     "text": [
      "Retain H0, there is no relationship between 2 categorical variables\n",
      "Retain H0, there is no relationship between 2 categorical values\n"
     ]
    }
   ],
   "source": [
    "if chi_square_statistic>=critical_value:\n",
    "    print(\"Reject H0,there is relationship between 2 categorical variables\")\n",
    "else:\n",
    "    print(\"Retain H0, there is no relationship between 2 categorical variables\")\n",
    "if p_value<=alpha:\n",
    "    print(\"Reject H0, there is relationship between 2 categorical variables\")\n",
    "else: \n",
    "    print(\"Retain H0, there is no relationship between 2 categorical values\")"
   ]
  },
  {
   "cell_type": "markdown",
   "id": "509b8c0f",
   "metadata": {},
   "source": [
    "➤\t                           If testing proportions, chi-squared test.\n",
    "➤\t                           If testing medians, Mann–Whitney U test.\n",
    "➤\t                           If testing means, Welch's t-test.\n",
    "\n",
    "\n",
    "\n",
    "\n",
    "\n",
    "\n",
    "\n"
   ]
  },
  {
   "cell_type": "markdown",
   "id": "91a82033",
   "metadata": {},
   "source": [
    "                 ➤\tIf testing homogeneity:\n",
    "➤\tIf total sample size < 1000, or\n",
    "more than 20% of cells have expected frequencies < 5, Fisher's exact test.\n",
    "➤\tElse, chi-squared test, or 2×2 chi-squared test  two-proportion z-test.\n",
    "➤\tIf testing equality:\n",
    "➤\tIf median is better, don't want to trim outliers, variable is ordinal, or any group size ≤ 20:\n",
    "➤\tIf groups are paired, Wilcoxon signed-rank test.\n",
    "➤\tIf groups are independent, Mann–Whitney U test.\n",
    "➤\tElse:\n",
    "➤\tIf groups are paired, Paired Student's t-test.\n",
    "➤\tIf groups are independent, Welch's t-test, not Student's.\n",
    "           "
   ]
  },
  {
   "cell_type": "code",
   "execution_count": 86,
   "id": "4e08a3d3",
   "metadata": {},
   "outputs": [],
   "source": [
    "import csv\n",
    "import math\n",
    "import os\n",
    "\n",
    "import numpy as np\n",
    "import pandas as pd\n",
    "import seaborn as sns\n",
    "\n",
    "import matplotlib.mlab as mlab\n",
    "import matplotlib.pyplot as plt\n",
    "%matplotlib inline\n",
    "\n",
    "import scipy.stats as stat"
   ]
  },
  {
   "cell_type": "code",
   "execution_count": 87,
   "id": "a544f6a0",
   "metadata": {},
   "outputs": [
    {
     "data": {
      "text/html": [
       "<div>\n",
       "<style scoped>\n",
       "    .dataframe tbody tr th:only-of-type {\n",
       "        vertical-align: middle;\n",
       "    }\n",
       "\n",
       "    .dataframe tbody tr th {\n",
       "        vertical-align: top;\n",
       "    }\n",
       "\n",
       "    .dataframe thead th {\n",
       "        text-align: right;\n",
       "    }\n",
       "</style>\n",
       "<table border=\"1\" class=\"dataframe\">\n",
       "  <thead>\n",
       "    <tr style=\"text-align: right;\">\n",
       "      <th></th>\n",
       "      <th>Seq No</th>\n",
       "      <th>intnum</th>\n",
       "      <th>persnum</th>\n",
       "      <th>age</th>\n",
       "      <th>educatn</th>\n",
       "      <th>earnings</th>\n",
       "      <th>hours</th>\n",
       "      <th>kids</th>\n",
       "      <th>married</th>\n",
       "    </tr>\n",
       "  </thead>\n",
       "  <tbody>\n",
       "    <tr>\n",
       "      <th>0</th>\n",
       "      <td>1</td>\n",
       "      <td>4</td>\n",
       "      <td>4</td>\n",
       "      <td>39</td>\n",
       "      <td>12.0</td>\n",
       "      <td>77250</td>\n",
       "      <td>2940</td>\n",
       "      <td>2</td>\n",
       "      <td>married</td>\n",
       "    </tr>\n",
       "    <tr>\n",
       "      <th>1</th>\n",
       "      <td>2</td>\n",
       "      <td>4</td>\n",
       "      <td>6</td>\n",
       "      <td>35</td>\n",
       "      <td>12.0</td>\n",
       "      <td>12000</td>\n",
       "      <td>2040</td>\n",
       "      <td>2</td>\n",
       "      <td>divorced</td>\n",
       "    </tr>\n",
       "    <tr>\n",
       "      <th>2</th>\n",
       "      <td>3</td>\n",
       "      <td>4</td>\n",
       "      <td>7</td>\n",
       "      <td>33</td>\n",
       "      <td>12.0</td>\n",
       "      <td>8000</td>\n",
       "      <td>693</td>\n",
       "      <td>1</td>\n",
       "      <td>married</td>\n",
       "    </tr>\n",
       "    <tr>\n",
       "      <th>3</th>\n",
       "      <td>4</td>\n",
       "      <td>4</td>\n",
       "      <td>173</td>\n",
       "      <td>39</td>\n",
       "      <td>10.0</td>\n",
       "      <td>15000</td>\n",
       "      <td>1904</td>\n",
       "      <td>2</td>\n",
       "      <td>married</td>\n",
       "    </tr>\n",
       "    <tr>\n",
       "      <th>4</th>\n",
       "      <td>5</td>\n",
       "      <td>5</td>\n",
       "      <td>2</td>\n",
       "      <td>47</td>\n",
       "      <td>9.0</td>\n",
       "      <td>6500</td>\n",
       "      <td>1683</td>\n",
       "      <td>5</td>\n",
       "      <td>married</td>\n",
       "    </tr>\n",
       "  </tbody>\n",
       "</table>\n",
       "</div>"
      ],
      "text/plain": [
       "   Seq No  intnum  persnum  age  educatn  earnings  hours  kids   married\n",
       "0       1       4        4   39     12.0     77250   2940     2   married\n",
       "1       2       4        6   35     12.0     12000   2040     2  divorced\n",
       "2       3       4        7   33     12.0      8000    693     1   married\n",
       "3       4       4      173   39     10.0     15000   1904     2   married\n",
       "4       5       5        2   47      9.0      6500   1683     5   married"
      ]
     },
     "execution_count": 87,
     "metadata": {},
     "output_type": "execute_result"
    }
   ],
   "source": [
    "my_data = pd.read_csv('PSID.csv')\n",
    "my_data.head()"
   ]
  },
  {
   "cell_type": "code",
   "execution_count": null,
   "id": "948a5e3d",
   "metadata": {},
   "outputs": [],
   "source": []
  }
 ],
 "metadata": {
  "kernelspec": {
   "display_name": "Python 3 (ipykernel)",
   "language": "python",
   "name": "python3"
  },
  "language_info": {
   "codemirror_mode": {
    "name": "ipython",
    "version": 3
   },
   "file_extension": ".py",
   "mimetype": "text/x-python",
   "name": "python",
   "nbconvert_exporter": "python",
   "pygments_lexer": "ipython3",
   "version": "3.9.7"
  }
 },
 "nbformat": 4,
 "nbformat_minor": 5
}
