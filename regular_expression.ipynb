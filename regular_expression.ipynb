{
 "cells": [
  {
   "cell_type": "code",
   "execution_count": 2,
   "id": "7a88675d",
   "metadata": {},
   "outputs": [],
   "source": [
    "# https://github.com/Aniket97/Regular-expression-in-python/blob/main/Regex_Notes.ipynb\n",
    "# https://www.youtube.com/watch?v=K8L6KVGG-7o\n",
    "import re"
   ]
  },
  {
   "cell_type": "code",
   "execution_count": null,
   "id": "c87c9a40",
   "metadata": {},
   "outputs": [],
   "source": [
    "#  a regular expressions is a special sequence of characters that uses a search pattern to find a string  or set of strings\n",
    "# it can detect the presence or absence of text by matching it with a particular pattern, also can split a pattern into\n",
    "# one or more sub patterns\n",
    "# python provides a remodule whole primary function is to offer a search , where it takes a regular expression and string\n",
    "\n",
    "# Import re used to import the re module\n",
    "# \\ used to drop the special meaning of character following it\n",
    "# [ ] represents a character class\n",
    "# ^ matches the beginning\n",
    "#  .   matches any character except newline\n",
    "# |  means OR ( matches with any of character separated by it)\n",
    "# ?  matches zero or one occurence\n",
    "# * any no. of occurences ( including 0 occurences)\n",
    "# + one or more occurence\n",
    "# { } indicate the no.of occurence  of preceeding regex to match\n",
    "#  () enclose a group of regex \n",
    "\n",
    "# Special Sequence in Regex  :  Special sequence do not match for the actual character in the string instead it tells the\n",
    "#specific location  in the search string where the match must occur\n",
    "\n",
    "# it makes it easier to write  commonly used patterns\n",
    "\n",
    "#  \\A matches if the string begins with the given character\n",
    "\n",
    "# \\b   matches if the word begins or ends with the given character \\b(string) will check for the beginning of word\n",
    "# (string)\\b  will check for the ending for word\n",
    "\n",
    "# \\B  it is opposite of \\b i.e. string should not start or end with given regex\n",
    "# \\d  matches any decimal digit\n",
    "# \\D  matches any non digit character , this is equivalent to set class[^ 0-9]\n",
    "# \\s   matches any whitespace character\n",
    "# \\S   matches any non whitespace character\n",
    "# \\w  matches any alphanumeric character\n",
    "#  \\W   matches any non-alphanumeric character\n",
    "#  \\Z   matches if the string ends with given regex\n",
    "\n",
    "\n",
    "# Regex Sets  :  A Set is a set of characters inside a pair of square brackets[] with special meaning.\n",
    "# [atx]  returns a match where one of the specified characters (a,t, or x ) are present\n",
    "# [a-h]  returns a match for any lower case character , alphabetically between a and h\n",
    "#  [^atx] returns a match for any character  EXCEPT a, t or x\n",
    "# [0123] returns a match where any of the specified digits (0,1,2 or 3 ) are present\n",
    "# [0-9] returns a match for any digit  b/w 0 to 9\n",
    "# [0-7][0-9] returns a match for any two digit number from 00 and 79\n",
    "# [a-zA-Z] returns a match for any character b/w this range\n",
    "\n",
    "\n",
    "# Functions in regEX:\n",
    "# 1. re.findall()  -  returns all non overlapping matches of pattern in string, as a list of strings .The string is scanned\n",
    "# left to right , and matches are returned in the order found\n",
    "\n",
    "# 2.  re.compile() :  regular expressions are compiled into pattern objects , which have methods for various operations \n",
    "\n",
    "# 3. resplit()  split string by the occurences of character or a pattern , upon finding that pattern , the remaining \n",
    "#  characters from the string are returned as part of resulting list\n",
    "\n",
    "# 4. re.sub() the method returns a string where matched occurences are replaced with content of replace variable\n",
    "\n",
    "# 5. re.subn() is similar to sub()  , except in its way of providing output.it returns a tuple with count of total of \n",
    "# replacement and new string rather than just the string\n",
    "\n",
    "# 6 re.escape()  returns string with all non alphanumerics backslashed , that is useful if you want to match an arbitrary \n",
    "# literal string \n",
    "\n",
    "# 7.re.search()  this method either returns None (if the pattern doenn't match) or re. This method stops after first match , best \n",
    "# suited for testing a regular expression more than extraccting data\n",
    "\n",
    "# Match Object  :  contains all the information about the search and result and if there is no match found then None \n",
    "# will be returned"
   ]
  },
  {
   "cell_type": "code",
   "execution_count": 2,
   "id": "42e6a1c2",
   "metadata": {},
   "outputs": [
    {
     "name": "stdout",
     "output_type": "stream",
     "text": [
      "\tTab\n",
      "\\tTab\n"
     ]
    }
   ],
   "source": [
    "# To give a pattern to the regular expression module 're' we must send the string as raw string like r'This is a string'\n",
    "print('\\tTab')\n",
    "print(r'\\tTab')"
   ]
  },
  {
   "cell_type": "code",
   "execution_count": null,
   "id": "61e88393",
   "metadata": {},
   "outputs": [],
   "source": [
    "# re.compile() function to store the patterns in a variables which will help us to reuse the patterns and we can give \n",
    "# meaningful names to a pattern which makes the code more readable."
   ]
  },
  {
   "cell_type": "code",
   "execution_count": 3,
   "id": "73b845e6",
   "metadata": {},
   "outputs": [],
   "source": [
    "# just a dummy text that contains alphabets, numbers, special characters, \n",
    "# email id, phone numbers, Name in specific formats. \n",
    "text_to_search = '''\n",
    "abcdefghijklmnopqurtuvwxyz\n",
    "ABCDEFGHIJKLMNOPQRSTUVWXYZ\n",
    "1234567890\n",
    "Ha HaHa\n",
    "MetaCharacters (Need to be escaped):\n",
    ". ^ $ * + ? { } [ ] \\ | ( )\n",
    "\n",
    "321-555-4321\n",
    "123.555.1234\n",
    "123*555*1234\n",
    "800-555-1234\n",
    "900-555-1234\n",
    "Mr. Schafer\n",
    "Mr Smith\n",
    "Ms Davis\n",
    "Mrs. Robinson\n",
    "Mr. T\n",
    "'''"
   ]
  },
  {
   "cell_type": "code",
   "execution_count": 5,
   "id": "9fc1b06f",
   "metadata": {},
   "outputs": [
    {
     "name": "stdout",
     "output_type": "stream",
     "text": [
      "<re.Match object; span=(1, 4), match='abc'>\n"
     ]
    }
   ],
   "source": [
    "# lets search 'abc' in the string\n",
    "# Also ABC was not matched here. Hence regex is case-sensitive.\n",
    "pattern_abc = re.compile('abc')\n",
    "\n",
    "matches = pattern_abc.finditer(text_to_search)\n",
    "for match in matches:\n",
    "    print(match)"
   ]
  },
  {
   "cell_type": "code",
   "execution_count": 6,
   "id": "d0c4decb",
   "metadata": {},
   "outputs": [
    {
     "name": "stdout",
     "output_type": "stream",
     "text": [
      "<re.Match object; span=(1, 2), match='a'>\n",
      "<re.Match object; span=(2, 3), match='b'>\n",
      "<re.Match object; span=(3, 4), match='c'>\n",
      "<re.Match object; span=(4, 5), match='d'>\n",
      "<re.Match object; span=(5, 6), match='e'>\n",
      "<re.Match object; span=(6, 7), match='f'>\n",
      "<re.Match object; span=(7, 8), match='g'>\n",
      "<re.Match object; span=(8, 9), match='h'>\n",
      "<re.Match object; span=(9, 10), match='i'>\n",
      "<re.Match object; span=(10, 11), match='j'>\n",
      "<re.Match object; span=(11, 12), match='k'>\n",
      "<re.Match object; span=(12, 13), match='l'>\n",
      "<re.Match object; span=(13, 14), match='m'>\n",
      "<re.Match object; span=(14, 15), match='n'>\n",
      "<re.Match object; span=(15, 16), match='o'>\n",
      "<re.Match object; span=(16, 17), match='p'>\n",
      "<re.Match object; span=(17, 18), match='q'>\n",
      "<re.Match object; span=(18, 19), match='u'>\n",
      "<re.Match object; span=(19, 20), match='r'>\n",
      "<re.Match object; span=(20, 21), match='t'>\n",
      "<re.Match object; span=(21, 22), match='u'>\n",
      "<re.Match object; span=(22, 23), match='v'>\n",
      "<re.Match object; span=(23, 24), match='w'>\n",
      "<re.Match object; span=(24, 25), match='x'>\n",
      "<re.Match object; span=(25, 26), match='y'>\n",
      "<re.Match object; span=(26, 27), match='z'>\n",
      "<re.Match object; span=(28, 29), match='A'>\n",
      "<re.Match object; span=(29, 30), match='B'>\n",
      "<re.Match object; span=(30, 31), match='C'>\n",
      "<re.Match object; span=(31, 32), match='D'>\n",
      "<re.Match object; span=(32, 33), match='E'>\n",
      "<re.Match object; span=(33, 34), match='F'>\n",
      "<re.Match object; span=(34, 35), match='G'>\n",
      "<re.Match object; span=(35, 36), match='H'>\n",
      "<re.Match object; span=(36, 37), match='I'>\n",
      "<re.Match object; span=(37, 38), match='J'>\n",
      "<re.Match object; span=(38, 39), match='K'>\n",
      "<re.Match object; span=(39, 40), match='L'>\n",
      "<re.Match object; span=(40, 41), match='M'>\n",
      "<re.Match object; span=(41, 42), match='N'>\n",
      "<re.Match object; span=(42, 43), match='O'>\n",
      "<re.Match object; span=(43, 44), match='P'>\n",
      "<re.Match object; span=(44, 45), match='Q'>\n",
      "<re.Match object; span=(45, 46), match='R'>\n",
      "<re.Match object; span=(46, 47), match='S'>\n",
      "<re.Match object; span=(47, 48), match='T'>\n",
      "<re.Match object; span=(48, 49), match='U'>\n",
      "<re.Match object; span=(49, 50), match='V'>\n",
      "<re.Match object; span=(50, 51), match='W'>\n",
      "<re.Match object; span=(51, 52), match='X'>\n",
      "<re.Match object; span=(52, 53), match='Y'>\n",
      "<re.Match object; span=(53, 54), match='Z'>\n",
      "<re.Match object; span=(55, 56), match='1'>\n",
      "<re.Match object; span=(56, 57), match='2'>\n",
      "<re.Match object; span=(57, 58), match='3'>\n",
      "<re.Match object; span=(58, 59), match='4'>\n",
      "<re.Match object; span=(59, 60), match='5'>\n",
      "<re.Match object; span=(60, 61), match='6'>\n",
      "<re.Match object; span=(61, 62), match='7'>\n",
      "<re.Match object; span=(62, 63), match='8'>\n",
      "<re.Match object; span=(63, 64), match='9'>\n",
      "<re.Match object; span=(64, 65), match='0'>\n",
      "<re.Match object; span=(66, 67), match='H'>\n",
      "<re.Match object; span=(67, 68), match='a'>\n",
      "<re.Match object; span=(68, 69), match=' '>\n",
      "<re.Match object; span=(69, 70), match='H'>\n",
      "<re.Match object; span=(70, 71), match='a'>\n",
      "<re.Match object; span=(71, 72), match='H'>\n",
      "<re.Match object; span=(72, 73), match='a'>\n",
      "<re.Match object; span=(74, 75), match='M'>\n",
      "<re.Match object; span=(75, 76), match='e'>\n",
      "<re.Match object; span=(76, 77), match='t'>\n",
      "<re.Match object; span=(77, 78), match='a'>\n",
      "<re.Match object; span=(78, 79), match='C'>\n",
      "<re.Match object; span=(79, 80), match='h'>\n",
      "<re.Match object; span=(80, 81), match='a'>\n",
      "<re.Match object; span=(81, 82), match='r'>\n",
      "<re.Match object; span=(82, 83), match='a'>\n",
      "<re.Match object; span=(83, 84), match='c'>\n",
      "<re.Match object; span=(84, 85), match='t'>\n",
      "<re.Match object; span=(85, 86), match='e'>\n",
      "<re.Match object; span=(86, 87), match='r'>\n",
      "<re.Match object; span=(87, 88), match='s'>\n",
      "<re.Match object; span=(88, 89), match=' '>\n",
      "<re.Match object; span=(89, 90), match='('>\n",
      "<re.Match object; span=(90, 91), match='N'>\n",
      "<re.Match object; span=(91, 92), match='e'>\n",
      "<re.Match object; span=(92, 93), match='e'>\n",
      "<re.Match object; span=(93, 94), match='d'>\n",
      "<re.Match object; span=(94, 95), match=' '>\n",
      "<re.Match object; span=(95, 96), match='t'>\n",
      "<re.Match object; span=(96, 97), match='o'>\n",
      "<re.Match object; span=(97, 98), match=' '>\n",
      "<re.Match object; span=(98, 99), match='b'>\n",
      "<re.Match object; span=(99, 100), match='e'>\n",
      "<re.Match object; span=(100, 101), match=' '>\n",
      "<re.Match object; span=(101, 102), match='e'>\n",
      "<re.Match object; span=(102, 103), match='s'>\n",
      "<re.Match object; span=(103, 104), match='c'>\n",
      "<re.Match object; span=(104, 105), match='a'>\n",
      "<re.Match object; span=(105, 106), match='p'>\n",
      "<re.Match object; span=(106, 107), match='e'>\n",
      "<re.Match object; span=(107, 108), match='d'>\n",
      "<re.Match object; span=(108, 109), match=')'>\n",
      "<re.Match object; span=(109, 110), match=':'>\n",
      "<re.Match object; span=(111, 112), match='.'>\n",
      "<re.Match object; span=(112, 113), match=' '>\n",
      "<re.Match object; span=(113, 114), match='^'>\n",
      "<re.Match object; span=(114, 115), match=' '>\n",
      "<re.Match object; span=(115, 116), match='$'>\n",
      "<re.Match object; span=(116, 117), match=' '>\n",
      "<re.Match object; span=(117, 118), match='*'>\n",
      "<re.Match object; span=(118, 119), match=' '>\n",
      "<re.Match object; span=(119, 120), match='+'>\n",
      "<re.Match object; span=(120, 121), match=' '>\n",
      "<re.Match object; span=(121, 122), match='?'>\n",
      "<re.Match object; span=(122, 123), match=' '>\n",
      "<re.Match object; span=(123, 124), match='{'>\n",
      "<re.Match object; span=(124, 125), match=' '>\n",
      "<re.Match object; span=(125, 126), match='}'>\n",
      "<re.Match object; span=(126, 127), match=' '>\n",
      "<re.Match object; span=(127, 128), match='['>\n",
      "<re.Match object; span=(128, 129), match=' '>\n",
      "<re.Match object; span=(129, 130), match=']'>\n",
      "<re.Match object; span=(130, 131), match=' '>\n",
      "<re.Match object; span=(131, 132), match='\\\\'>\n",
      "<re.Match object; span=(132, 133), match=' '>\n",
      "<re.Match object; span=(133, 134), match='|'>\n",
      "<re.Match object; span=(134, 135), match=' '>\n",
      "<re.Match object; span=(135, 136), match='('>\n",
      "<re.Match object; span=(136, 137), match=' '>\n",
      "<re.Match object; span=(137, 138), match=')'>\n",
      "<re.Match object; span=(140, 141), match='3'>\n",
      "<re.Match object; span=(141, 142), match='2'>\n",
      "<re.Match object; span=(142, 143), match='1'>\n",
      "<re.Match object; span=(143, 144), match='-'>\n",
      "<re.Match object; span=(144, 145), match='5'>\n",
      "<re.Match object; span=(145, 146), match='5'>\n",
      "<re.Match object; span=(146, 147), match='5'>\n",
      "<re.Match object; span=(147, 148), match='-'>\n",
      "<re.Match object; span=(148, 149), match='4'>\n",
      "<re.Match object; span=(149, 150), match='3'>\n",
      "<re.Match object; span=(150, 151), match='2'>\n",
      "<re.Match object; span=(151, 152), match='1'>\n",
      "<re.Match object; span=(153, 154), match='1'>\n",
      "<re.Match object; span=(154, 155), match='2'>\n",
      "<re.Match object; span=(155, 156), match='3'>\n",
      "<re.Match object; span=(156, 157), match='.'>\n",
      "<re.Match object; span=(157, 158), match='5'>\n",
      "<re.Match object; span=(158, 159), match='5'>\n",
      "<re.Match object; span=(159, 160), match='5'>\n",
      "<re.Match object; span=(160, 161), match='.'>\n",
      "<re.Match object; span=(161, 162), match='1'>\n",
      "<re.Match object; span=(162, 163), match='2'>\n",
      "<re.Match object; span=(163, 164), match='3'>\n",
      "<re.Match object; span=(164, 165), match='4'>\n",
      "<re.Match object; span=(166, 167), match='1'>\n",
      "<re.Match object; span=(167, 168), match='2'>\n",
      "<re.Match object; span=(168, 169), match='3'>\n",
      "<re.Match object; span=(169, 170), match='*'>\n",
      "<re.Match object; span=(170, 171), match='5'>\n",
      "<re.Match object; span=(171, 172), match='5'>\n",
      "<re.Match object; span=(172, 173), match='5'>\n",
      "<re.Match object; span=(173, 174), match='*'>\n",
      "<re.Match object; span=(174, 175), match='1'>\n",
      "<re.Match object; span=(175, 176), match='2'>\n",
      "<re.Match object; span=(176, 177), match='3'>\n",
      "<re.Match object; span=(177, 178), match='4'>\n",
      "<re.Match object; span=(179, 180), match='8'>\n",
      "<re.Match object; span=(180, 181), match='0'>\n",
      "<re.Match object; span=(181, 182), match='0'>\n",
      "<re.Match object; span=(182, 183), match='-'>\n",
      "<re.Match object; span=(183, 184), match='5'>\n",
      "<re.Match object; span=(184, 185), match='5'>\n",
      "<re.Match object; span=(185, 186), match='5'>\n",
      "<re.Match object; span=(186, 187), match='-'>\n",
      "<re.Match object; span=(187, 188), match='1'>\n",
      "<re.Match object; span=(188, 189), match='2'>\n",
      "<re.Match object; span=(189, 190), match='3'>\n",
      "<re.Match object; span=(190, 191), match='4'>\n",
      "<re.Match object; span=(192, 193), match='9'>\n",
      "<re.Match object; span=(193, 194), match='0'>\n",
      "<re.Match object; span=(194, 195), match='0'>\n",
      "<re.Match object; span=(195, 196), match='-'>\n",
      "<re.Match object; span=(196, 197), match='5'>\n",
      "<re.Match object; span=(197, 198), match='5'>\n",
      "<re.Match object; span=(198, 199), match='5'>\n",
      "<re.Match object; span=(199, 200), match='-'>\n",
      "<re.Match object; span=(200, 201), match='1'>\n",
      "<re.Match object; span=(201, 202), match='2'>\n",
      "<re.Match object; span=(202, 203), match='3'>\n",
      "<re.Match object; span=(203, 204), match='4'>\n",
      "<re.Match object; span=(205, 206), match='M'>\n",
      "<re.Match object; span=(206, 207), match='r'>\n",
      "<re.Match object; span=(207, 208), match='.'>\n",
      "<re.Match object; span=(208, 209), match=' '>\n",
      "<re.Match object; span=(209, 210), match='S'>\n",
      "<re.Match object; span=(210, 211), match='c'>\n",
      "<re.Match object; span=(211, 212), match='h'>\n",
      "<re.Match object; span=(212, 213), match='a'>\n",
      "<re.Match object; span=(213, 214), match='f'>\n",
      "<re.Match object; span=(214, 215), match='e'>\n",
      "<re.Match object; span=(215, 216), match='r'>\n",
      "<re.Match object; span=(217, 218), match='M'>\n",
      "<re.Match object; span=(218, 219), match='r'>\n",
      "<re.Match object; span=(219, 220), match=' '>\n",
      "<re.Match object; span=(220, 221), match='S'>\n",
      "<re.Match object; span=(221, 222), match='m'>\n",
      "<re.Match object; span=(222, 223), match='i'>\n",
      "<re.Match object; span=(223, 224), match='t'>\n",
      "<re.Match object; span=(224, 225), match='h'>\n",
      "<re.Match object; span=(226, 227), match='M'>\n",
      "<re.Match object; span=(227, 228), match='s'>\n",
      "<re.Match object; span=(228, 229), match=' '>\n",
      "<re.Match object; span=(229, 230), match='D'>\n",
      "<re.Match object; span=(230, 231), match='a'>\n",
      "<re.Match object; span=(231, 232), match='v'>\n",
      "<re.Match object; span=(232, 233), match='i'>\n",
      "<re.Match object; span=(233, 234), match='s'>\n",
      "<re.Match object; span=(235, 236), match='M'>\n",
      "<re.Match object; span=(236, 237), match='r'>\n",
      "<re.Match object; span=(237, 238), match='s'>\n",
      "<re.Match object; span=(238, 239), match='.'>\n",
      "<re.Match object; span=(239, 240), match=' '>\n",
      "<re.Match object; span=(240, 241), match='R'>\n",
      "<re.Match object; span=(241, 242), match='o'>\n",
      "<re.Match object; span=(242, 243), match='b'>\n",
      "<re.Match object; span=(243, 244), match='i'>\n",
      "<re.Match object; span=(244, 245), match='n'>\n",
      "<re.Match object; span=(245, 246), match='s'>\n",
      "<re.Match object; span=(246, 247), match='o'>\n",
      "<re.Match object; span=(247, 248), match='n'>\n",
      "<re.Match object; span=(249, 250), match='M'>\n",
      "<re.Match object; span=(250, 251), match='r'>\n",
      "<re.Match object; span=(251, 252), match='.'>\n",
      "<re.Match object; span=(252, 253), match=' '>\n",
      "<re.Match object; span=(253, 254), match='T'>\n"
     ]
    }
   ],
   "source": [
    "# lets search '.' in the string\n",
    "# Dot is a special charater in regex and thus we need to escape it to use the character literally and not as a special symbol.\n",
    "pattern_dot = re.compile('.')\n",
    "\n",
    "matches = pattern_dot.finditer(text_to_search)\n",
    "for match in matches:\n",
    "    print(match)"
   ]
  },
  {
   "cell_type": "code",
   "execution_count": 7,
   "id": "781c1880",
   "metadata": {},
   "outputs": [
    {
     "name": "stdout",
     "output_type": "stream",
     "text": [
      "<re.Match object; span=(111, 112), match='.'>\n",
      "<re.Match object; span=(156, 157), match='.'>\n",
      "<re.Match object; span=(160, 161), match='.'>\n",
      "<re.Match object; span=(207, 208), match='.'>\n",
      "<re.Match object; span=(238, 239), match='.'>\n",
      "<re.Match object; span=(251, 252), match='.'>\n"
     ]
    }
   ],
   "source": [
    "# escaping the character so the regex takes it literally\n",
    "pattern_dot = re.compile('\\.')\n",
    "\n",
    "matches = pattern_dot.finditer(text_to_search)\n",
    "for match in matches:\n",
    "    print(match)"
   ]
  },
  {
   "cell_type": "code",
   "execution_count": 8,
   "id": "134dbb72",
   "metadata": {},
   "outputs": [
    {
     "name": "stdout",
     "output_type": "stream",
     "text": [
      "<re.Match object; span=(55, 56), match='1'>\n",
      "<re.Match object; span=(56, 57), match='2'>\n",
      "<re.Match object; span=(57, 58), match='3'>\n",
      "<re.Match object; span=(58, 59), match='4'>\n",
      "<re.Match object; span=(59, 60), match='5'>\n",
      "<re.Match object; span=(60, 61), match='6'>\n",
      "<re.Match object; span=(61, 62), match='7'>\n",
      "<re.Match object; span=(62, 63), match='8'>\n",
      "<re.Match object; span=(63, 64), match='9'>\n",
      "<re.Match object; span=(64, 65), match='0'>\n",
      "<re.Match object; span=(140, 141), match='3'>\n",
      "<re.Match object; span=(141, 142), match='2'>\n",
      "<re.Match object; span=(142, 143), match='1'>\n",
      "<re.Match object; span=(144, 145), match='5'>\n",
      "<re.Match object; span=(145, 146), match='5'>\n",
      "<re.Match object; span=(146, 147), match='5'>\n",
      "<re.Match object; span=(148, 149), match='4'>\n",
      "<re.Match object; span=(149, 150), match='3'>\n",
      "<re.Match object; span=(150, 151), match='2'>\n",
      "<re.Match object; span=(151, 152), match='1'>\n",
      "<re.Match object; span=(153, 154), match='1'>\n",
      "<re.Match object; span=(154, 155), match='2'>\n",
      "<re.Match object; span=(155, 156), match='3'>\n",
      "<re.Match object; span=(157, 158), match='5'>\n",
      "<re.Match object; span=(158, 159), match='5'>\n",
      "<re.Match object; span=(159, 160), match='5'>\n",
      "<re.Match object; span=(161, 162), match='1'>\n",
      "<re.Match object; span=(162, 163), match='2'>\n",
      "<re.Match object; span=(163, 164), match='3'>\n",
      "<re.Match object; span=(164, 165), match='4'>\n",
      "<re.Match object; span=(166, 167), match='1'>\n",
      "<re.Match object; span=(167, 168), match='2'>\n",
      "<re.Match object; span=(168, 169), match='3'>\n",
      "<re.Match object; span=(170, 171), match='5'>\n",
      "<re.Match object; span=(171, 172), match='5'>\n",
      "<re.Match object; span=(172, 173), match='5'>\n",
      "<re.Match object; span=(174, 175), match='1'>\n",
      "<re.Match object; span=(175, 176), match='2'>\n",
      "<re.Match object; span=(176, 177), match='3'>\n",
      "<re.Match object; span=(177, 178), match='4'>\n",
      "<re.Match object; span=(179, 180), match='8'>\n",
      "<re.Match object; span=(180, 181), match='0'>\n",
      "<re.Match object; span=(181, 182), match='0'>\n",
      "<re.Match object; span=(183, 184), match='5'>\n",
      "<re.Match object; span=(184, 185), match='5'>\n",
      "<re.Match object; span=(185, 186), match='5'>\n",
      "<re.Match object; span=(187, 188), match='1'>\n",
      "<re.Match object; span=(188, 189), match='2'>\n",
      "<re.Match object; span=(189, 190), match='3'>\n",
      "<re.Match object; span=(190, 191), match='4'>\n",
      "<re.Match object; span=(192, 193), match='9'>\n",
      "<re.Match object; span=(193, 194), match='0'>\n",
      "<re.Match object; span=(194, 195), match='0'>\n",
      "<re.Match object; span=(196, 197), match='5'>\n",
      "<re.Match object; span=(197, 198), match='5'>\n",
      "<re.Match object; span=(198, 199), match='5'>\n",
      "<re.Match object; span=(200, 201), match='1'>\n",
      "<re.Match object; span=(201, 202), match='2'>\n",
      "<re.Match object; span=(202, 203), match='3'>\n",
      "<re.Match object; span=(203, 204), match='4'>\n"
     ]
    }
   ],
   "source": [
    "# get all the digits in the text\n",
    "\n",
    "pattern_digit = re.compile('\\d')\n",
    "\n",
    "matches = pattern_digit.finditer(text_to_search)\n",
    "for match in matches:\n",
    "    print(match)"
   ]
  },
  {
   "cell_type": "code",
   "execution_count": 9,
   "id": "da0b1098",
   "metadata": {},
   "outputs": [
    {
     "name": "stdout",
     "output_type": "stream",
     "text": [
      "<re.Match object; span=(66, 68), match='Ha'>\n",
      "<re.Match object; span=(69, 71), match='Ha'>\n"
     ]
    }
   ],
   "source": [
    "# get 'ha' that starts with word boundary(word boundary is any character that is not a word characters \n",
    "# eg- space, tab, newline etc)\n",
    "\n",
    "pattern_ha = re.compile(r'\\bHa')\n",
    "\n",
    "matches = pattern_ha.finditer(text_to_search)\n",
    "for match in matches:\n",
    "    print(match)"
   ]
  },
  {
   "cell_type": "code",
   "execution_count": 10,
   "id": "57065cb4",
   "metadata": {},
   "outputs": [
    {
     "name": "stdout",
     "output_type": "stream",
     "text": [
      "<re.Match object; span=(71, 73), match='Ha'>\n"
     ]
    }
   ],
   "source": [
    "# gettind the second 'Ha' in 'HaHa'\n",
    "pattern_ha = re.compile(r'\\BHa')\n",
    "\n",
    "matches = pattern_ha.finditer(text_to_search)\n",
    "for match in matches:\n",
    "    print(match)"
   ]
  },
  {
   "cell_type": "code",
   "execution_count": 11,
   "id": "6be54945",
   "metadata": {},
   "outputs": [
    {
     "name": "stdout",
     "output_type": "stream",
     "text": [
      "<re.Match object; span=(0, 5), match='Start'>\n"
     ]
    }
   ],
   "source": [
    "# match if the sentence starts with the word 'Start'\n",
    "sentence = 'Start of the sentence and then bring it to an end'\n",
    "pattern_start = re.compile(r'^Start')\n",
    "matches = pattern_start.finditer(sentence)\n",
    "for match in matches:\n",
    "    print(match)"
   ]
  },
  {
   "cell_type": "code",
   "execution_count": 13,
   "id": "c287300f",
   "metadata": {},
   "outputs": [],
   "source": [
    "# match if the sentence starts with the word 'a'\n",
    "# Here it outputs nothing as the start of the string sentence does not have 'a' .\n",
    "sentence = 'Start of the sentence and then bring it to an end'\n",
    "pattern_start = re.compile(r'^a')\n",
    "matches = pattern_start.finditer(sentence)\n",
    "for match in matches:\n",
    "    print(match)"
   ]
  },
  {
   "cell_type": "code",
   "execution_count": 14,
   "id": "88d97f7d",
   "metadata": {},
   "outputs": [
    {
     "name": "stdout",
     "output_type": "stream",
     "text": [
      "<re.Match object; span=(46, 49), match='end'>\n"
     ]
    }
   ],
   "source": [
    "# matching the string at the end of the string\n",
    "sentence = 'Start of the sentence and then bring it to an end'\n",
    "pattern_end = re.compile(r'end$')\n",
    "matches = pattern_end.finditer(sentence)\n",
    "for match in matches:\n",
    "    print(match)"
   ]
  },
  {
   "cell_type": "code",
   "execution_count": 15,
   "id": "38d8f0c7",
   "metadata": {},
   "outputs": [],
   "source": [
    "# match if the string ends with 'b'\n",
    "# Here it outputs nothing as the end of the string does not have 'b'.\n",
    "sentence = 'Start of the sentence and then bring it to an end'\n",
    "pattern_end = re.compile(r'b$')\n",
    "matches = pattern_end.finditer(sentence)\n",
    "for match in matches:\n",
    "    print(match)"
   ]
  },
  {
   "cell_type": "code",
   "execution_count": 16,
   "id": "e416f834",
   "metadata": {},
   "outputs": [
    {
     "name": "stdout",
     "output_type": "stream",
     "text": [
      "<re.Match object; span=(140, 152), match='321-555-4321'>\n",
      "<re.Match object; span=(153, 165), match='123.555.1234'>\n",
      "<re.Match object; span=(166, 178), match='123*555*1234'>\n",
      "<re.Match object; span=(179, 191), match='800-555-1234'>\n",
      "<re.Match object; span=(192, 204), match='900-555-1234'>\n"
     ]
    }
   ],
   "source": [
    "# lets match phone numbers in the text_to_search of pattern 123-123-1234 or 123*123*1234\n",
    "pattern_ph_no = re.compile(r'\\d\\d\\d.\\d\\d\\d.\\d\\d\\d\\d')\n",
    "matches = pattern_ph_no.finditer(text_to_search)\n",
    "for match in matches:\n",
    "    print(match)"
   ]
  },
  {
   "cell_type": "code",
   "execution_count": 17,
   "id": "bdc0dbfe",
   "metadata": {},
   "outputs": [
    {
     "name": "stdout",
     "output_type": "stream",
     "text": [
      "<re.Match object; span=(140, 152), match='321-555-4321'>\n",
      "<re.Match object; span=(153, 165), match='123.555.1234'>\n",
      "<re.Match object; span=(179, 191), match='800-555-1234'>\n",
      "<re.Match object; span=(192, 204), match='900-555-1234'>\n"
     ]
    }
   ],
   "source": [
    "# Get all phone numbers whose seperators are eithers dash(-) or a dot(.)\n",
    "pattern_ph_no = re.compile(r'\\d\\d\\d[-.]\\d\\d\\d[-.]\\d\\d\\d\\d')\n",
    "matches = pattern_ph_no.finditer(text_to_search)\n",
    "for match in matches:\n",
    "    print(match)"
   ]
  },
  {
   "cell_type": "code",
   "execution_count": 18,
   "id": "e348b9ee",
   "metadata": {},
   "outputs": [
    {
     "name": "stdout",
     "output_type": "stream",
     "text": [
      "<re.Match object; span=(26, 38), match='800-433.7413'>\n",
      "<re.Match object; span=(52, 64), match='900.541-3651'>\n"
     ]
    }
   ],
   "source": [
    "# get all the phone numbers that start with 800 or 900\n",
    "sentence = \"\"\"123-123-1234\n",
    "354.354.1234\n",
    "800-433.7413\n",
    "134-356.4354\n",
    "900.541-3651\"\"\"\n",
    "\n",
    "pattern_ph_no = re.compile(r'[89]00[-.]\\d\\d\\d[-.]\\d\\d\\d\\d')\n",
    "matches = pattern_ph_no.finditer(sentence)\n",
    "for match in matches:\n",
    "    print(match)"
   ]
  },
  {
   "cell_type": "code",
   "execution_count": 19,
   "id": "dfded177",
   "metadata": {},
   "outputs": [
    {
     "name": "stdout",
     "output_type": "stream",
     "text": [
      "<re.Match object; span=(55, 56), match='1'>\n",
      "<re.Match object; span=(56, 57), match='2'>\n",
      "<re.Match object; span=(57, 58), match='3'>\n",
      "<re.Match object; span=(58, 59), match='4'>\n",
      "<re.Match object; span=(59, 60), match='5'>\n",
      "<re.Match object; span=(140, 141), match='3'>\n",
      "<re.Match object; span=(141, 142), match='2'>\n",
      "<re.Match object; span=(142, 143), match='1'>\n",
      "<re.Match object; span=(144, 145), match='5'>\n",
      "<re.Match object; span=(145, 146), match='5'>\n",
      "<re.Match object; span=(146, 147), match='5'>\n",
      "<re.Match object; span=(148, 149), match='4'>\n",
      "<re.Match object; span=(149, 150), match='3'>\n",
      "<re.Match object; span=(150, 151), match='2'>\n",
      "<re.Match object; span=(151, 152), match='1'>\n",
      "<re.Match object; span=(153, 154), match='1'>\n",
      "<re.Match object; span=(154, 155), match='2'>\n",
      "<re.Match object; span=(155, 156), match='3'>\n",
      "<re.Match object; span=(157, 158), match='5'>\n",
      "<re.Match object; span=(158, 159), match='5'>\n",
      "<re.Match object; span=(159, 160), match='5'>\n",
      "<re.Match object; span=(161, 162), match='1'>\n",
      "<re.Match object; span=(162, 163), match='2'>\n",
      "<re.Match object; span=(163, 164), match='3'>\n",
      "<re.Match object; span=(164, 165), match='4'>\n",
      "<re.Match object; span=(166, 167), match='1'>\n",
      "<re.Match object; span=(167, 168), match='2'>\n",
      "<re.Match object; span=(168, 169), match='3'>\n",
      "<re.Match object; span=(170, 171), match='5'>\n",
      "<re.Match object; span=(171, 172), match='5'>\n",
      "<re.Match object; span=(172, 173), match='5'>\n",
      "<re.Match object; span=(174, 175), match='1'>\n",
      "<re.Match object; span=(175, 176), match='2'>\n",
      "<re.Match object; span=(176, 177), match='3'>\n",
      "<re.Match object; span=(177, 178), match='4'>\n",
      "<re.Match object; span=(183, 184), match='5'>\n",
      "<re.Match object; span=(184, 185), match='5'>\n",
      "<re.Match object; span=(185, 186), match='5'>\n",
      "<re.Match object; span=(187, 188), match='1'>\n",
      "<re.Match object; span=(188, 189), match='2'>\n",
      "<re.Match object; span=(189, 190), match='3'>\n",
      "<re.Match object; span=(190, 191), match='4'>\n",
      "<re.Match object; span=(196, 197), match='5'>\n",
      "<re.Match object; span=(197, 198), match='5'>\n",
      "<re.Match object; span=(198, 199), match='5'>\n",
      "<re.Match object; span=(200, 201), match='1'>\n",
      "<re.Match object; span=(201, 202), match='2'>\n",
      "<re.Match object; span=(202, 203), match='3'>\n",
      "<re.Match object; span=(203, 204), match='4'>\n"
     ]
    }
   ],
   "source": [
    "# match only digits from range 1 to 5\n",
    "pattern_digits = re.compile(r'[1-5]')\n",
    "matches = pattern_digits.finditer(text_to_search)\n",
    "for match in matches:\n",
    "    print(match)"
   ]
  },
  {
   "cell_type": "code",
   "execution_count": 20,
   "id": "8b806f3c",
   "metadata": {},
   "outputs": [
    {
     "name": "stdout",
     "output_type": "stream",
     "text": [
      "<re.Match object; span=(1, 2), match='a'>\n",
      "<re.Match object; span=(2, 3), match='b'>\n",
      "<re.Match object; span=(3, 4), match='c'>\n",
      "<re.Match object; span=(4, 5), match='d'>\n",
      "<re.Match object; span=(5, 6), match='e'>\n",
      "<re.Match object; span=(6, 7), match='f'>\n",
      "<re.Match object; span=(7, 8), match='g'>\n",
      "<re.Match object; span=(8, 9), match='h'>\n",
      "<re.Match object; span=(9, 10), match='i'>\n",
      "<re.Match object; span=(10, 11), match='j'>\n",
      "<re.Match object; span=(67, 68), match='a'>\n",
      "<re.Match object; span=(70, 71), match='a'>\n",
      "<re.Match object; span=(72, 73), match='a'>\n",
      "<re.Match object; span=(75, 76), match='e'>\n",
      "<re.Match object; span=(77, 78), match='a'>\n",
      "<re.Match object; span=(79, 80), match='h'>\n",
      "<re.Match object; span=(80, 81), match='a'>\n",
      "<re.Match object; span=(82, 83), match='a'>\n",
      "<re.Match object; span=(83, 84), match='c'>\n",
      "<re.Match object; span=(85, 86), match='e'>\n",
      "<re.Match object; span=(91, 92), match='e'>\n",
      "<re.Match object; span=(92, 93), match='e'>\n",
      "<re.Match object; span=(93, 94), match='d'>\n",
      "<re.Match object; span=(98, 99), match='b'>\n",
      "<re.Match object; span=(99, 100), match='e'>\n",
      "<re.Match object; span=(101, 102), match='e'>\n",
      "<re.Match object; span=(103, 104), match='c'>\n",
      "<re.Match object; span=(104, 105), match='a'>\n",
      "<re.Match object; span=(106, 107), match='e'>\n",
      "<re.Match object; span=(107, 108), match='d'>\n",
      "<re.Match object; span=(210, 211), match='c'>\n",
      "<re.Match object; span=(211, 212), match='h'>\n",
      "<re.Match object; span=(212, 213), match='a'>\n",
      "<re.Match object; span=(213, 214), match='f'>\n",
      "<re.Match object; span=(214, 215), match='e'>\n",
      "<re.Match object; span=(222, 223), match='i'>\n",
      "<re.Match object; span=(224, 225), match='h'>\n",
      "<re.Match object; span=(230, 231), match='a'>\n",
      "<re.Match object; span=(232, 233), match='i'>\n",
      "<re.Match object; span=(242, 243), match='b'>\n",
      "<re.Match object; span=(243, 244), match='i'>\n"
     ]
    }
   ],
   "source": [
    "# match only lower case a to j\n",
    "pattern_letters = re.compile(r'[a-j]')\n",
    "matches = pattern_letters.finditer(text_to_search)\n",
    "for match in matches:\n",
    "    print(match)"
   ]
  },
  {
   "cell_type": "code",
   "execution_count": 21,
   "id": "30eda674",
   "metadata": {},
   "outputs": [
    {
     "name": "stdout",
     "output_type": "stream",
     "text": [
      "<re.Match object; span=(1, 2), match='a'>\n",
      "<re.Match object; span=(2, 3), match='b'>\n",
      "<re.Match object; span=(3, 4), match='c'>\n",
      "<re.Match object; span=(4, 5), match='d'>\n",
      "<re.Match object; span=(5, 6), match='e'>\n",
      "<re.Match object; span=(6, 7), match='f'>\n",
      "<re.Match object; span=(7, 8), match='g'>\n",
      "<re.Match object; span=(8, 9), match='h'>\n",
      "<re.Match object; span=(9, 10), match='i'>\n",
      "<re.Match object; span=(10, 11), match='j'>\n",
      "<re.Match object; span=(28, 29), match='A'>\n",
      "<re.Match object; span=(29, 30), match='B'>\n",
      "<re.Match object; span=(30, 31), match='C'>\n",
      "<re.Match object; span=(31, 32), match='D'>\n",
      "<re.Match object; span=(32, 33), match='E'>\n",
      "<re.Match object; span=(33, 34), match='F'>\n",
      "<re.Match object; span=(34, 35), match='G'>\n",
      "<re.Match object; span=(67, 68), match='a'>\n",
      "<re.Match object; span=(70, 71), match='a'>\n",
      "<re.Match object; span=(72, 73), match='a'>\n",
      "<re.Match object; span=(75, 76), match='e'>\n",
      "<re.Match object; span=(77, 78), match='a'>\n",
      "<re.Match object; span=(78, 79), match='C'>\n",
      "<re.Match object; span=(79, 80), match='h'>\n",
      "<re.Match object; span=(80, 81), match='a'>\n",
      "<re.Match object; span=(82, 83), match='a'>\n",
      "<re.Match object; span=(83, 84), match='c'>\n",
      "<re.Match object; span=(85, 86), match='e'>\n",
      "<re.Match object; span=(91, 92), match='e'>\n",
      "<re.Match object; span=(92, 93), match='e'>\n",
      "<re.Match object; span=(93, 94), match='d'>\n",
      "<re.Match object; span=(98, 99), match='b'>\n",
      "<re.Match object; span=(99, 100), match='e'>\n",
      "<re.Match object; span=(101, 102), match='e'>\n",
      "<re.Match object; span=(103, 104), match='c'>\n",
      "<re.Match object; span=(104, 105), match='a'>\n",
      "<re.Match object; span=(106, 107), match='e'>\n",
      "<re.Match object; span=(107, 108), match='d'>\n",
      "<re.Match object; span=(210, 211), match='c'>\n",
      "<re.Match object; span=(211, 212), match='h'>\n",
      "<re.Match object; span=(212, 213), match='a'>\n",
      "<re.Match object; span=(213, 214), match='f'>\n",
      "<re.Match object; span=(214, 215), match='e'>\n",
      "<re.Match object; span=(222, 223), match='i'>\n",
      "<re.Match object; span=(224, 225), match='h'>\n",
      "<re.Match object; span=(229, 230), match='D'>\n",
      "<re.Match object; span=(230, 231), match='a'>\n",
      "<re.Match object; span=(232, 233), match='i'>\n",
      "<re.Match object; span=(242, 243), match='b'>\n",
      "<re.Match object; span=(243, 244), match='i'>\n"
     ]
    }
   ],
   "source": [
    "# match characters from lower case 'a' to 'j' and uppercase 'A' to 'G'\n",
    "\n",
    "pattern_letters = re.compile(r'[a-jA-G]')\n",
    "matches = pattern_letters.finditer(text_to_search)\n",
    "for match in matches:\n",
    "    print(match)"
   ]
  },
  {
   "cell_type": "code",
   "execution_count": 22,
   "id": "04471505",
   "metadata": {},
   "outputs": [
    {
     "name": "stdout",
     "output_type": "stream",
     "text": [
      "<re.Match object; span=(0, 1), match='\\n'>\n",
      "<re.Match object; span=(27, 28), match='\\n'>\n",
      "<re.Match object; span=(28, 29), match='A'>\n",
      "<re.Match object; span=(29, 30), match='B'>\n",
      "<re.Match object; span=(30, 31), match='C'>\n",
      "<re.Match object; span=(31, 32), match='D'>\n",
      "<re.Match object; span=(32, 33), match='E'>\n",
      "<re.Match object; span=(33, 34), match='F'>\n",
      "<re.Match object; span=(34, 35), match='G'>\n",
      "<re.Match object; span=(35, 36), match='H'>\n",
      "<re.Match object; span=(36, 37), match='I'>\n",
      "<re.Match object; span=(37, 38), match='J'>\n",
      "<re.Match object; span=(38, 39), match='K'>\n",
      "<re.Match object; span=(39, 40), match='L'>\n",
      "<re.Match object; span=(40, 41), match='M'>\n",
      "<re.Match object; span=(41, 42), match='N'>\n",
      "<re.Match object; span=(42, 43), match='O'>\n",
      "<re.Match object; span=(43, 44), match='P'>\n",
      "<re.Match object; span=(44, 45), match='Q'>\n",
      "<re.Match object; span=(45, 46), match='R'>\n",
      "<re.Match object; span=(46, 47), match='S'>\n",
      "<re.Match object; span=(47, 48), match='T'>\n",
      "<re.Match object; span=(48, 49), match='U'>\n",
      "<re.Match object; span=(49, 50), match='V'>\n",
      "<re.Match object; span=(50, 51), match='W'>\n",
      "<re.Match object; span=(51, 52), match='X'>\n",
      "<re.Match object; span=(52, 53), match='Y'>\n",
      "<re.Match object; span=(53, 54), match='Z'>\n",
      "<re.Match object; span=(54, 55), match='\\n'>\n",
      "<re.Match object; span=(55, 56), match='1'>\n",
      "<re.Match object; span=(56, 57), match='2'>\n",
      "<re.Match object; span=(57, 58), match='3'>\n",
      "<re.Match object; span=(58, 59), match='4'>\n",
      "<re.Match object; span=(59, 60), match='5'>\n",
      "<re.Match object; span=(60, 61), match='6'>\n",
      "<re.Match object; span=(61, 62), match='7'>\n",
      "<re.Match object; span=(62, 63), match='8'>\n",
      "<re.Match object; span=(63, 64), match='9'>\n",
      "<re.Match object; span=(64, 65), match='0'>\n",
      "<re.Match object; span=(65, 66), match='\\n'>\n",
      "<re.Match object; span=(66, 67), match='H'>\n",
      "<re.Match object; span=(68, 69), match=' '>\n",
      "<re.Match object; span=(69, 70), match='H'>\n",
      "<re.Match object; span=(71, 72), match='H'>\n",
      "<re.Match object; span=(73, 74), match='\\n'>\n",
      "<re.Match object; span=(74, 75), match='M'>\n",
      "<re.Match object; span=(78, 79), match='C'>\n",
      "<re.Match object; span=(88, 89), match=' '>\n",
      "<re.Match object; span=(89, 90), match='('>\n",
      "<re.Match object; span=(90, 91), match='N'>\n",
      "<re.Match object; span=(94, 95), match=' '>\n",
      "<re.Match object; span=(97, 98), match=' '>\n",
      "<re.Match object; span=(100, 101), match=' '>\n",
      "<re.Match object; span=(108, 109), match=')'>\n",
      "<re.Match object; span=(109, 110), match=':'>\n",
      "<re.Match object; span=(110, 111), match='\\n'>\n",
      "<re.Match object; span=(111, 112), match='.'>\n",
      "<re.Match object; span=(112, 113), match=' '>\n",
      "<re.Match object; span=(113, 114), match='^'>\n",
      "<re.Match object; span=(114, 115), match=' '>\n",
      "<re.Match object; span=(115, 116), match='$'>\n",
      "<re.Match object; span=(116, 117), match=' '>\n",
      "<re.Match object; span=(117, 118), match='*'>\n",
      "<re.Match object; span=(118, 119), match=' '>\n",
      "<re.Match object; span=(119, 120), match='+'>\n",
      "<re.Match object; span=(120, 121), match=' '>\n",
      "<re.Match object; span=(121, 122), match='?'>\n",
      "<re.Match object; span=(122, 123), match=' '>\n",
      "<re.Match object; span=(123, 124), match='{'>\n",
      "<re.Match object; span=(124, 125), match=' '>\n",
      "<re.Match object; span=(125, 126), match='}'>\n",
      "<re.Match object; span=(126, 127), match=' '>\n",
      "<re.Match object; span=(127, 128), match='['>\n",
      "<re.Match object; span=(128, 129), match=' '>\n",
      "<re.Match object; span=(129, 130), match=']'>\n",
      "<re.Match object; span=(130, 131), match=' '>\n",
      "<re.Match object; span=(131, 132), match='\\\\'>\n",
      "<re.Match object; span=(132, 133), match=' '>\n",
      "<re.Match object; span=(133, 134), match='|'>\n",
      "<re.Match object; span=(134, 135), match=' '>\n",
      "<re.Match object; span=(135, 136), match='('>\n",
      "<re.Match object; span=(136, 137), match=' '>\n",
      "<re.Match object; span=(137, 138), match=')'>\n",
      "<re.Match object; span=(138, 139), match='\\n'>\n",
      "<re.Match object; span=(139, 140), match='\\n'>\n",
      "<re.Match object; span=(140, 141), match='3'>\n",
      "<re.Match object; span=(141, 142), match='2'>\n",
      "<re.Match object; span=(142, 143), match='1'>\n",
      "<re.Match object; span=(143, 144), match='-'>\n",
      "<re.Match object; span=(144, 145), match='5'>\n",
      "<re.Match object; span=(145, 146), match='5'>\n",
      "<re.Match object; span=(146, 147), match='5'>\n",
      "<re.Match object; span=(147, 148), match='-'>\n",
      "<re.Match object; span=(148, 149), match='4'>\n",
      "<re.Match object; span=(149, 150), match='3'>\n",
      "<re.Match object; span=(150, 151), match='2'>\n",
      "<re.Match object; span=(151, 152), match='1'>\n",
      "<re.Match object; span=(152, 153), match='\\n'>\n",
      "<re.Match object; span=(153, 154), match='1'>\n",
      "<re.Match object; span=(154, 155), match='2'>\n",
      "<re.Match object; span=(155, 156), match='3'>\n",
      "<re.Match object; span=(156, 157), match='.'>\n",
      "<re.Match object; span=(157, 158), match='5'>\n",
      "<re.Match object; span=(158, 159), match='5'>\n",
      "<re.Match object; span=(159, 160), match='5'>\n",
      "<re.Match object; span=(160, 161), match='.'>\n",
      "<re.Match object; span=(161, 162), match='1'>\n",
      "<re.Match object; span=(162, 163), match='2'>\n",
      "<re.Match object; span=(163, 164), match='3'>\n",
      "<re.Match object; span=(164, 165), match='4'>\n",
      "<re.Match object; span=(165, 166), match='\\n'>\n",
      "<re.Match object; span=(166, 167), match='1'>\n",
      "<re.Match object; span=(167, 168), match='2'>\n",
      "<re.Match object; span=(168, 169), match='3'>\n",
      "<re.Match object; span=(169, 170), match='*'>\n",
      "<re.Match object; span=(170, 171), match='5'>\n",
      "<re.Match object; span=(171, 172), match='5'>\n",
      "<re.Match object; span=(172, 173), match='5'>\n",
      "<re.Match object; span=(173, 174), match='*'>\n",
      "<re.Match object; span=(174, 175), match='1'>\n",
      "<re.Match object; span=(175, 176), match='2'>\n",
      "<re.Match object; span=(176, 177), match='3'>\n",
      "<re.Match object; span=(177, 178), match='4'>\n",
      "<re.Match object; span=(178, 179), match='\\n'>\n",
      "<re.Match object; span=(179, 180), match='8'>\n",
      "<re.Match object; span=(180, 181), match='0'>\n",
      "<re.Match object; span=(181, 182), match='0'>\n",
      "<re.Match object; span=(182, 183), match='-'>\n",
      "<re.Match object; span=(183, 184), match='5'>\n",
      "<re.Match object; span=(184, 185), match='5'>\n",
      "<re.Match object; span=(185, 186), match='5'>\n",
      "<re.Match object; span=(186, 187), match='-'>\n",
      "<re.Match object; span=(187, 188), match='1'>\n",
      "<re.Match object; span=(188, 189), match='2'>\n",
      "<re.Match object; span=(189, 190), match='3'>\n",
      "<re.Match object; span=(190, 191), match='4'>\n",
      "<re.Match object; span=(191, 192), match='\\n'>\n",
      "<re.Match object; span=(192, 193), match='9'>\n",
      "<re.Match object; span=(193, 194), match='0'>\n",
      "<re.Match object; span=(194, 195), match='0'>\n",
      "<re.Match object; span=(195, 196), match='-'>\n",
      "<re.Match object; span=(196, 197), match='5'>\n",
      "<re.Match object; span=(197, 198), match='5'>\n",
      "<re.Match object; span=(198, 199), match='5'>\n",
      "<re.Match object; span=(199, 200), match='-'>\n",
      "<re.Match object; span=(200, 201), match='1'>\n",
      "<re.Match object; span=(201, 202), match='2'>\n",
      "<re.Match object; span=(202, 203), match='3'>\n",
      "<re.Match object; span=(203, 204), match='4'>\n",
      "<re.Match object; span=(204, 205), match='\\n'>\n",
      "<re.Match object; span=(205, 206), match='M'>\n",
      "<re.Match object; span=(207, 208), match='.'>\n",
      "<re.Match object; span=(208, 209), match=' '>\n",
      "<re.Match object; span=(209, 210), match='S'>\n",
      "<re.Match object; span=(216, 217), match='\\n'>\n",
      "<re.Match object; span=(217, 218), match='M'>\n",
      "<re.Match object; span=(219, 220), match=' '>\n",
      "<re.Match object; span=(220, 221), match='S'>\n",
      "<re.Match object; span=(225, 226), match='\\n'>\n",
      "<re.Match object; span=(226, 227), match='M'>\n",
      "<re.Match object; span=(228, 229), match=' '>\n",
      "<re.Match object; span=(229, 230), match='D'>\n",
      "<re.Match object; span=(234, 235), match='\\n'>\n",
      "<re.Match object; span=(235, 236), match='M'>\n",
      "<re.Match object; span=(238, 239), match='.'>\n",
      "<re.Match object; span=(239, 240), match=' '>\n",
      "<re.Match object; span=(240, 241), match='R'>\n",
      "<re.Match object; span=(248, 249), match='\\n'>\n",
      "<re.Match object; span=(249, 250), match='M'>\n",
      "<re.Match object; span=(251, 252), match='.'>\n",
      "<re.Match object; span=(252, 253), match=' '>\n",
      "<re.Match object; span=(253, 254), match='T'>\n",
      "<re.Match object; span=(254, 255), match='\\n'>\n"
     ]
    }
   ],
   "source": [
    "# match everything that is not a lowercase letter \n",
    "pattern_not_lower = re.compile(r'[^a-z]')\n",
    "matches = pattern_not_lower.finditer(text_to_search)\n",
    "for match in matches:\n",
    "    print(match)"
   ]
  },
  {
   "cell_type": "code",
   "execution_count": 23,
   "id": "109ab870",
   "metadata": {},
   "outputs": [
    {
     "name": "stdout",
     "output_type": "stream",
     "text": [
      "<re.Match object; span=(0, 3), match='mat'>\n",
      "<re.Match object; span=(4, 7), match='pat'>\n",
      "<re.Match object; span=(8, 11), match='rat'>\n",
      "<re.Match object; span=(16, 19), match='cat'>\n"
     ]
    }
   ],
   "source": [
    "# in a sentence match all the three letter words that end with 'at' but dont match 'bat'\n",
    "sentence = 'mat pat rat bat cat'\n",
    "pattern_not_bat = re.compile(r'[^b]at')\n",
    "matches = pattern_not_bat.finditer(sentence)\n",
    "for match in matches:\n",
    "    print(match)"
   ]
  },
  {
   "cell_type": "code",
   "execution_count": 24,
   "id": "8f129310",
   "metadata": {},
   "outputs": [
    {
     "name": "stdout",
     "output_type": "stream",
     "text": [
      "<re.Match object; span=(205, 216), match='Mr. Schafer'>\n",
      "<re.Match object; span=(217, 225), match='Mr Smith'>\n",
      "<re.Match object; span=(249, 254), match='Mr. T'>\n"
     ]
    }
   ],
   "source": [
    "# lets match names from a string that start from Mr\n",
    "sentence = \"\"\"\n",
    "Mr. Schafer\n",
    "Mr Smith\n",
    "Ms Davis\n",
    "Mrs. Robinson\n",
    "Mr. T\n",
    "\"\"\"\n",
    "# here we can see that few Mr have dot at the end and few don't\n",
    "pattern_names = re.compile(r'Mr\\.?\\s[A-Z]\\w*')\n",
    "matches = pattern_names.finditer(text_to_search)\n",
    "for match in matches:\n",
    "    print(match)"
   ]
  },
  {
   "cell_type": "code",
   "execution_count": 25,
   "id": "92d2b418",
   "metadata": {},
   "outputs": [
    {
     "name": "stdout",
     "output_type": "stream",
     "text": [
      "<re.Match object; span=(205, 216), match='Mr. Schafer'>\n",
      "<re.Match object; span=(217, 225), match='Mr Smith'>\n",
      "<re.Match object; span=(226, 234), match='Ms Davis'>\n",
      "<re.Match object; span=(235, 248), match='Mrs. Robinson'>\n",
      "<re.Match object; span=(249, 254), match='Mr. T'>\n"
     ]
    }
   ],
   "source": [
    "# lets get all the names \n",
    "sentence = \"\"\"\n",
    "Mr. Schafer\n",
    "Mr Smith\n",
    "Ms Davis\n",
    "Mrs. Robinson\n",
    "Mr. T\n",
    "\"\"\"\n",
    "# here we can see that few Mr have dot at the end and few don't\n",
    "pattern_names = re.compile(r'(Mr|Ms|Mrs)\\.?\\s[A-Z]\\w*')\n",
    "matches = pattern_names.finditer(text_to_search)\n",
    "for match in matches:\n",
    "    print(match)"
   ]
  },
  {
   "cell_type": "code",
   "execution_count": 26,
   "id": "ed015a48",
   "metadata": {},
   "outputs": [
    {
     "name": "stdout",
     "output_type": "stream",
     "text": [
      "<re.Match object; span=(1, 24), match='CoreyMSchafer@gmail.com'>\n",
      "<re.Match object; span=(25, 53), match='corey.schafer@university.edu'>\n",
      "<re.Match object; span=(54, 83), match='corey-321-schafer@my-work.net'>\n"
     ]
    }
   ],
   "source": [
    "# now lets write a pattern for detecting emails\n",
    "sentence = \"\"\"\n",
    "CoreyMSchafer@gmail.com\n",
    "corey.schafer@university.edu\n",
    "corey-321-schafer@my-work.net\n",
    "\"\"\"\n",
    "pattern_email = re.compile(r'[a-zA-Z.0-9-]+@[a-zA-Z-]+\\.(com|edu|net)')\n",
    "matches = pattern_email.finditer(sentence)\n",
    "for match in matches:\n",
    "    print(match)"
   ]
  },
  {
   "cell_type": "code",
   "execution_count": 27,
   "id": "d538a515",
   "metadata": {},
   "outputs": [
    {
     "name": "stdout",
     "output_type": "stream",
     "text": [
      "<re.Match object; span=(1, 23), match='https://www.google.com'>\n",
      "<re.Match object; span=(24, 42), match='http://coreyms.com'>\n",
      "<re.Match object; span=(43, 62), match='https://youtube.com'>\n",
      "<re.Match object; span=(63, 83), match='https://www.nasa.gov'>\n"
     ]
    }
   ],
   "source": [
    "# now lets write a pattern that recognizes a URL\n",
    "\n",
    "sentence = '''\n",
    "https://www.google.com\n",
    "http://coreyms.com\n",
    "https://youtube.com\n",
    "https://www.nasa.gov\n",
    "'''\n",
    "pattern_email = re.compile(r'https?://(www.)?\\w+\\.\\w+')\n",
    "matches = pattern_email.finditer(sentence)\n",
    "for match in matches:\n",
    "    print(match)"
   ]
  },
  {
   "cell_type": "code",
   "execution_count": 28,
   "id": "e414617d",
   "metadata": {},
   "outputs": [
    {
     "name": "stdout",
     "output_type": "stream",
     "text": [
      "Mr\n",
      "Mr\n",
      "Ms\n",
      "Mrs\n",
      "Mr\n"
     ]
    }
   ],
   "source": [
    "# lets try findall() method\n",
    "# findall only matches the groups from the pattern\n",
    "sentence = \"\"\"\n",
    "Mr. Schafer\n",
    "Mr Smith\n",
    "Ms Davis\n",
    "Mrs. Robinson\n",
    "Mr. T\n",
    "\"\"\"\n",
    "# here we can see that few Mr have dot at the end and few don't\n",
    "pattern_names = re.compile(r'(Mr|Ms|Mrs)\\.?\\s[A-Z]\\w*')\n",
    "matches = pattern_names.findall(text_to_search)\n",
    "for match in matches:\n",
    "    print(match)"
   ]
  },
  {
   "cell_type": "code",
   "execution_count": 29,
   "id": "e1800e7c",
   "metadata": {},
   "outputs": [
    {
     "name": "stdout",
     "output_type": "stream",
     "text": [
      "<re.Match object; span=(0, 5), match='Start'>\n"
     ]
    }
   ],
   "source": [
    "sentence = \"Start a sentence and then bring it to an end\"\n",
    "pattern = re.compile(r'Start')\n",
    "match = pattern.match(sentence)\n",
    "print(match)"
   ]
  },
  {
   "cell_type": "code",
   "execution_count": 30,
   "id": "8e769cb2",
   "metadata": {},
   "outputs": [
    {
     "name": "stdout",
     "output_type": "stream",
     "text": [
      "None\n"
     ]
    }
   ],
   "source": [
    "sentence = \"Start a sentence and then bring it to an end\"\n",
    "pattern = re.compile(r'then')\n",
    "match = pattern.match(sentence)\n",
    "print(match)"
   ]
  },
  {
   "cell_type": "code",
   "execution_count": 3,
   "id": "25be1562",
   "metadata": {},
   "outputs": [
    {
     "data": {
      "text/plain": [
       "re.Match"
      ]
     },
     "execution_count": 3,
     "metadata": {},
     "output_type": "execute_result"
    }
   ],
   "source": [
    "# https://github.com/tesla809/intro-to-python-jupyter-notebooks/blob/master/47-Regular%20Expressions.ipynb\n",
    "\n",
    "import re\n",
    "\n",
    "# List of patterns to search for\n",
    "pattern = 'term1'\n",
    "\n",
    "# Text to parse\n",
    "text = 'This is a string with term1, but it does not have the other term.'\n",
    "\n",
    "match = re.search(pattern,  text)\n",
    "\n",
    "type(match)"
   ]
  },
  {
   "cell_type": "code",
   "execution_count": 4,
   "id": "0dbeb17c",
   "metadata": {},
   "outputs": [
    {
     "data": {
      "text/plain": [
       "22"
      ]
     },
     "execution_count": 4,
     "metadata": {},
     "output_type": "execute_result"
    }
   ],
   "source": [
    "# Show start of match\n",
    "match.start()"
   ]
  },
  {
   "cell_type": "code",
   "execution_count": 5,
   "id": "dbc057a6",
   "metadata": {},
   "outputs": [
    {
     "data": {
      "text/plain": [
       "27"
      ]
     },
     "execution_count": 5,
     "metadata": {},
     "output_type": "execute_result"
    }
   ],
   "source": [
    "# Show end\n",
    "match.end()"
   ]
  },
  {
   "cell_type": "code",
   "execution_count": 6,
   "id": "1558eb5b",
   "metadata": {},
   "outputs": [
    {
     "data": {
      "text/plain": [
       "['What is the domain name of someone with the email: hello', 'gmail.com']"
      ]
     },
     "execution_count": 6,
     "metadata": {},
     "output_type": "execute_result"
    }
   ],
   "source": [
    "# Term to split on\n",
    "split_term = '@'\n",
    "\n",
    "phrase = 'What is the domain name of someone with the email: hello@gmail.com'\n",
    "\n",
    "# Split the phrase\n",
    "re.split(split_term,phrase)"
   ]
  },
  {
   "cell_type": "code",
   "execution_count": 7,
   "id": "ac4ecc43",
   "metadata": {},
   "outputs": [
    {
     "data": {
      "text/plain": [
       "['match']"
      ]
     },
     "execution_count": 7,
     "metadata": {},
     "output_type": "execute_result"
    }
   ],
   "source": [
    "# Returns a list of all matches\n",
    "re.findall('match','test phrase match is in middle')"
   ]
  },
  {
   "cell_type": "code",
   "execution_count": 8,
   "id": "c1a4b5b5",
   "metadata": {},
   "outputs": [],
   "source": [
    "def multi_re_find(patterns,phrase):\n",
    "    '''\n",
    "    Takes in a list of regex patterns\n",
    "    Prints a list of all matches\n",
    "    '''\n",
    "    for pattern in patterns:\n",
    "        print ('Searching the phrase using the re check: %r' %pattern)\n",
    "        print (re.findall(pattern,phrase))\n",
    "        print ('\\n')"
   ]
  },
  {
   "cell_type": "code",
   "execution_count": 9,
   "id": "7fd5936a",
   "metadata": {},
   "outputs": [
    {
     "name": "stdout",
     "output_type": "stream",
     "text": [
      "Searching the phrase using the re check: 'sd*'\n",
      "['sd', 'sd', 's', 's', 'sddd', 'sddd', 'sddd', 'sd', 's', 's', 's', 's', 's', 's', 'sdddd']\n",
      "\n",
      "\n",
      "Searching the phrase using the re check: 'sd+'\n",
      "['sd', 'sd', 'sddd', 'sddd', 'sddd', 'sd', 'sdddd']\n",
      "\n",
      "\n",
      "Searching the phrase using the re check: 'sd?'\n",
      "['sd', 'sd', 's', 's', 'sd', 'sd', 'sd', 'sd', 's', 's', 's', 's', 's', 's', 'sd']\n",
      "\n",
      "\n",
      "Searching the phrase using the re check: 'sd{3}'\n",
      "['sddd', 'sddd', 'sddd', 'sddd']\n",
      "\n",
      "\n",
      "Searching the phrase using the re check: 'sd{2,3}'\n",
      "['sddd', 'sddd', 'sddd', 'sddd']\n",
      "\n",
      "\n"
     ]
    }
   ],
   "source": [
    "test_phrase = 'sdsd..sssddd...sdddsddd...dsds...dsssss...sdddd'\n",
    "\n",
    "test_patterns = [ 'sd*',     # s followed by zero or more d's\n",
    "                'sd+',          # s followed by one or more d's\n",
    "                'sd?',          # s followed by zero or one d's\n",
    "                'sd{3}',        # s followed by three d's\n",
    "                'sd{2,3}',      # s followed by two to three d's\n",
    "                ]\n",
    "\n",
    "multi_re_find(test_patterns,test_phrase)"
   ]
  },
  {
   "cell_type": "code",
   "execution_count": 49,
   "id": "793d700b",
   "metadata": {},
   "outputs": [
    {
     "name": "stdout",
     "output_type": "stream",
     "text": [
      "Searching the phrase using the re check: '[sd]'\n",
      "['s', 'd', 's', 'd', 's', 's', 's', 'd', 'd', 'd', 's', 'd', 'd', 'd', 's', 'd', 'd', 'd', 'd', 's', 'd', 's', 'd', 's', 's', 's', 's', 's', 's', 'd', 'd', 'd', 'd']\n",
      "\n",
      "\n",
      "Searching the phrase using the re check: 's[sd]+'\n",
      "['sdsd', 'sssddd', 'sdddsddd', 'sds', 'sssss', 'sdddd']\n",
      "\n",
      "\n"
     ]
    }
   ],
   "source": [
    "# Character Sets\n",
    "#Character sets are used when you wish to match any one of a group of characters at a point in the input. Brackets are used \n",
    "#to construct character set inputs. For example: the input [ab] searches for occurrences of either a or b. Let's see some \n",
    "#examples:\n",
    "\n",
    "test_phrase = 'sdsd..sssddd...sdddsddd...dsds...dsssss...sdddd'\n",
    "\n",
    "test_patterns = [ '[sd]',    # either s or d\n",
    "            's[sd]+']   # s followed by one or more s or d\n",
    "            \n",
    "\n",
    "multi_re_find(test_patterns,test_phrase)"
   ]
  },
  {
   "cell_type": "code",
   "execution_count": 50,
   "id": "83fd4fa2",
   "metadata": {},
   "outputs": [],
   "source": [
    "# Exclusion\n",
    "#We can use ^ to exclude terms by incorporating it into the bracket syntax notation. For example: [^...] will match any\n",
    "#single character not in the brackets. Let's see some examples:\n",
    "\n",
    "test_phrase = 'This is a string! But it has punctuation. How can we remove it?'"
   ]
  },
  {
   "cell_type": "code",
   "execution_count": 51,
   "id": "37168463",
   "metadata": {},
   "outputs": [
    {
     "data": {
      "text/plain": [
       "['This',\n",
       " 'is',\n",
       " 'a',\n",
       " 'string',\n",
       " 'But',\n",
       " 'it',\n",
       " 'has',\n",
       " 'punctuation',\n",
       " 'How',\n",
       " 'can',\n",
       " 'we',\n",
       " 'remove',\n",
       " 'it']"
      ]
     },
     "execution_count": 51,
     "metadata": {},
     "output_type": "execute_result"
    }
   ],
   "source": [
    "re.findall('[^!.? ]+',test_phrase)"
   ]
  },
  {
   "cell_type": "code",
   "execution_count": 52,
   "id": "0c982503",
   "metadata": {},
   "outputs": [
    {
     "name": "stdout",
     "output_type": "stream",
     "text": [
      "Searching the phrase using the re check: '[a-z]+'\n",
      "['his', 'is', 'an', 'example', 'sentence', 'ets', 'see', 'if', 'we', 'can', 'find', 'some', 'letters']\n",
      "\n",
      "\n",
      "Searching the phrase using the re check: '[A-Z]+'\n",
      "['T', 'L']\n",
      "\n",
      "\n",
      "Searching the phrase using the re check: '[a-zA-Z]+'\n",
      "['This', 'is', 'an', 'example', 'sentence', 'Lets', 'see', 'if', 'we', 'can', 'find', 'some', 'letters']\n",
      "\n",
      "\n",
      "Searching the phrase using the re check: '[A-Z][a-z]+'\n",
      "['This', 'Lets']\n",
      "\n",
      "\n"
     ]
    }
   ],
   "source": [
    "# Character Ranges\n",
    "# As character sets grow larger, typing every character that should (or should not) match could become very tedious. \n",
    "#A more compact format using character ranges lets you define a character set to include all of the contiguous characters\n",
    "# between a start and stop point. The format used is [start-end].\n",
    "\n",
    "#Common use cases are to search for a specific range of letters in the alphabet, such [a-f] would return matches with any \n",
    "#instance of letters between a and f.\n",
    "\n",
    "test_phrase = 'This is an example sentence. Lets see if we can find some letters.'\n",
    "\n",
    "test_patterns=[ '[a-z]+',      # sequences of lower case letters\n",
    "                '[A-Z]+',      # sequences of upper case letters\n",
    "                '[a-zA-Z]+',   # sequences of lower or upper case letters\n",
    "                '[A-Z][a-z]+'] # one upper case letter followed by lower case letters\n",
    "                \n",
    "multi_re_find(test_patterns,test_phrase)"
   ]
  },
  {
   "cell_type": "code",
   "execution_count": 10,
   "id": "964767fd",
   "metadata": {},
   "outputs": [
    {
     "name": "stdout",
     "output_type": "stream",
     "text": [
      "Searching the phrase using the re check: '\\\\d+'\n",
      "['1233']\n",
      "\n",
      "\n",
      "Searching the phrase using the re check: '\\\\D+'\n",
      "['This is a string with some numbers ', ' and a symbol #hashtag']\n",
      "\n",
      "\n",
      "Searching the phrase using the re check: '\\\\s+'\n",
      "[' ', ' ', ' ', ' ', ' ', ' ', ' ', ' ', ' ', ' ', ' ']\n",
      "\n",
      "\n",
      "Searching the phrase using the re check: '\\\\S+'\n",
      "['This', 'is', 'a', 'string', 'with', 'some', 'numbers', '1233', 'and', 'a', 'symbol', '#hashtag']\n",
      "\n",
      "\n",
      "Searching the phrase using the re check: '\\\\w+'\n",
      "['This', 'is', 'a', 'string', 'with', 'some', 'numbers', '1233', 'and', 'a', 'symbol', 'hashtag']\n",
      "\n",
      "\n",
      "Searching the phrase using the re check: '\\\\W+'\n",
      "[' ', ' ', ' ', ' ', ' ', ' ', ' ', ' ', ' ', ' ', ' #']\n",
      "\n",
      "\n"
     ]
    }
   ],
   "source": [
    "# Escape Codes\n",
    "#You can use special escape codes to find specific types of patterns in your data, such as digits, non-digits,whitespace,\n",
    "#and more. For example:\n",
    "\n",
    "test_phrase = 'This is a string with some numbers 1233 and a symbol #hashtag'\n",
    "\n",
    "test_patterns=[ r'\\d+', # sequence of digits\n",
    "                r'\\D+', # sequence of non-digits\n",
    "                r'\\s+', # sequence of whitespace\n",
    "                r'\\S+', # sequence of non-whitespace\n",
    "                r'\\w+', # alphanumeric characters\n",
    "                r'\\W+', # non-alphanumeric\n",
    "                ]\n",
    "\n",
    "multi_re_find(test_patterns,test_phrase)"
   ]
  },
  {
   "cell_type": "code",
   "execution_count": 54,
   "id": "5c600f88",
   "metadata": {},
   "outputs": [
    {
     "name": "stdout",
     "output_type": "stream",
     "text": [
      "Search successful.\n"
     ]
    }
   ],
   "source": [
    "# https://github.com/milaan9/07_Python_Advanced_Topics/blob/main/006_Python_RegEx.ipynb\n",
    "# Here, we used re.match() function to search pattern within the test_string. The method returns a match object if the \n",
    "#search is successful. If not, it returns None.\n",
    "\n",
    "#There are other several functions defined in the re module to work with RegEx. Before we explore that, let's learn\n",
    "#about regular expressions themselves.\n",
    "import re\n",
    "\n",
    "pattern = '^a...s$'\n",
    "test_string = 'abyss'\n",
    "result = re.match(pattern, test_string)\n",
    "\n",
    "if result:\n",
    "    print(\"Search successful.\")\n",
    "else:\n",
    "    print(\"Search unsuccessful!\")"
   ]
  },
  {
   "cell_type": "code",
   "execution_count": 56,
   "id": "6a7df78a",
   "metadata": {},
   "outputs": [
    {
     "name": "stdout",
     "output_type": "stream",
     "text": [
      "['12', '89', '34']\n"
     ]
    }
   ],
   "source": [
    "# Example 1: re.findall()\n",
    "\n",
    "# Program to extract numbers from a string\n",
    "# If the pattern is not found, re.findall() returns an empty list.\n",
    "\n",
    "import re\n",
    "\n",
    "string = 'hello 12 hi 89. Howdy 34'\n",
    "pattern = '\\d+'\n",
    "\n",
    "result = re.findall(pattern, string) \n",
    "print(result)\n",
    "\n",
    "# Output: ['12', '89', '34']"
   ]
  },
  {
   "cell_type": "code",
   "execution_count": 57,
   "id": "91989a3a",
   "metadata": {},
   "outputs": [
    {
     "name": "stdout",
     "output_type": "stream",
     "text": [
      "['language', 'language']\n"
     ]
    }
   ],
   "source": [
    "# Example 2: re.findall()\n",
    "# the word language was found two times in the string.\n",
    "#  we are using re.I both lowercase and uppercase letters are included. If we do not have the re.I flag, \n",
    "  # then we will have to write our pattern differently.\n",
    "\n",
    "txt = '''Python is the most beautiful language that a human being has ever created.\n",
    "I recommend python for a first programming language'''\n",
    "\n",
    "# It return a list\n",
    "matches = re.findall('language', txt, re.I)\n",
    "print(matches)  # ['language', 'language']"
   ]
  },
  {
   "cell_type": "code",
   "execution_count": 58,
   "id": "a59627c9",
   "metadata": {},
   "outputs": [
    {
     "name": "stdout",
     "output_type": "stream",
     "text": [
      "['Python', 'python']\n"
     ]
    }
   ],
   "source": [
    "# Example 3: re.findall()\n",
    "#  we are using re.I both lowercase and uppercase letters are included. If we do not have the re.I flag, \n",
    "# then we will have to write our pattern differently.\n",
    "\n",
    "txt = '''Python is the most beautiful language that a human being has ever created.\n",
    "I recommend python for a first programming language'''\n",
    "\n",
    "# It returns list\n",
    "matches = re.findall('python', txt, re.I)\n",
    "print(matches)  # ['Python', 'python']"
   ]
  },
  {
   "cell_type": "code",
   "execution_count": 59,
   "id": "7fdb4fc9",
   "metadata": {},
   "outputs": [
    {
     "name": "stdout",
     "output_type": "stream",
     "text": [
      "['Python', 'python']\n",
      "['Python', 'python']\n"
     ]
    }
   ],
   "source": [
    "# Example 4: re.findall()\n",
    "\n",
    "txt = '''Python is the most beautiful language that a human being has ever created.\n",
    "I recommend python for a first programming language'''\n",
    "\n",
    "matches = re.findall('Python|python', txt)\n",
    "print(matches)  # ['Python', 'python']\n",
    "\n",
    "matches = re.findall('[Pp]ython', txt)\n",
    "print(matches)  # ['Python', 'python']"
   ]
  },
  {
   "cell_type": "code",
   "execution_count": 60,
   "id": "30d2edc5",
   "metadata": {},
   "outputs": [
    {
     "name": "stdout",
     "output_type": "stream",
     "text": [
      "['I am teacher and  I love teaching.', 'There is nothing as rewarding as educating and empowering people.', 'I found teaching more interesting than any other jobs.', 'Does this motivate you to be a teacher?']\n"
     ]
    }
   ],
   "source": [
    "# Example 1: re.split()\n",
    "# The re.split method splits the string where there is a match and returns a list of strings\n",
    " # where the splits have occurred.\n",
    "    \n",
    "# If the pattern is not found, re.split returns a list containing the original string.\n",
    "\n",
    "txt = '''I am teacher and  I love teaching.\n",
    "There is nothing as rewarding as educating and empowering people.\n",
    "I found teaching more interesting than any other jobs.\n",
    "Does this motivate you to be a teacher?'''\n",
    "print(re.split('\\n', txt)) # splitting using \\n - end of line symbol"
   ]
  },
  {
   "cell_type": "code",
   "execution_count": 61,
   "id": "e1acf06a",
   "metadata": {},
   "outputs": [
    {
     "name": "stdout",
     "output_type": "stream",
     "text": [
      "['Twelve:', ' Eighty nine:', '.']\n"
     ]
    }
   ],
   "source": [
    "# Example 2: re.split()\n",
    "\n",
    "import re\n",
    "\n",
    "string = 'Twelve:12 Eighty nine:89.'\n",
    "pattern = '\\d+'\n",
    "\n",
    "result = re.split(pattern, string) \n",
    "print(result)\n",
    "\n",
    "# Output: ['Twelve:', ' Eighty nine:', '.']"
   ]
  },
  {
   "cell_type": "code",
   "execution_count": 62,
   "id": "caf6f27e",
   "metadata": {},
   "outputs": [
    {
     "name": "stdout",
     "output_type": "stream",
     "text": [
      "['Twelve:', ' Eighty nine:89 Nine:9.']\n"
     ]
    }
   ],
   "source": [
    "# Example 3: re.split()\n",
    "# You can pass maxsplit argument to the re.split method. It's the maximum number of splits that will occur.\n",
    "\n",
    "# By the way, the default value of maxsplit is 0; meaning all possible splits.\n",
    "\n",
    "import re\n",
    "\n",
    "string = 'Twelve:12 Eighty nine:89 Nine:9.'\n",
    "pattern = '\\d+'\n",
    "\n",
    "# maxsplit = 1\n",
    "# split only at the first occurrence\n",
    "result = re.split(pattern, string, 1) \n",
    "print(result)\n",
    "\n",
    "# Output: ['Twelve:', ' Eighty nine:89 Nine:9.']"
   ]
  },
  {
   "cell_type": "code",
   "execution_count": 63,
   "id": "8d3c5769",
   "metadata": {},
   "outputs": [
    {
     "name": "stdout",
     "output_type": "stream",
     "text": [
      "abc12de23f456\n"
     ]
    }
   ],
   "source": [
    "# Example 1: re.sub()\n",
    "# re.sub(pattern, replace, string)\n",
    "# The method returns a string where matched occurrences are replaced with the content of replace variable.\n",
    "\n",
    "# If the pattern is not found, re.sub() returns the original string.\n",
    "\n",
    "# You can pass count as a fourth parameter to the re.sub() method. If omited, it results to 0.\n",
    "# This will replace all occurrences.\n",
    "\n",
    "# Program to remove all whitespaces\n",
    "import re\n",
    "\n",
    "# multiline string\n",
    "string = 'abc 12\\\n",
    "de 23 \\n f45 6'\n",
    "\n",
    "# matches all whitespace characters\n",
    "pattern = '\\s+'\n",
    "\n",
    "# empty string\n",
    "replace = ''\n",
    "\n",
    "new_string = re.sub(pattern, replace, string) \n",
    "print(new_string)\n",
    "\n",
    "# Output: abc12de23f456"
   ]
  },
  {
   "cell_type": "code",
   "execution_count": 64,
   "id": "ca152c8d",
   "metadata": {},
   "outputs": [
    {
     "name": "stdout",
     "output_type": "stream",
     "text": [
      "abc12de 23 \n",
      " f45 6\n"
     ]
    }
   ],
   "source": [
    "# Example 2: re.sub()\n",
    "\n",
    "import re\n",
    "\n",
    "# multiline string\n",
    "string = 'abc 12\\\n",
    "de 23 \\n f45 6'\n",
    "\n",
    "# matches all whitespace characters\n",
    "pattern = '\\s+'\n",
    "replace = ''\n",
    "\n",
    "new_string = re.sub(r'\\s+', replace, string, 1) \n",
    "print(new_string)\n",
    "\n",
    "# Output:\n",
    "# abc12de 23\n",
    "# f45 6"
   ]
  },
  {
   "cell_type": "code",
   "execution_count": 65,
   "id": "ba98c26b",
   "metadata": {},
   "outputs": [
    {
     "name": "stdout",
     "output_type": "stream",
     "text": [
      "JavaScript is the most beautiful language that a human being has ever created.\n",
      "I recommend JavaScript for a first programming language\n",
      "JavaScript is the most beautiful language that a human being has ever created.\n",
      "I recommend JavaScript for a first programming language\n"
     ]
    }
   ],
   "source": [
    "# Example 3: re.sub()\n",
    "\n",
    "txt = '''Python is the most beautiful language that a human being has ever created.\n",
    "I recommend python for a first programming language'''\n",
    "\n",
    "match_replaced = re.sub('Python|python', 'JavaScript', txt, re.I)\n",
    "print(match_replaced)  # JavaScript is the most beautiful language that a human being has ever created.\n",
    "# OR\n",
    "match_replaced = re.sub('[Pp]ython', 'JavaScript', txt, re.I)\n",
    "print(match_replaced)  # JavaScript is the most beautiful language that a human being has ever created."
   ]
  },
  {
   "cell_type": "code",
   "execution_count": 66,
   "id": "31940955",
   "metadata": {},
   "outputs": [
    {
     "name": "stdout",
     "output_type": "stream",
     "text": [
      "I am teacher and  I love teaching. \n",
      "There is nothing as rewarding as educating and empowering people.\n",
      "I found teaching more interesting than any other jobs. \n",
      "Does this motivate you to be a teacher?\n"
     ]
    }
   ],
   "source": [
    "# Example 4: re.sub()\n",
    "\n",
    "txt = '''%I a%m te%%a%%che%r% a%n%d %% I l%o%ve te%ach%ing. \n",
    "T%he%re i%s n%o%th%ing as r%ewarding a%s e%duc%at%i%ng a%n%d e%m%p%ow%er%ing p%e%o%ple.\n",
    "I fo%und te%a%ching m%ore i%n%t%er%%es%ting t%h%an any other %jobs. \n",
    "D%o%es thi%s m%ot%iv%a%te %y%o%u to b%e a t%e%a%cher?'''\n",
    "\n",
    "matches = re.sub('%', '', txt)\n",
    "print(matches)"
   ]
  },
  {
   "cell_type": "code",
   "execution_count": 67,
   "id": "da44f32b",
   "metadata": {},
   "outputs": [
    {
     "name": "stdout",
     "output_type": "stream",
     "text": [
      "('abc12de23f456', 4)\n"
     ]
    }
   ],
   "source": [
    "# Example 1: re.subn()\n",
    "# The re.subn() is similar to re.sub() expect it returns a tuple of 2 items containing the new string and the\n",
    "# number of substitutions made.\n",
    "\n",
    "# Program to remove all whitespaces\n",
    "import re\n",
    "\n",
    "# multiline string\n",
    "string = 'abc 12\\\n",
    "de 23 \\n f45 6'\n",
    "\n",
    "# matches all whitespace characters\n",
    "pattern = '\\s+'\n",
    "\n",
    "# empty string\n",
    "replace = ''\n",
    "\n",
    "new_string = re.subn(pattern, replace, string) \n",
    "print(new_string)\n",
    "\n",
    "# Output: ('abc12de23f456', 4)"
   ]
  },
  {
   "cell_type": "code",
   "execution_count": 68,
   "id": "02918553",
   "metadata": {},
   "outputs": [
    {
     "name": "stdout",
     "output_type": "stream",
     "text": [
      "pattern found inside the string\n"
     ]
    }
   ],
   "source": [
    "# Example 1: re.search()\n",
    "# The re.search() method takes two arguments: a pattern and a string. The method looks for the first location where \n",
    "# the RegEx pattern produces a match with the string.\n",
    "\n",
    "# If the search is successful, re.search() returns a match object; if not, it returns None.\n",
    "\n",
    "# match = re.search(pattern, str)\n",
    "\n",
    "import re\n",
    "\n",
    "string = \"Python is fun\"\n",
    "\n",
    "# check if 'Python' is at the beginning\n",
    "match = re.search('\\APython', string)\n",
    "\n",
    "if match:\n",
    "    print(\"pattern found inside the string\")\n",
    "else:\n",
    "    print(\"pattern not found\")  \n",
    "\n",
    "# Output: pattern found inside the string"
   ]
  },
  {
   "cell_type": "code",
   "execution_count": 69,
   "id": "f3b03f30",
   "metadata": {},
   "outputs": [
    {
     "name": "stdout",
     "output_type": "stream",
     "text": [
      "<re.Match object; span=(100, 105), match='first'>\n",
      "(100, 105)\n",
      "100 105\n",
      "first\n"
     ]
    }
   ],
   "source": [
    "# Example 2: re.search()\n",
    "\n",
    "import re\n",
    "\n",
    "txt = '''Python is the most beautiful language that a human being has ever created.\n",
    "I recommend python for a first programming language'''\n",
    "\n",
    "# It returns an object with span and match\n",
    "match = re.search('first', txt, re.I)\n",
    "print(match)  # \n",
    "# We can get the starting and ending position of the match as tuple using span\n",
    "span = match.span()\n",
    "print(span)     # (100, 105)\n",
    "# Lets find the start and stop position from the span\n",
    "start, end = span\n",
    "print(start, end)  # 100 105\n",
    "substring = txt[start:end]\n",
    "print(substring)       # first"
   ]
  },
  {
   "cell_type": "code",
   "execution_count": 70,
   "id": "e64c0d10",
   "metadata": {},
   "outputs": [
    {
     "name": "stdout",
     "output_type": "stream",
     "text": [
      "<re.Match object; span=(0, 15), match='I love to teach'>\n",
      "(0, 15)\n",
      "0 15\n",
      "I love to teach\n"
     ]
    }
   ],
   "source": [
    "import re\n",
    "#  The match function returns an object only if the text starts with the pattern.\n",
    "\n",
    "txt = 'I love to teach python and javaScript'\n",
    "# It returns an object with span, and match\n",
    "match = re.match('I love to teach', txt, re.I)\n",
    "print(match)  # \n",
    "# We can get the starting and ending position of the match as tuple using span\n",
    "span = match.span()\n",
    "print(span)     # (0, 15)\n",
    "# Lets find the start and stop position from the span\n",
    "start, end = span\n",
    "print(start, end)  # 0, 15\n",
    "substring = txt[start:end]\n",
    "print(substring)       # I love to teach"
   ]
  },
  {
   "cell_type": "code",
   "execution_count": 71,
   "id": "9b98a272",
   "metadata": {},
   "outputs": [
    {
     "name": "stdout",
     "output_type": "stream",
     "text": [
      "None\n"
     ]
    }
   ],
   "source": [
    "# The string does not string with I like to teach, therefore there was no match and the match method returned None.\n",
    "import re\n",
    "\n",
    "txt = 'I love to teach python and javaScript'\n",
    "match = re.match('I like to teach', txt, re.I)\n",
    "print(match)  # None"
   ]
  },
  {
   "cell_type": "code",
   "execution_count": 72,
   "id": "f13b0f4f",
   "metadata": {},
   "outputs": [
    {
     "name": "stdout",
     "output_type": "stream",
     "text": [
      "801 35\n"
     ]
    }
   ],
   "source": [
    "# Example 6: Match object\n",
    "\n",
    "import re\n",
    "\n",
    "string = '39801 356, 2102 1111'\n",
    "\n",
    "# Three digit number followed by space followed by two digit number\n",
    "pattern = '(\\d{3}) (\\d{2})'\n",
    "\n",
    "# match variable contains a Match object.\n",
    "match = re.search(pattern, string) \n",
    "\n",
    "if match:\n",
    "    print(match.group())\n",
    "else:\n",
    "    print(\"pattern not found\")\n",
    "\n",
    "# Output: 801 35"
   ]
  },
  {
   "cell_type": "code",
   "execution_count": 73,
   "id": "c41ca787",
   "metadata": {},
   "outputs": [
    {
     "data": {
      "text/plain": [
       "'801'"
      ]
     },
     "execution_count": 73,
     "metadata": {},
     "output_type": "execute_result"
    }
   ],
   "source": [
    "match.group(1)"
   ]
  },
  {
   "cell_type": "code",
   "execution_count": 74,
   "id": "9285a984",
   "metadata": {},
   "outputs": [
    {
     "data": {
      "text/plain": [
       "'35'"
      ]
     },
     "execution_count": 74,
     "metadata": {},
     "output_type": "execute_result"
    }
   ],
   "source": [
    "match.group(2)"
   ]
  },
  {
   "cell_type": "code",
   "execution_count": 75,
   "id": "ff5ce906",
   "metadata": {},
   "outputs": [
    {
     "data": {
      "text/plain": [
       "('801', '35')"
      ]
     },
     "execution_count": 75,
     "metadata": {},
     "output_type": "execute_result"
    }
   ],
   "source": [
    "match.group(1, 2)"
   ]
  },
  {
   "cell_type": "code",
   "execution_count": 76,
   "id": "aa001242",
   "metadata": {},
   "outputs": [
    {
     "data": {
      "text/plain": [
       "('801', '35')"
      ]
     },
     "execution_count": 76,
     "metadata": {},
     "output_type": "execute_result"
    }
   ],
   "source": [
    "match.groups()"
   ]
  },
  {
   "cell_type": "code",
   "execution_count": 77,
   "id": "494f8bf6",
   "metadata": {},
   "outputs": [
    {
     "data": {
      "text/plain": [
       "2"
      ]
     },
     "execution_count": 77,
     "metadata": {},
     "output_type": "execute_result"
    }
   ],
   "source": [
    "match.start()"
   ]
  },
  {
   "cell_type": "code",
   "execution_count": 78,
   "id": "609801ce",
   "metadata": {},
   "outputs": [
    {
     "data": {
      "text/plain": [
       "8"
      ]
     },
     "execution_count": 78,
     "metadata": {},
     "output_type": "execute_result"
    }
   ],
   "source": [
    "match.end()"
   ]
  },
  {
   "cell_type": "code",
   "execution_count": 79,
   "id": "7189ba0e",
   "metadata": {},
   "outputs": [
    {
     "data": {
      "text/plain": [
       "(2, 8)"
      ]
     },
     "execution_count": 79,
     "metadata": {},
     "output_type": "execute_result"
    }
   ],
   "source": [
    "match.span()"
   ]
  },
  {
   "cell_type": "code",
   "execution_count": 80,
   "id": "407df9ad",
   "metadata": {},
   "outputs": [
    {
     "data": {
      "text/plain": [
       "re.compile(r'(\\d{3}) (\\d{2})', re.UNICODE)"
      ]
     },
     "execution_count": 80,
     "metadata": {},
     "output_type": "execute_result"
    }
   ],
   "source": [
    "# The re attribute of a matched object returns a regular expression object. Similarly, string attribute returns\n",
    "# the passed string.\n",
    "match.re"
   ]
  },
  {
   "cell_type": "code",
   "execution_count": 81,
   "id": "fa05e8c2",
   "metadata": {},
   "outputs": [
    {
     "data": {
      "text/plain": [
       "'39801 356, 2102 1111'"
      ]
     },
     "execution_count": 81,
     "metadata": {},
     "output_type": "execute_result"
    }
   ],
   "source": [
    "match.string"
   ]
  },
  {
   "cell_type": "code",
   "execution_count": 82,
   "id": "35f5a2b2",
   "metadata": {},
   "outputs": [
    {
     "name": "stdout",
     "output_type": "stream",
     "text": [
      "['\\n', '\\r']\n"
     ]
    }
   ],
   "source": [
    "# Example 7: Raw string using r prefix\n",
    "# When r or R prefix is used before a regular expression, it means raw string. For example, '\\n' is a new line\n",
    "# whereas r'\\n' means two characters: a backslash \\ followed by n.\n",
    "\n",
    "# Backlash \\ is used to escape various characters including all metacharacters. However, using r prefix makes \\ treat \n",
    "# as a normal character.\n",
    "\n",
    "import re\n",
    "\n",
    "string = '\\n and \\r are escape sequences.'\n",
    "\n",
    "result = re.findall(r'[\\n\\r]', string) \n",
    "print(result)\n",
    "\n",
    "# Output: ['\\n', '\\r']"
   ]
  },
  {
   "cell_type": "code",
   "execution_count": 83,
   "id": "bb9c6b36",
   "metadata": {},
   "outputs": [
    {
     "name": "stdout",
     "output_type": "stream",
     "text": [
      "['Apple', 'apple']\n"
     ]
    }
   ],
   "source": [
    "# Example 1:\n",
    "\n",
    "regex_pattern = r'[Aa]pple' # this square bracket mean either A or a\n",
    "txt = 'Apple and banana are fruits. An old cliche says an apple a day a doctor way has been replaced by a banana a day keeps the doctor far far away.'\n",
    "matches = re.findall(regex_pattern, txt)\n",
    "print(matches)  # ['Apple', 'apple']"
   ]
  },
  {
   "cell_type": "code",
   "execution_count": 84,
   "id": "5e3a71ea",
   "metadata": {},
   "outputs": [
    {
     "name": "stdout",
     "output_type": "stream",
     "text": [
      "['Apple', 'banana', 'apple', 'banana']\n"
     ]
    }
   ],
   "source": [
    "regex_pattern = r'[Aa]pple|[Bb]anana' # this square bracket means either A or a\n",
    "txt = 'Apple and banana are fruits. An old cliche says an apple a day a doctor way has been replaced by a banana a day keeps the doctor far far away.'\n",
    "matches = re.findall(regex_pattern, txt)\n",
    "print(matches)  # ['Apple', 'banana', 'apple', 'banana']"
   ]
  },
  {
   "cell_type": "code",
   "execution_count": 85,
   "id": "ed171f90",
   "metadata": {},
   "outputs": [
    {
     "name": "stdout",
     "output_type": "stream",
     "text": [
      "['8', '1', '9', '4', '2', '1', '4', '2', '0', '1', '8', '7', '6']\n"
     ]
    }
   ],
   "source": [
    "# Example 1:\n",
    "\n",
    "regex_pattern = r'\\d'  # d is a special character which means digits\n",
    "txt = \"Hawking born on 8 January 1942 and died on 14 March 2018 Einstein's birth anniversary (Pi-Day) and both died at 76\"\n",
    "matches = re.findall(regex_pattern, txt)\n",
    "print(matches)  # ['8', '1', '9', '4', '2', '1', '4', '2', '0', '1', '8', '7', '6'] - this is not what we want"
   ]
  },
  {
   "cell_type": "code",
   "execution_count": 86,
   "id": "7c437fe2",
   "metadata": {},
   "outputs": [
    {
     "name": "stdout",
     "output_type": "stream",
     "text": [
      "['8', '1942', '14', '2018', '76']\n"
     ]
    }
   ],
   "source": [
    "# Example 1:\n",
    "\n",
    "regex_pattern = r'\\d+'  # d is a special character which means digits, + mean one or more times\n",
    "txt = \"Hawking born on 8 January 1942 and died on 14 March 2018 Einstein's birth anniversary (Pi-Day) and both died at 76\"\n",
    "matches = re.findall(regex_pattern, txt)\n",
    "print(matches)  # ['8', '1942', '14', '2018', '76'] - this is better!"
   ]
  },
  {
   "cell_type": "code",
   "execution_count": 87,
   "id": "000afbb2",
   "metadata": {},
   "outputs": [
    {
     "name": "stdout",
     "output_type": "stream",
     "text": [
      "['an', 'an', 'an', 'a ', 'ar']\n"
     ]
    }
   ],
   "source": [
    "# Example 1:\n",
    "\n",
    "regex_pattern = r'[a].'  # this square bracket means a and . means any character except new line\n",
    "txt = '''Apple and Banana are fruits'''\n",
    "matches = re.findall(regex_pattern, txt)\n",
    "print(matches)  # ['an', 'an', 'an', 'a ', 'ar']"
   ]
  },
  {
   "cell_type": "code",
   "execution_count": 88,
   "id": "be1dd1b7",
   "metadata": {},
   "outputs": [
    {
     "name": "stdout",
     "output_type": "stream",
     "text": [
      "['and Banana are fruits']\n"
     ]
    }
   ],
   "source": [
    "# Example 2: [] with +\n",
    "\n",
    "regex_pattern = r'[a].+'  # . any character, + any character one or more times \n",
    "matches = re.findall(regex_pattern, txt)\n",
    "print(matches)  # ['and Banana are fruits']"
   ]
  },
  {
   "cell_type": "code",
   "execution_count": 89,
   "id": "ebc1c1c8",
   "metadata": {},
   "outputs": [
    {
     "name": "stdout",
     "output_type": "stream",
     "text": [
      "['and Banana are fruits']\n"
     ]
    }
   ],
   "source": [
    "# Example 1:\n",
    "\n",
    "regex_pattern = r'[a].*'  # . any character, * any character zero or more times \n",
    "txt = '''Apple and Banana are fruits'''\n",
    "matches = re.findall(regex_pattern, txt)\n",
    "print(matches)  # ['and Banana are fruits']"
   ]
  },
  {
   "cell_type": "code",
   "execution_count": 90,
   "id": "42e003c4",
   "metadata": {},
   "outputs": [
    {
     "name": "stdout",
     "output_type": "stream",
     "text": [
      "['e-mail', 'email', 'Email', 'E-mail']\n"
     ]
    }
   ],
   "source": [
    "# Example 1:\n",
    "\n",
    "txt = '''I am not sure if there is a convention how to write the word e-mail.\n",
    "Some people write it as email others may write it as Email or E-mail.'''\n",
    "regex_pattern = r'[Ee]-?mail'  # ? means here that '-' is optional\n",
    "matches = re.findall(regex_pattern, txt)\n",
    "print(matches)  # ['e-mail', 'email', 'Email', 'E-mail']"
   ]
  },
  {
   "cell_type": "code",
   "execution_count": 91,
   "id": "14464779",
   "metadata": {},
   "outputs": [
    {
     "name": "stdout",
     "output_type": "stream",
     "text": [
      "['1942', '2018']\n"
     ]
    }
   ],
   "source": [
    "# Example 1:\n",
    "# We can specify the length of the substring we are looking for in a text, using a curly brackets {}. Let us imagine,\n",
    "# we are interested in a substring with a length of 4 characters:\n",
    "txt = \"Hawking born on 8 January 1942 and died on 14 March 2018 Einstein's birth anniversary (Pi-Day) and both died at 76\"\n",
    "regex_pattern = r'\\d{4}'  # exactly four times\n",
    "matches = re.findall(regex_pattern, txt)\n",
    "print(matches)  # ['1942', '2018']"
   ]
  },
  {
   "cell_type": "code",
   "execution_count": 92,
   "id": "85808b27",
   "metadata": {},
   "outputs": [
    {
     "name": "stdout",
     "output_type": "stream",
     "text": [
      "['8', '1942', '14', '2018', '76']\n"
     ]
    }
   ],
   "source": [
    "# Example 2:\n",
    "\n",
    "txt = \"Hawking born on 8 January 1942 and died on 14 March 2018 Einstein's birth anniversary (Pi-Day) and both died at 76\"\n",
    "regex_pattern = r'\\d{1,4}'   # 1 to 4\n",
    "matches = re.findall(regex_pattern, txt)\n",
    "print(matches)  # ['8', '1942', '76', '14', '2018', '76']"
   ]
  },
  {
   "cell_type": "code",
   "execution_count": 93,
   "id": "a2342329",
   "metadata": {},
   "outputs": [
    {
     "name": "stdout",
     "output_type": "stream",
     "text": [
      "['Hawking']\n"
     ]
    }
   ],
   "source": [
    "# Example 1: Starts with\n",
    "\n",
    "txt = \"Hawking born on 8 January 1942 and died on 14 March 2018 Einstein's birth anniversary (Pi-Day) and both died at 76\"\n",
    "regex_pattern = r'^Hawking'  # ^ means starts with\n",
    "matches = re.findall(regex_pattern, txt)\n",
    "print(matches)  # ['Hawking']"
   ]
  },
  {
   "cell_type": "code",
   "execution_count": 94,
   "id": "060e0551",
   "metadata": {},
   "outputs": [
    {
     "name": "stdout",
     "output_type": "stream",
     "text": [
      "['8', '1942', '14', '2018', \"'\", '(', '-', ')', '76']\n"
     ]
    }
   ],
   "source": [
    "# Example 2: Negation\n",
    "\n",
    "txt = \"Hawking born on 8 January 1942 and died on 14 March 2018 Einstein's birth anniversary (Pi-Day) and both died at 76\"\n",
    "regex_pattern = r'[^A-Za-z ]+'  # ^ in set character means negation, not A to Z, not a to z, no space\n",
    "matches = re.findall(regex_pattern, txt)\n",
    "print(matches)  # ['8', '1942', '14', '2018', \"'\", '(', '-', ')', '76']"
   ]
  },
  {
   "cell_type": "code",
   "execution_count": null,
   "id": "38e685ac",
   "metadata": {},
   "outputs": [],
   "source": []
  }
 ],
 "metadata": {
  "kernelspec": {
   "display_name": "Python 3 (ipykernel)",
   "language": "python",
   "name": "python3"
  },
  "language_info": {
   "codemirror_mode": {
    "name": "ipython",
    "version": 3
   },
   "file_extension": ".py",
   "mimetype": "text/x-python",
   "name": "python",
   "nbconvert_exporter": "python",
   "pygments_lexer": "ipython3",
   "version": "3.9.7"
  }
 },
 "nbformat": 4,
 "nbformat_minor": 5
}
