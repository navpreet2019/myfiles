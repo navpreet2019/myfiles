{
 "cells": [
  {
   "cell_type": "code",
   "execution_count": 1,
   "id": "e9228701",
   "metadata": {},
   "outputs": [
    {
     "data": {
      "text/plain": [
       "[1, 1, 1, 1, 1, 1, 1, 1, 1, 1]"
      ]
     },
     "execution_count": 1,
     "metadata": {},
     "output_type": "execute_result"
    }
   ],
   "source": [
    "\n",
    "\n",
    "#Identically distributed\n",
    "#This means that the samples come from the same r.v(random variable). More specifically, this means that we sample from \n",
    "#the same function each time. Below would be some identically distributed samples:\n",
    "\n",
    "def rv1():\n",
    "    return 1\n",
    "\n",
    "identically_distributed_samples = [rv1() for _ in range(10)]\n",
    "\n",
    "identically_distributed_samples\n",
    "\n"
   ]
  },
  {
   "cell_type": "code",
   "execution_count": 2,
   "id": "333cc29c",
   "metadata": {},
   "outputs": [
    {
     "data": {
      "text/plain": [
       "[1, 1, 1, 1, 1, 2, 2, 2, 2, 2]"
      ]
     },
     "execution_count": 2,
     "metadata": {},
     "output_type": "execute_result"
    }
   ],
   "source": [
    "def rv2():\n",
    "    return 2\n",
    "\n",
    "not_identically_distributed_samples = [rv1() for _ in range(5)] + [rv2() for _ in range(5)]\n",
    "\n",
    "not_identically_distributed_samples"
   ]
  },
  {
   "cell_type": "code",
   "execution_count": 3,
   "id": "8299a854",
   "metadata": {},
   "outputs": [
    {
     "ename": "SyntaxError",
     "evalue": "invalid syntax (Temp/ipykernel_14504/1364169317.py, line 9)",
     "output_type": "error",
     "traceback": [
      "\u001b[1;36m  File \u001b[1;32m\"C:\\Users\\profn\\AppData\\Local\\Temp/ipykernel_14504/1364169317.py\"\u001b[1;36m, line \u001b[1;32m9\u001b[0m\n\u001b[1;33m    |\u001b[0m\n\u001b[1;37m    ^\u001b[0m\n\u001b[1;31mSyntaxError\u001b[0m\u001b[1;31m:\u001b[0m invalid syntax\n"
     ]
    }
   ],
   "source": [
    "# Say we are measuring the height of pigs at a farm. We randomly pick a pig and then we measure the height.\n",
    "\n",
    "#This is a real life r.v. Now let's say that we accidentally picked up a chicken and measured it and put it in the data set.\n",
    "#Then that is not identically distributed right!\n",
    "\n",
    "# So notice that the answer will greatly depend on how your problem is framed.\n",
    "\n",
    "#The most important thing to remember here is to always know what you are sampling from.\n",
    "|"
   ]
  },
  {
   "cell_type": "code",
   "execution_count": 1,
   "id": "f384acee",
   "metadata": {},
   "outputs": [
    {
     "data": {
      "text/plain": [
       "(4, 5)"
      ]
     },
     "execution_count": 1,
     "metadata": {},
     "output_type": "execute_result"
    }
   ],
   "source": [
    "#Independent\n",
    "#The next property that we will discuss is very hard to wrap your mind around, but this is independence.\n",
    "#Two r.v. are independent if they do not depend on each other. In function speak, this would mean that the independent\n",
    "#variables don't take as parameters each other (or any r.v. that is dependent on the other).\n",
    "#Okay, confusing right, well, let's look at an example.\n",
    "\n",
    "#These r.v. are independent:\n",
    "def ind1():\n",
    "    return 4\n",
    "\n",
    "def ind2():\n",
    "    return 5\n",
    "\n",
    "ind1(), ind2()"
   ]
  },
  {
   "cell_type": "code",
   "execution_count": 2,
   "id": "50233c42",
   "metadata": {},
   "outputs": [
    {
     "data": {
      "text/plain": [
       "[4, 5, 6, 7, 8]"
      ]
     },
     "execution_count": 2,
     "metadata": {},
     "output_type": "execute_result"
    }
   ],
   "source": [
    "x = 3\n",
    "\n",
    "def not_ind():\n",
    "    global x\n",
    "    x += 1\n",
    "    return x\n",
    "\n",
    "not_ind_samples = [not_ind() for _ in range(5)]\n",
    "not_ind_samples\n"
   ]
  },
  {
   "cell_type": "code",
   "execution_count": 3,
   "id": "fbe6ed9b",
   "metadata": {},
   "outputs": [
    {
     "data": {
      "text/plain": [
       "[3, 3, 3, 3, 3]"
      ]
     },
     "execution_count": 3,
     "metadata": {},
     "output_type": "execute_result"
    }
   ],
   "source": [
    "from numpy.random import rand\n",
    "\n",
    "x = 3\n",
    "\n",
    "def not_ind_adv():\n",
    "    global x\n",
    "    if rand() < .01:\n",
    "        x += 1\n",
    "    return x\n",
    "\n",
    "not_ind_samples = [not_ind_adv() for _ in range(5)]\n",
    "\n",
    "not_ind_samples"
   ]
  },
  {
   "cell_type": "code",
   "execution_count": null,
   "id": "bef01f44",
   "metadata": {},
   "outputs": [],
   "source": [
    "\n",
    "\n",
    "#The S&P 500 index, or Standard & Poor's 500, is a very\n",
    "#important index that tracks the performance of the stocks\n",
    "#of 500 large-cap companies in the U.S. The ticker symbol\n",
    "#for the S&P 500 index is ^GSPC. The series of letters\n",
    "#represents the performance of the 500 stocks listed on \n",
    "#the S&P.\n",
    "\n",
    "\n",
    "#ARKK is an actively managed Exchange Traded Fund (ETF) that seeks long-term growth of capital by investing under\n",
    "#normal circumstances primarily (at least 65% of its assets)\n",
    "\n",
    "\n",
    "#The Russell 1000 Index represents the top 1000 companies by market capitalization in the United States. \n",
    "#The index is a subset of the Russell 3000 Index. The Russell 1000 index comprises about 92% of the total market cap of\n",
    "#all listed stocks in the U.S. equity market.\n",
    "\n",
    "\n",
    "# rlv relevium technologies Inc"
   ]
  },
  {
   "cell_type": "code",
   "execution_count": null,
   "id": "7b89f0cc",
   "metadata": {},
   "outputs": [],
   "source": [
    "from pandas_datareader import data"
   ]
  },
  {
   "cell_type": "code",
   "execution_count": null,
   "id": "d7ae6a2c",
   "metadata": {},
   "outputs": [],
   "source": [
    "arkk = data.DataReader('ARKK', 'yahoo', start='2015/01/01', end='2018/01/01')\n",
    "arkk = arkk.resample('M').last().pct_change()\n",
    "arkk.head()"
   ]
  },
  {
   "cell_type": "code",
   "execution_count": null,
   "id": "73c93a24",
   "metadata": {},
   "outputs": [],
   "source": [
    "rlg = data.DataReader('^RLG', 'yahoo', start='2015/01/01', end='2018/01/01')\n",
    "rlg = rlg.resample('M').last().pct_change()\n",
    "rlg.head()\n"
   ]
  },
  {
   "cell_type": "code",
   "execution_count": null,
   "id": "e6dedb2e",
   "metadata": {},
   "outputs": [],
   "source": [
    "rlv = data.DataReader('^RLV', 'yahoo', start='2015/01/01', end='2018/01/01')\n",
    "rlv = rlv.resample('M').last().pct_change()\n",
    "rlv.head()"
   ]
  },
  {
   "cell_type": "code",
   "execution_count": null,
   "id": "fbe8b5bd",
   "metadata": {},
   "outputs": [],
   "source": [
    "data = {'arkk':arkk['Adj Close'], 'rlg':rlg['Adj Close'], 'rlv':rlv['Adj Close']}"
   ]
  },
  {
   "cell_type": "code",
   "execution_count": null,
   "id": "a683f0e7",
   "metadata": {},
   "outputs": [],
   "source": [
    "import pandas as pd\n",
    "df = pd.DataFrame(data)\n",
    "df.head()"
   ]
  },
  {
   "cell_type": "code",
   "execution_count": null,
   "id": "5ae4d05a",
   "metadata": {},
   "outputs": [],
   "source": [
    "df = df.dropna()\n",
    "df.head()"
   ]
  },
  {
   "cell_type": "code",
   "execution_count": null,
   "id": "aef5a38a",
   "metadata": {},
   "outputs": [],
   "source": [
    "import statsmodels.api as sm\n",
    "from patsy import dmatrices\n",
    "y, X = dmatrices('arkk ~ rlg + rlv', data=df, return_type='dataframe')\n",
    "y.head()"
   ]
  },
  {
   "cell_type": "code",
   "execution_count": null,
   "id": "a6bc972a",
   "metadata": {},
   "outputs": [],
   "source": [
    "X.head()"
   ]
  },
  {
   "cell_type": "code",
   "execution_count": null,
   "id": "435236ec",
   "metadata": {},
   "outputs": [],
   "source": [
    "y = df['arkk']\n",
    "X = df[['rlg', 'rlv']]\n",
    "y.head()"
   ]
  },
  {
   "cell_type": "code",
   "execution_count": null,
   "id": "8699c113",
   "metadata": {},
   "outputs": [],
   "source": [
    "X.head()"
   ]
  },
  {
   "cell_type": "code",
   "execution_count": null,
   "id": "34fdef79",
   "metadata": {},
   "outputs": [],
   "source": [
    "X = sm.add_constant(X)\n",
    "X.head()"
   ]
  },
  {
   "cell_type": "code",
   "execution_count": null,
   "id": "cbbe67d1",
   "metadata": {},
   "outputs": [],
   "source": [
    "model = sm.OLS(y, X)\n",
    "results = model.fit()\n",
    "results.summary()"
   ]
  },
  {
   "cell_type": "code",
   "execution_count": null,
   "id": "41479c5d",
   "metadata": {},
   "outputs": [],
   "source": [
    "# rlg value\n",
    "results.params[1]"
   ]
  },
  {
   "cell_type": "code",
   "execution_count": null,
   "id": "f2389e7d",
   "metadata": {},
   "outputs": [],
   "source": [
    "#rlv value\n",
    "results.params[2]"
   ]
  },
  {
   "cell_type": "code",
   "execution_count": null,
   "id": "0eff13c9",
   "metadata": {},
   "outputs": [],
   "source": [
    "\n",
    "#Arguments:\n",
    "#p: probability\n",
    "#dof: number of degrees of freedom\n",
    "\n",
    "#The survival function is 1 minus the cumulative distribution function.\n",
    "#The survival function is a function that gives the probability that a patient, device, or other object of \n",
    "#interest will survive past a certain time. The survival function is also known as the survivor function or \n",
    "#reliability function.\n",
    "\n",
    "#isf -- inverse survival function\n",
    "\n",
    "#Survival function can be also interpreted as the probability that a certain object of interest will survive beyond a\n",
    "#certain time t. The value of the function lies between 0 and 1(inclusive) and it is a non-increasing function.\n",
    "dof = 33\n",
    "from scipy import stats\n",
    "stats.t.isf(0.025, dof)"
   ]
  },
  {
   "cell_type": "code",
   "execution_count": null,
   "id": "64edd681",
   "metadata": {},
   "outputs": [],
   "source": [
    "#Heteroskedasticity\n",
    "\n",
    "#homoscedasticity and heteroscedasticity is that homoscedasticity is (statistics) a property of a set of random variables\n",
    "#where each variable has the same finite variance while heteroscedasticity is (statistics) the property of a series of \n",
    "#random variables of not every variable having the same finite variance.\n",
    "\n",
    "#What is homoscedasticity example?\n",
    "#Example of Homoskedastic\n",
    "\n",
    "#For example, suppose you wanted to explain student test scores using the amount of time each student spent studying. \n",
    "#In this case, the test scores would be the dependent variable and the time spent studying would be the predictor variable.\n",
    "\n",
    "#What is the purpose of homoscedasticity?\n",
    "#Homoscedasticity, or homogeneity of variances, is an assumption of equal or similar variances in different groups \n",
    "#being compared. This is an important assumption of parametric statistical tests because they are sensitive to any\n",
    "#dissimilarities. Uneven variances in samples result in biased and skewed test results.\n",
    "\n",
    "#Why is heterogeneity of variance bad?\n",
    "#However, if heterogeneity is present, the variance in the dependent variable is different at different levels of the \n",
    "#independent variables, and averaging the sample variances may result in an incorrect error term, which in turn will bias \n",
    "#the significance test.\n",
    "\n",
    "\n",
    "#How is heteroscedasticity detected?\n",
    "#A formal test called Spearman's rank correlation test is used by the researcher to detect the presence of \n",
    "#heteroscedasticity. ... The researcher then fits the model to the data by obtaining the absolute value of the residual \n",
    "#and then ranking them in ascending or descending manner to detect heteroscedasticity.\n",
    "\n",
    "\n",
    "#How is Homoscedasticity determined?\n",
    "#So when is a data set classified as having homoscedasticity? The general rule of thumb1 is: If the ratio of the largest\n",
    "#variance to the smallest variance is 1.5 or below, the data is homoscedastic.\n",
    "\n",
    "#What are the four assumptions of linear regression?\n",
    "Assumption 1: Linear Relationship.\n",
    "Assumption 2: Independence.\n",
    "Assumption 3: Homoscedasticity.\n",
    "Assumption 4: Normality.\n",
    "    \n",
    "    \n",
    "#How can Heteroskedasticity be prevented?\n",
    "There are three common ways to fix heteroscedasticity:\n",
    "Transform the dependent variable. One way to fix heteroscedasticity is to transform the dependent variable in some way. ...\n",
    "Redefine the dependent variable. Another way to fix heteroscedasticity is to redefine the dependent variable. ...\n",
    "Use weighted regression.\n",
    "\n",
    "#Why do we test for heteroskedasticity?\n",
    "It is used to test for heteroskedasticity in a linear regression model and assumes that the error terms are normally \n",
    "distributed. It tests whether the variance of the errors from a regression is dependent on the values of the independent \n",
    "variables.\n",
    "\n",
    "#What is the null hypothesis for homoscedasticity?\n",
    "The null hypothesis of this chi-squared test is homoscedasticity, and the alternative hypothesis would indicate\n",
    "heteroscedasticity. Since the Breusch–Pagan test is sensitive to departures from normality or small sample sizes, \n",
    "the Koenker–Bassett or 'generalized Breusch–Pagan' test is commonly used instead.\n",
    "\n",
    "#How do you test for Multicollinearity?\n",
    "Detecting Multicollinearity\n",
    "Step 1: Review scatterplot and correlation matrices. ...\n",
    "Step 2: Look for incorrect coefficient signs. ...\n",
    "Step 3: Look for instability of the coefficients. ...\n",
    "Step 4: Review the Variance Inflation Factor.\n",
    "    \n",
    "    \n",
    "#How do you deal with homoscedasticity?\n",
    "Another approach for dealing with heteroscedasticity is to transform the dependent variable using one of the variance \n",
    "stabilizing transformations. A logarithmic transformation can be applied to highly skewed variables, while count variables\n",
    "can be transformed using a square root transformation."
   ]
  },
  {
   "cell_type": "code",
   "execution_count": 4,
   "id": "e5464f6d",
   "metadata": {},
   "outputs": [
    {
     "data": {
      "text/plain": [
       "<matplotlib.collections.PathCollection at 0x161fe450640>"
      ]
     },
     "execution_count": 4,
     "metadata": {},
     "output_type": "execute_result"
    },
    {
     "data": {
      "image/png": "[encoded data removed]",
      "text/plain": [
       "<Figure size 432x288 with 1 Axes>"
      ]
     },
     "metadata": {
      "needs_background": "light"
     },
     "output_type": "display_data"
    }
   ],
   "source": [
    "import matplotlib.pyplot as plt\n",
    "import numpy as np\n",
    "z = np.linspace(1, 10, 50)\n",
    "a = []\n",
    "for i in z:\n",
    "    v = i + np.random.normal()\n",
    "    a.append(v)\n",
    "plt.scatter(z, a)"
   ]
  },
  {
   "cell_type": "code",
   "execution_count": 5,
   "id": "3b792882",
   "metadata": {},
   "outputs": [
    {
     "data": {
      "text/plain": [
       "<matplotlib.collections.PathCollection at 0x161800d0e80>"
      ]
     },
     "execution_count": 5,
     "metadata": {},
     "output_type": "execute_result"
    },
    {
     "data": {
      "image/png": "[encoded data removed]",
      "text/plain": [
       "<Figure size 432x288 with 1 Axes>"
      ]
     },
     "metadata": {
      "needs_background": "light"
     },
     "output_type": "display_data"
    }
   ],
   "source": [
    "z = np.linspace(1, 10, 50)\n",
    "a = []\n",
    "c = 1\n",
    "for i in z:\n",
    "    v = i*c*np.random.randint(low=1, high=10)\n",
    "    a.append(v)\n",
    "    c =  c + 1\n",
    "plt.scatter(z, a)"
   ]
  },
  {
   "cell_type": "code",
   "execution_count": 7,
   "id": "e9eda971",
   "metadata": {},
   "outputs": [],
   "source": [
    "#Breusch Pagan Test\n",
    "#nR**2\n",
    "#df=no. of IVs"
   ]
  },
  {
   "cell_type": "code",
   "execution_count": 6,
   "id": "267c1765",
   "metadata": {},
   "outputs": [
    {
     "ename": "NameError",
     "evalue": "name 'X' is not defined",
     "output_type": "error",
     "traceback": [
      "\u001b[1;31m---------------------------------------------------------------------------\u001b[0m",
      "\u001b[1;31mNameError\u001b[0m                                 Traceback (most recent call last)",
      "\u001b[1;32m~\\AppData\\Local\\Temp/ipykernel_12044/1716939484.py\u001b[0m in \u001b[0;36m<module>\u001b[1;34m\u001b[0m\n\u001b[1;32m----> 1\u001b[1;33m \u001b[0mX\u001b[0m\u001b[1;33m.\u001b[0m\u001b[0mhead\u001b[0m\u001b[1;33m(\u001b[0m\u001b[1;33m)\u001b[0m\u001b[1;33m\u001b[0m\u001b[1;33m\u001b[0m\u001b[0m\n\u001b[0m",
      "\u001b[1;31mNameError\u001b[0m: name 'X' is not defined"
     ]
    }
   ],
   "source": [
    "X.head()"
   ]
  },
  {
   "cell_type": "code",
   "execution_count": null,
   "id": "db3adb33",
   "metadata": {},
   "outputs": [],
   "source": [
    "residuals=results.resid\n",
    "residuals"
   ]
  },
  {
   "cell_type": "code",
   "execution_count": null,
   "id": "6a23c5fb",
   "metadata": {},
   "outputs": [],
   "source": [
    "residuals = results.resid**2\n",
    "model_2 = sm.OLS(residuals, X)\n",
    "results_2 = model_2.fit()\n",
    "results_2.summary()"
   ]
  },
  {
   "cell_type": "code",
   "execution_count": null,
   "id": "cf027fc9",
   "metadata": {},
   "outputs": [],
   "source": [
    "# no. of obs X R**2 value\n",
    "36 * 0.132"
   ]
  },
  {
   "cell_type": "code",
   "execution_count": null,
   "id": "cc39d165",
   "metadata": {},
   "outputs": [],
   "source": [
    "5.991"
   ]
  },
  {
   "cell_type": "code",
   "execution_count": null,
   "id": "a3ab3d21",
   "metadata": {},
   "outputs": [],
   "source": [
    "# results.model.exog  results from original model\n",
    "# 0.10203148058376516  > 0.05 (pvalue) we cannot reject H0\n",
    "from statsmodels.stats.diagnostic import het_breuschpagan\n",
    "bp_test = het_breuschpagan(results.resid, results.model.exog)\n",
    "bp_test"
   ]
  },
  {
   "cell_type": "code",
   "execution_count": null,
   "id": "08275ca4",
   "metadata": {},
   "outputs": [],
   "source": [
    "#Multicollinearity\n",
    "\n",
    "#Multicollinearity occurs when independent variables in a regression model are correlated. This correlation is a\n",
    "problem because independent variables should be independent. If the degree of correlation between variables is high enough,\n",
    "it can cause problems when you fit the model and interpret the results.\n",
    "\n",
    "#Why is Multicollinearity a Potential Problem?\n",
    "A key goal of regression analysis is to isolate the relationship between each independent variable and the dependent \n",
    "variable. The interpretation of a regression coefficient is that it represents the mean change in the dependent variable \n",
    "for each 1 unit change in an independent variable when you hold all of the other independent variables constant. That last\n",
    "portion is crucial for our discussion about multicollinearity.\n",
    "\n",
    "#The idea is that you can change the value of one independent variable and not the others. However, when independent\n",
    "variables are correlated, it indicates that changes in one variable are associated with shifts in another variable. The\n",
    "stronger the correlation, the more difficult it is to change one variable without changing another. It becomes difficult\n",
    "for the model to estimate the relationship between each independent variable and the dependent variable independently \n",
    "because the independent variables tend to change in unison.\n",
    "\n",
    "#There are many reasons why multicollinearity may occur.\n",
    "\n",
    "It may occur as a result of:\n",
    "\n",
    "The inclusion of identical variables. For example, one may have identical variables in a dataset, such as mass in kilograms and mass in pounds.\n",
    "\n",
    "Creation of new variables that are dependent on others. When we create variables that depend on other variables, we introduce redundant information to the model. As such, we may inadvertently encourage the occurrence of multicollinearity.\n",
    "\n",
    "Inadequate data. In some cases, when the data is inadequate, we may experience multicollinearity. This is due to the small sample size, which might, in turn, experience great variance."
   ]
  },
  {
   "cell_type": "code",
   "execution_count": 4,
   "id": "9c650783",
   "metadata": {},
   "outputs": [
    {
     "ename": "NameError",
     "evalue": "name 'df' is not defined",
     "output_type": "error",
     "traceback": [
      "\u001b[1;31m---------------------------------------------------------------------------\u001b[0m",
      "\u001b[1;31mNameError\u001b[0m                                 Traceback (most recent call last)",
      "\u001b[1;32m~\\AppData\\Local\\Temp/ipykernel_14504/964094849.py\u001b[0m in \u001b[0;36m<module>\u001b[1;34m\u001b[0m\n\u001b[1;32m----> 1\u001b[1;33m \u001b[0mdf\u001b[0m\u001b[1;33m.\u001b[0m\u001b[0mhead\u001b[0m\u001b[1;33m(\u001b[0m\u001b[1;33m)\u001b[0m\u001b[1;33m\u001b[0m\u001b[1;33m\u001b[0m\u001b[0m\n\u001b[0m",
      "\u001b[1;31mNameError\u001b[0m: name 'df' is not defined"
     ]
    }
   ],
   "source": [
    "df.head()"
   ]
  },
  {
   "cell_type": "code",
   "execution_count": null,
   "id": "de31a156",
   "metadata": {},
   "outputs": [],
   "source": [
    "from pandas_datareader import data\n",
    "rm = data.DataReader('^GSPC', 'yahoo', start='2015/01/01', end='2018/01/01')\n",
    "rm = rm.resample('M').last().pct_change()\n",
    "rm.head()\n"
   ]
  },
  {
   "cell_type": "code",
   "execution_count": null,
   "id": "5542e1f4",
   "metadata": {},
   "outputs": [],
   "source": [
    "df = df.join(rm['Adj Close'])\n",
    "df.head()"
   ]
  },
  {
   "cell_type": "code",
   "execution_count": null,
   "id": "de3ed96a",
   "metadata": {},
   "outputs": [],
   "source": [
    "df = df.rename(columns={'Adj Close': 'rm'})\n",
    "df.head()"
   ]
  },
  {
   "cell_type": "code",
   "execution_count": null,
   "id": "a44eeb9d",
   "metadata": {},
   "outputs": [],
   "source": [
    "results.summary()"
   ]
  },
  {
   "cell_type": "code",
   "execution_count": null,
   "id": "e213b334",
   "metadata": {},
   "outputs": [],
   "source": [
    "y_3, X_3 = dmatrices('arkk ~ rlg + rlv + rm', data=df, return_type='dataframe')\n",
    "model_3 = sm.OLS(y_3, X_3)\n",
    "results_3 = model_3.fit()\n",
    "results_3.summary()"
   ]
  },
  {
   "cell_type": "code",
   "execution_count": null,
   "id": "0392d0a1",
   "metadata": {},
   "outputs": [],
   "source": [
    "from pandas.plotting import scatter_matrix\n",
    "import matplotlib.pyplot as plt\n",
    "scatter_matrix(df[['arkk', 'rlg', 'rlv', 'rm']], figsize=(15, 10))\n",
    "plt.show()"
   ]
  },
  {
   "cell_type": "code",
   "execution_count": null,
   "id": "2670eedb",
   "metadata": {},
   "outputs": [],
   "source": []
  },
  {
   "cell_type": "code",
   "execution_count": null,
   "id": "1cc26ca4",
   "metadata": {},
   "outputs": [],
   "source": []
  },
  {
   "cell_type": "code",
   "execution_count": null,
   "id": "89eaec87",
   "metadata": {},
   "outputs": [],
   "source": [
    "\n",
    "\n",
    "\n",
    "#How to check multicollinearity using python?\n",
    "\n",
    "#Multicollinearity mostly occurs in a regression model when two or more independent variable are highly correlated to \n",
    "#eachother.\n",
    "\n",
    "#The variance inflation factor (VIF) can be used to check the multicollinearity.\n",
    "\n",
    "#VIF starts at 1 and has no limits. VIF = 1, no correlation beetween idependent variables. VIF > 10 high \n",
    "#multicollinearity between independent variables.\n",
    "\n",
    "# Importing libraries\n",
    "import pandas as pd\n",
    "from statsmodels.stats.outliers_influence import variance_inflation_factor\n",
    "\n",
    "\n",
    "# Reading Files\n",
    "df= pd.read_csv('california_housing_train.csv')\n",
    "df.head()\n",
    "\n",
    "# Defining Function\n",
    "#We will define a function which will check the correlation between the independent variables.\n",
    "\n",
    "\n",
    "def calc_VIF(x):\n",
    "  vif= pd.DataFrame()\n",
    "  vif['variables']=x.columns\n",
    "  vif[\"VIF\"]=[variance_inflation_factor(x.values,i) for i in range(x.shape[1])]\n",
    "\n",
    "  return(vif)\n",
    "# showing multicollinearity\n",
    "x=df.iloc[:,:-1]\n",
    "calc_VIF(x)"
   ]
  },
  {
   "cell_type": "code",
   "execution_count": null,
   "id": "f087b750",
   "metadata": {},
   "outputs": [],
   "source": [
    "import pandas as pd\n",
    "import seaborn as sns\n",
    "import matplotlib.pylab as plt"
   ]
  },
  {
   "cell_type": "code",
   "execution_count": null,
   "id": "d102aaaf",
   "metadata": {},
   "outputs": [],
   "source": [
    "from statsmodels.stats.outliers_influence import variance_inflation_factor"
   ]
  },
  {
   "cell_type": "code",
   "execution_count": null,
   "id": "f0e753c6",
   "metadata": {},
   "outputs": [],
   "source": [
    "df = pd.read_csv(\"Advertising1.csv\")"
   ]
  },
  {
   "cell_type": "code",
   "execution_count": null,
   "id": "3f197875",
   "metadata": {},
   "outputs": [],
   "source": [
    "df.drop(['Unnamed: 0'],1,inplace=True)\n",
    "df.head()"
   ]
  },
  {
   "cell_type": "code",
   "execution_count": null,
   "id": "d7f0d1df",
   "metadata": {},
   "outputs": [],
   "source": [
    "df.isnull().sum()"
   ]
  },
  {
   "cell_type": "code",
   "execution_count": null,
   "id": "312d84d3",
   "metadata": {},
   "outputs": [],
   "source": [
    "#Corelation Metrics\n",
    "df.iloc[:,1:].corr()"
   ]
  },
  {
   "cell_type": "code",
   "execution_count": null,
   "id": "0af5351b",
   "metadata": {},
   "outputs": [],
   "source": [
    "sns.heatmap(df.corr(),linewidth=1.5,square=True, cmap=\"YlGnBu\")"
   ]
  },
  {
   "cell_type": "code",
   "execution_count": null,
   "id": "188e7d2a",
   "metadata": {},
   "outputs": [],
   "source": [
    "#Variance Inflation Factor\n",
    "def calc_vif(X):\n",
    "\n",
    "    # Calculating VIF\n",
    "    vif = pd.DataFrame()\n",
    "    vif[\"variables\"] = X.columns\n",
    "    vif[\"VIF\"] = [variance_inflation_factor(X.values, i) for i in range(X.shape[1])]\n",
    "\n",
    "    return(vif)"
   ]
  },
  {
   "cell_type": "code",
   "execution_count": null,
   "id": "8c2e77f9",
   "metadata": {},
   "outputs": [],
   "source": [
    "X = df.iloc[:,:-1]\n",
    "calc_vif(X)"
   ]
  },
  {
   "cell_type": "code",
   "execution_count": null,
   "id": "1a7a29fe",
   "metadata": {},
   "outputs": [],
   "source": []
  }
 ],
 "metadata": {
  "kernelspec": {
   "display_name": "Python 3 (ipykernel)",
   "language": "python",
   "name": "python3"
  },
  "language_info": {
   "codemirror_mode": {
    "name": "ipython",
    "version": 3
   },
   "file_extension": ".py",
   "mimetype": "text/x-python",
   "name": "python",
   "nbconvert_exporter": "python",
   "pygments_lexer": "ipython3",
   "version": "3.9.7"
  }
 },
 "nbformat": 4,
 "nbformat_minor": 5
}
